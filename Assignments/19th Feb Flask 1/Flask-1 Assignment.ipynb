{
 "cells": [
  {
   "cell_type": "markdown",
   "metadata": {},
   "source": [
    "![](Pw.png)\n",
    "\n",
    "## Name:                             Mahfuz Ronnie\n",
    "## Course Name:                Data Science Masters\n",
    "## Batch Name:                  ‘Impact Batch’ English\n",
    "## Assignment Name:        22nd Feb Flask 1\n",
    "## Submission Date:          25th March 2023"
   ]
  },
  {
   "cell_type": "markdown",
   "metadata": {},
   "source": [
    "# Q1. What is Flask Framework? What are the advantages of Flask Framework?"
   ]
  },
  {
   "cell_type": "markdown",
   "metadata": {},
   "source": [
    "### Flask is a web application framework written in Python. It was developed by Armin Ronacher, who led a team of international Python enthusiasts called Poocco.\n",
    "\n",
    "####  Advantages of using Flask Framework\n",
    "\n",
    "* Flask frame work is scalable: Size is everything, and Flask's status as a microframework means that you can use it to grow a tech project such as a web app incredibly quickly.\n",
    "* Lightweight: Flask is a lightweight framework because it is independent of external libraries and it gives a quick start for web development having complex application. \n",
    "* Compatible: Flask is compatible with the latest technologies such as machine learning, agile development, cloud technologies.\n",
    "* It's flexible\n",
    "* Easy to negotiate\n",
    "* Low Maintenance cost etc."
   ]
  },
  {
   "cell_type": "markdown",
   "metadata": {},
   "source": [
    "# Q2. Create a simple Flask application to display ‘Hello World!!’. Attach the screenshot of the output in Jupyter Notebook."
   ]
  },
  {
   "cell_type": "markdown",
   "metadata": {},
   "source": [
    "![](Hello_World.JPG)"
   ]
  },
  {
   "cell_type": "markdown",
   "metadata": {},
   "source": [
    "# Q3. What is App routing in Flask? Why do we use app routes?"
   ]
  },
  {
   "cell_type": "markdown",
   "metadata": {},
   "source": [
    "### App routing is the technique used to map the specific URL with the associated function intended to perform some task. The Latest Web frameworks use the routing technique to help users remember application URLs. It is helpful to access the desired page directly without navigating from the home page.\n",
    "\n",
    "### We used app routes to  map the specific URL with the associated function that is intended to perform some task. It is used to access some particular page like Flask Tutorial in the web application."
   ]
  },
  {
   "cell_type": "markdown",
   "metadata": {},
   "source": [
    "# Q4. Create a “/welcome” route to display the welcome message “Welcome to ABC Corporation” and a “/” route to show the following details:\n",
    "## Company Name: ABC Corporation\n",
    "## Location: India\n",
    "## Contact Detail: 999-999-9999"
   ]
  },
  {
   "cell_type": "markdown",
   "metadata": {},
   "source": [
    "### '/welcome' route\n",
    "![](welcome_route.JPG)\n",
    "### '/' route\n",
    "![](route.JPG)"
   ]
  },
  {
   "cell_type": "markdown",
   "metadata": {},
   "source": [
    "# Q5. What function is used in Flask for URL Building? Write a Python code to demonstrate the working of the url_for() function."
   ]
  },
  {
   "cell_type": "markdown",
   "metadata": {},
   "source": [
    "### The 'url_for()' function is used in Flask for URL building. \n",
    "#### Below python code and demonstrate the working or the url_for() function. \n",
    "![](Code.JPG)\n",
    "![](working_url.JPG)"
   ]
  }
 ],
 "metadata": {
  "kernelspec": {
   "display_name": "Python 3",
   "language": "python",
   "name": "python3"
  },
  "language_info": {
   "codemirror_mode": {
    "name": "ipython",
    "version": 3
   },
   "file_extension": ".py",
   "mimetype": "text/x-python",
   "name": "python",
   "nbconvert_exporter": "python",
   "pygments_lexer": "ipython3",
   "version": "3.8.5"
  }
 },
 "nbformat": 4,
 "nbformat_minor": 4
}
