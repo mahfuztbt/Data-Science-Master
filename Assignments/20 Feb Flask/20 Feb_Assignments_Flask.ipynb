{
 "cells": [
  {
   "cell_type": "markdown",
   "id": "cf138738-950f-4d18-bcd8-1ab47ec944ef",
   "metadata": {},
   "source": [
    "![](Pw.png)"
   ]
  },
  {
   "cell_type": "markdown",
   "id": "0cd0089b-b961-47a6-9ec2-7146123e416b",
   "metadata": {},
   "source": [
    "## Name:                       Mahfuz Ronnie\n",
    "## Course Name:                Data Science Masters\n",
    "## Batch Name:                ‘Impact Batch’ English\n",
    "## Assignment Name:            23rd Feb Flask\n",
    "## Submission Date:            24th March 2023\n"
   ]
  },
  {
   "cell_type": "code",
   "execution_count": null,
   "id": "d64a9b13-0f98-458a-beef-f192abd7ba52",
   "metadata": {},
   "outputs": [],
   "source": []
  },
  {
   "cell_type": "markdown",
   "id": "82a2f1e2-cbbb-4c66-9ed5-0ab652dfa3d3",
   "metadata": {},
   "source": [
    "# Q1. Expaln GET and POST methods"
   ]
  },
  {
   "cell_type": "markdown",
   "id": "e802b240-2ceb-42e5-8be8-e4eb2b864a04",
   "metadata": {},
   "source": [
    "### The GET method requests a representation of the specified resource. Requests using GET should only retrieve data. The HEAD method asks for a response identical to a GET request, but without the response body. In Google search we use GET methods.\n",
    "\n",
    "### In computing, POST is a request method supported by HTTP used by the World Wide Web. By design, the POST request method requests that a web server accept the data enclosed in the body of the request message, most likely for storing it. It is often used when uploading a file or when submitting a completed web form. In gmail login we use POST methods."
   ]
  },
  {
   "cell_type": "markdown",
   "id": "88d9cc51-c978-40ca-959a-80be13f79dfb",
   "metadata": {},
   "source": [
    "# Q2. Why request used in Flask?"
   ]
  },
  {
   "cell_type": "markdown",
   "id": "a8c817ff-156d-4769-a388-984d8a3776a5",
   "metadata": {},
   "source": [
    "### To access the incoming data in flask, we use request object in flask. The request object holds all incoming data from the request which includes the mimetype, referrer, raw data, HTTP methods and headers, among other things."
   ]
  },
  {
   "cell_type": "markdown",
   "id": "7f440e9a-1eac-4ddc-8ba5-3e9f922c8edb",
   "metadata": {},
   "source": [
    "# Q3. Why is redirect() used in Flask?"
   ]
  },
  {
   "cell_type": "markdown",
   "id": "8b30edff-e8d4-4f17-a733-199bc548fb63",
   "metadata": {},
   "source": [
    "### Flask redirect is defined as a function in flask. In flask to allows developers to redirect users to a specified URL and assign a specified status code we use redirect() in flask. When redirect() function is called, a response object is returned, and the redirection happens to the target location with the status code."
   ]
  },
  {
   "cell_type": "markdown",
   "id": "f98f64b0-0b61-4191-82ba-a05cbc927325",
   "metadata": {},
   "source": [
    "# Q4. What are templates in Flask? Why is the render_template() function used?"
   ]
  },
  {
   "cell_type": "markdown",
   "id": "e1a7b496-6b2e-4b66-886f-d4c8ace4c7c9",
   "metadata": {},
   "source": [
    "### Templates are files that contain static data as well as placeholders for dynamic data. A template is rendered with specific data to produce a final document. Flask uses the Jinja template library to render templates. In our application, we will use templates to render HTML which will display in our browser."
   ]
  },
  {
   "cell_type": "markdown",
   "id": "766af16c-21c7-45db-876c-c74a49a1c9f1",
   "metadata": {},
   "source": [
    "# Q5. Create a simple API. Use Postman to test it. Attach the screenshot of the output in the Jupyter Notebook."
   ]
  },
  {
   "cell_type": "markdown",
   "id": "991dd6bf-8081-45f9-b618-3f6a601ba25e",
   "metadata": {},
   "source": [
    "### Below is the screenshot using postman to test the API.\n",
    "\n",
    "## Example of Sum\n",
    "![](sum_postman.JPG)\n",
    "\n",
    "## Example of Divide\n",
    "![](Divide_P.JPG)"
   ]
  },
  {
   "cell_type": "code",
   "execution_count": null,
   "id": "106a6704-f96a-4b01-8f6b-dae5a9660016",
   "metadata": {},
   "outputs": [],
   "source": []
  }
 ],
 "metadata": {
  "kernelspec": {
   "display_name": "Python 3 (ipykernel)",
   "language": "python",
   "name": "python3"
  },
  "language_info": {
   "codemirror_mode": {
    "name": "ipython",
    "version": 3
   },
   "file_extension": ".py",
   "mimetype": "text/x-python",
   "name": "python",
   "nbconvert_exporter": "python",
   "pygments_lexer": "ipython3",
   "version": "3.10.8"
  }
 },
 "nbformat": 4,
 "nbformat_minor": 5
}
