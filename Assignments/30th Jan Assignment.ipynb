{
 "cells": [
  {
   "cell_type": "markdown",
   "id": "951459af-e9b7-4d32-805c-6f2e13ca5905",
   "metadata": {},
   "source": [
    "## Q1: Write a program to accept percentage from the user and display the grade according to the following criteria:"
   ]
  },
  {
   "cell_type": "code",
   "execution_count": 1,
   "id": "fcfcf6e4-7347-4ab0-a6a4-cbf2f2263141",
   "metadata": {},
   "outputs": [
    {
     "name": "stdin",
     "output_type": "stream",
     "text": [
      "Enter your obtained Marks:  92\n"
     ]
    },
    {
     "name": "stdout",
     "output_type": "stream",
     "text": [
      "A\n"
     ]
    }
   ],
   "source": [
    "marks = int(input(\"Enter your obtained Marks: \"))\n",
    "\n",
    "\n",
    "if marks>90: \n",
    "    print(\"A\")\n",
    "elif marks>80 and marks<=90:\n",
    "    print(\"B\")\n",
    "elif marks>=60 and marks<=80:\n",
    "    print(\"C\")\n",
    "else:\n",
    "    print(\"D\")"
   ]
  },
  {
   "cell_type": "markdown",
   "id": "9f423fcd-3fce-49d2-8bb8-f304cb570960",
   "metadata": {},
   "source": [
    "## Q2. "
   ]
  },
  {
   "cell_type": "code",
   "execution_count": 11,
   "id": "3459a9b5-5e0f-45cf-957f-3b3e0f713935",
   "metadata": {},
   "outputs": [
    {
     "name": "stdin",
     "output_type": "stream",
     "text": [
      "Please Enter Cost Price of Bike in Rs:  678663\n"
     ]
    },
    {
     "name": "stdout",
     "output_type": "stream",
     "text": [
      "You have to pay 15% road tax for this Bike.\n"
     ]
    }
   ],
   "source": [
    "cost_price_bike = int(input(\"Please Enter Cost Price of Bike in Rs: \"))\n",
    "\n",
    "\n",
    "if cost_price_bike > 100000: \n",
    "    print(\"You have to pay 15% road tax for this Bike.\")\n",
    "elif cost_price_bike > 50000 and cost_price_bike <= 100000:\n",
    "    print(\"You have to pay 10% road tax for this Bike.\")\n",
    "else:\n",
    "    print(\"You have to pay 5% road tax for this Bike.\")"
   ]
  },
  {
   "cell_type": "markdown",
   "id": "963faf09-251c-4e9a-a6d6-ce98fa8996cb",
   "metadata": {},
   "source": [
    "Q3."
   ]
  },
  {
   "cell_type": "code",
   "execution_count": 27,
   "id": "1044faaa-2590-4e35-9741-80613bbe4087",
   "metadata": {},
   "outputs": [
    {
     "name": "stdout",
     "output_type": "stream",
     "text": [
      "Enter your city Name:\n"
     ]
    },
    {
     "name": "stdin",
     "output_type": "stream",
     "text": [
      " Agra\n"
     ]
    },
    {
     "name": "stdout",
     "output_type": "stream",
     "text": [
      "Monuments of this city is Taj Mahal\n"
     ]
    }
   ],
   "source": [
    "print(\"Enter your city Name:\")\n",
    "city_name = str(input())\n",
    "\n",
    "if city_name == 'Delhi':\n",
    "    print(\"Monuments of this city is Red Fort\")\n",
    "elif city_name == 'Agra' or city_name == 'Jaipur':\n",
    "    print(\"Monuments of this city is Taj Mahal\")\n",
    "else:\n",
    "    print(\"You put wrong city name, please enter Jaipur, Delhi or Agra\")"
   ]
  },
  {
   "cell_type": "code",
   "execution_count": null,
   "id": "4eeb2279-1cad-495b-a95d-3af7415e8116",
   "metadata": {},
   "outputs": [],
   "source": []
  },
  {
   "cell_type": "markdown",
   "id": "e78ae6fa-4eb1-4c54-bdf3-1cceccbbd0c3",
   "metadata": {},
   "source": [
    "## Q4. Check how many times a given number can be divided by 3 before it is less than or equal to 10"
   ]
  },
  {
   "cell_type": "code",
   "execution_count": 63,
   "id": "28769c42-d9b3-47f3-9ef1-ba83d8df3e8d",
   "metadata": {},
   "outputs": [
    {
     "name": "stdin",
     "output_type": "stream",
     "text": [
      "Enter a number:  56\n"
     ]
    },
    {
     "name": "stdout",
     "output_type": "stream",
     "text": [
      "2 times the number can be divided by three before it is less than or equal to 10.\n"
     ]
    }
   ],
   "source": [
    "input_num = int(input(\"Enter a number: \"))\n",
    "result = count_divisions(input_num)\n",
    "\n",
    "def count_divisions(num):\n",
    "    count = 0\n",
    "    while num > 10:\n",
    "        num = num / 3\n",
    "        count += 1\n",
    "    return count\n",
    "\n",
    "\n",
    "print(f\"{result} times the number can be divided by three before it is less than or equal to 10.\")\n"
   ]
  },
  {
   "cell_type": "markdown",
   "id": "51873123-ae93-4f53-a21b-59729e2fc563",
   "metadata": {},
   "source": [
    "## Q5. Why and when to use while loop in python give a detailed description with example\n",
    "### Python while loop is used to run a block code until a certain condition is met. Here, A while loop evaluates the condition. If the condition evaluates to True , the code inside the while loop is executed.\n"
   ]
  },
  {
   "cell_type": "code",
   "execution_count": 1,
   "id": "543585b8-5f7d-4c6c-8376-534ba329f25f",
   "metadata": {},
   "outputs": [
    {
     "name": "stdout",
     "output_type": "stream",
     "text": [
      "1\n",
      "2\n",
      "3\n",
      "4\n",
      "5\n"
     ]
    }
   ],
   "source": [
    "# initialize the variable\n",
    "i = 1\n",
    "n = 5\n",
    "\n",
    "# while loop from i = 1 to 5\n",
    "while i <= n:\n",
    "    print(i)\n",
    "    i = i + 1"
   ]
  },
  {
   "cell_type": "markdown",
   "id": "559ec964-f772-4288-a4ea-5f5150a37742",
   "metadata": {},
   "source": [
    "# Q6. Use nested while loop to print 3 different pattern"
   ]
  },
  {
   "cell_type": "code",
   "execution_count": 2,
   "id": "e8a1c681-b7c3-491a-8bf3-670610245789",
   "metadata": {},
   "outputs": [
    {
     "name": "stdin",
     "output_type": "stream",
     "text": [
      "Enter number of rows :  7\n"
     ]
    },
    {
     "name": "stdout",
     "output_type": "stream",
     "text": [
      "* \n",
      "* * \n",
      "* * * \n",
      "* * * * \n",
      "* * * * * \n",
      "* * * * * * \n",
      "* * * * * * * \n"
     ]
    }
   ],
   "source": [
    "# pattern 1\n",
    "n = int(input('Enter number of rows : '))\n",
    " \n",
    "i = 1\n",
    "while i <= n :\n",
    "    j = 1\n",
    "    while j <= i:\n",
    "        print(\"*\", end = \" \")\n",
    "        j += 1\n",
    "    print()\n",
    "    i += 1"
   ]
  },
  {
   "cell_type": "code",
   "execution_count": 3,
   "id": "cf7e830d-3b8a-4d72-8dd8-e357cddc8c58",
   "metadata": {},
   "outputs": [
    {
     "name": "stdin",
     "output_type": "stream",
     "text": [
      "Enter number of rows :  6\n"
     ]
    },
    {
     "name": "stdout",
     "output_type": "stream",
     "text": [
      "* * * * * * \n",
      "* * * * * \n",
      "* * * * \n",
      "* * * \n",
      "* * \n",
      "* \n"
     ]
    }
   ],
   "source": [
    "# pattern 2\n",
    "n = int(input('Enter number of rows : '))\n",
    " \n",
    "i = 1\n",
    "while i <= n :\n",
    "    j = n\n",
    "    while j >= i:\n",
    "        print(\"*\", end = \" \")\n",
    "        j -= 1\n",
    "    print()\n",
    "    i += 1"
   ]
  },
  {
   "cell_type": "code",
   "execution_count": 6,
   "id": "2409e6fa-3608-41dd-a08d-14ebdfc49c62",
   "metadata": {},
   "outputs": [
    {
     "name": "stdin",
     "output_type": "stream",
     "text": [
      "Enter the number of rows:  9\n"
     ]
    },
    {
     "name": "stdout",
     "output_type": "stream",
     "text": [
      "        * \n",
      "       * * \n",
      "      * * * \n",
      "     * * * * \n",
      "    * * * * * \n",
      "   * * * * * * \n",
      "  * * * * * * * \n",
      " * * * * * * * * \n",
      "* * * * * * * * * \n"
     ]
    }
   ],
   "source": [
    "# Patter 3\n",
    "def pattern(n):\n",
    "   i = 1\n",
    "   while i<=n:\n",
    "      # printing stars\n",
    "      print(\" \"*(n-i) + \"* \" * i)\n",
    "      i+=1 \n",
    " \n",
    "\n",
    "n = int(input('Enter the number of rows: '))\n",
    "\n",
    "# calling function\n",
    "pattern(n)"
   ]
  },
  {
   "cell_type": "markdown",
   "id": "a2846e45-42f9-4a93-ba89-ee68c06758c3",
   "metadata": {},
   "source": [
    "# Q7. Reverse a while loop to display numbers from 10 to 1"
   ]
  },
  {
   "cell_type": "code",
   "execution_count": 7,
   "id": "e66a81e5-8de8-4f9a-b4c2-dbe72001f57b",
   "metadata": {},
   "outputs": [
    {
     "name": "stdout",
     "output_type": "stream",
     "text": [
      "10\n",
      "9\n",
      "8\n",
      "7\n",
      "6\n",
      "5\n",
      "4\n",
      "3\n",
      "2\n",
      "1\n"
     ]
    }
   ],
   "source": [
    "i = 10\n",
    "while i > 0:\n",
    "    print(i)\n",
    "    i = i - 1"
   ]
  },
  {
   "cell_type": "markdown",
   "id": "f3aa9a4f-5f6a-4a09-b5b7-54854c21a7de",
   "metadata": {},
   "source": [
    "# Q8. Reverse a while loop to display numbers from 10 to 1"
   ]
  },
  {
   "cell_type": "code",
   "execution_count": 8,
   "id": "5449aaf1-9386-476d-9629-586111d70452",
   "metadata": {},
   "outputs": [
    {
     "name": "stdout",
     "output_type": "stream",
     "text": [
      "10\n",
      "9\n",
      "8\n",
      "7\n",
      "6\n",
      "5\n",
      "4\n",
      "3\n",
      "2\n",
      "1\n"
     ]
    }
   ],
   "source": [
    "i = 10\n",
    "while i > 0:\n",
    "    print(i)\n",
    "    i = i - 1"
   ]
  },
  {
   "cell_type": "code",
   "execution_count": null,
   "id": "11d56e55-cb16-4b78-abb1-5ca148d7812f",
   "metadata": {},
   "outputs": [],
   "source": []
  }
 ],
 "metadata": {
  "kernelspec": {
   "display_name": "Python 3 (ipykernel)",
   "language": "python",
   "name": "python3"
  },
  "language_info": {
   "codemirror_mode": {
    "name": "ipython",
    "version": 3
   },
   "file_extension": ".py",
   "mimetype": "text/x-python",
   "name": "python",
   "nbconvert_exporter": "python",
   "pygments_lexer": "ipython3",
   "version": "3.10.8"
  }
 },
 "nbformat": 4,
 "nbformat_minor": 5
}
