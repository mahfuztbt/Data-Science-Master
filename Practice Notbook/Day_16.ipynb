{
 "cells": [
  {
   "cell_type": "markdown",
   "id": "d392cd4b-79c1-4229-b7d7-c8a79884fa3e",
   "metadata": {},
   "source": [
    "# Exception Handling"
   ]
  },
  {
   "cell_type": "markdown",
   "id": "38ae6b82-1d75-4a6f-997b-bdb656e2adca",
   "metadata": {},
   "source": [
    "## List of General use exceptions"
   ]
  },
  {
   "cell_type": "code",
   "execution_count": 1,
   "id": "16888d25-0ab7-4eaf-910d-aeb0e883b4f9",
   "metadata": {},
   "outputs": [
    {
     "name": "stdout",
     "output_type": "stream",
     "text": [
      "division by zero\n"
     ]
    }
   ],
   "source": [
    "try:\n",
    "    a = 10\n",
    "    10/0\n",
    "except ZeroDivisionError as e:\n",
    "    print(e)"
   ]
  },
  {
   "cell_type": "code",
   "execution_count": 2,
   "id": "ac2dd5fc-c4ac-41c7-a113-2c324eee1599",
   "metadata": {},
   "outputs": [
    {
     "name": "stdout",
     "output_type": "stream",
     "text": [
      "invalid literal for int() with base 10: 'rony'\n"
     ]
    }
   ],
   "source": [
    "try:\n",
    "    int(\"rony\")\n",
    "except (ValueError, TypeError) as e:\n",
    "    print(e)"
   ]
  },
  {
   "cell_type": "code",
   "execution_count": 3,
   "id": "e247145b-44ac-4853-bcf9-f8a9a702fc4e",
   "metadata": {},
   "outputs": [
    {
     "name": "stdout",
     "output_type": "stream",
     "text": [
      "this will catch an erro\n"
     ]
    }
   ],
   "source": [
    "try:\n",
    "    int(\"rony\")\n",
    "except:\n",
    "    print(\"this will catch an erro\")"
   ]
  },
  {
   "cell_type": "code",
   "execution_count": 4,
   "id": "f124c1a7-a79e-4852-a3d0-59f072c57f48",
   "metadata": {},
   "outputs": [
    {
     "name": "stdout",
     "output_type": "stream",
     "text": [
      "No module named 'rony'\n"
     ]
    }
   ],
   "source": [
    "try:\n",
    "    import rony\n",
    "except ImportError as e:\n",
    "    print(e)"
   ]
  },
  {
   "cell_type": "code",
   "execution_count": 8,
   "id": "089ef323-1041-4c2b-beb3-6e2d33d3a5b7",
   "metadata": {},
   "outputs": [
    {
     "name": "stdout",
     "output_type": "stream",
     "text": [
      "'key10'\n"
     ]
    }
   ],
   "source": [
    "try:\n",
    "    d = {1: [3,4,5,6], \"key\": \"rony\"}\n",
    "    d[\"key10\"]\n",
    "except KeyError as e:\n",
    "    print(e)"
   ]
  },
  {
   "cell_type": "code",
   "execution_count": 10,
   "id": "1207e394-d1b0-4b4d-9719-82780d3d9af3",
   "metadata": {},
   "outputs": [
    {
     "name": "stdout",
     "output_type": "stream",
     "text": [
      "'str' object has no attribute 'test'\n"
     ]
    }
   ],
   "source": [
    "try:\n",
    "    \"ronny\".test()\n",
    "except AttributeError as e:\n",
    "    print(e)"
   ]
  },
  {
   "cell_type": "code",
   "execution_count": 11,
   "id": "a9ae67a7-6534-4fcb-b44c-6770ac88e0e7",
   "metadata": {},
   "outputs": [
    {
     "name": "stdout",
     "output_type": "stream",
     "text": [
      "list index out of range\n"
     ]
    }
   ],
   "source": [
    "try:\n",
    "    l = [1,2,3,4]\n",
    "    l [10]\n",
    "except IndexError as e:\n",
    "    print(e)"
   ]
  },
  {
   "cell_type": "code",
   "execution_count": 12,
   "id": "281799e6-8e6e-490a-82c3-b3b66bb146ec",
   "metadata": {},
   "outputs": [
    {
     "name": "stdout",
     "output_type": "stream",
     "text": [
      "unsupported operand type(s) for +: 'int' and 'str'\n"
     ]
    }
   ],
   "source": [
    "try:\n",
    "    123+ \"rony\"\n",
    "except TypeError as e:\n",
    "    print(e)"
   ]
  },
  {
   "cell_type": "code",
   "execution_count": 13,
   "id": "c7a42459-3ad9-4bcc-9a24-dd1da75ba708",
   "metadata": {},
   "outputs": [
    {
     "name": "stdout",
     "output_type": "stream",
     "text": [
      "[Errno 2] No such file or directory: 'text5.txt'\n"
     ]
    }
   ],
   "source": [
    "try:\n",
    "    with open(\"text5.txt\", 'r') as f:\n",
    "        f.read()\n",
    "except FileNotFoundError as e:\n",
    "    print(e)"
   ]
  },
  {
   "cell_type": "code",
   "execution_count": 15,
   "id": "2aad67c4-cde2-47bb-8f62-f940b4ee83ff",
   "metadata": {},
   "outputs": [
    {
     "name": "stdout",
     "output_type": "stream",
     "text": [
      "test [Errno 2] No such file or directory: 'text5.txt'\n"
     ]
    }
   ],
   "source": [
    "try:\n",
    "    with open(\"text5.txt\", 'r') as f:\n",
    "        f.read()\n",
    "except Exception as e:\n",
    "    print(\"test\", e)\n",
    "except FileNotFoundError as e:\n",
    "    print(\"this is my file not found\", e)"
   ]
  },
  {
   "cell_type": "code",
   "execution_count": 17,
   "id": "49f2ed6b-7151-481b-ac27-e5d7f74df192",
   "metadata": {},
   "outputs": [],
   "source": [
    "def test(file):\n",
    "    try:\n",
    "        with open(file, 'r') as f:\n",
    "            f.read()\n",
    "    except Exception as e:\n",
    "        print(\"test\", e)\n",
    "    except FileNotFoundError as e:\n",
    "        print(\"this is my file not found\", e)"
   ]
  },
  {
   "cell_type": "code",
   "execution_count": null,
   "id": "a59b2d72-0d1a-43d6-b409-28f2a733b687",
   "metadata": {},
   "outputs": [],
   "source": []
  },
  {
   "cell_type": "code",
   "execution_count": null,
   "id": "b25d29f8-2b70-46df-8872-d0c1b2183b79",
   "metadata": {},
   "outputs": [],
   "source": []
  },
  {
   "cell_type": "markdown",
   "id": "c7103cae-df5a-452a-a93d-c6e09fbb9275",
   "metadata": {},
   "source": [
    "## Best Practive Exception Handling"
   ]
  },
  {
   "cell_type": "code",
   "execution_count": 18,
   "id": "0ef40256-39e0-43ee-be1e-d42eb21753a6",
   "metadata": {},
   "outputs": [
    {
     "name": "stdout",
     "output_type": "stream",
     "text": [
      "division by zero\n"
     ]
    }
   ],
   "source": [
    "#always use specific exception\n",
    "try:\n",
    "    10/0\n",
    "except Exception as e:\n",
    "    print(e)"
   ]
  },
  {
   "cell_type": "code",
   "execution_count": 19,
   "id": "94f3e5b9-5410-41cc-835e-747d1a0b02f5",
   "metadata": {},
   "outputs": [
    {
     "name": "stdout",
     "output_type": "stream",
     "text": [
      "division by zero\n"
     ]
    }
   ],
   "source": [
    "try:\n",
    "    a = 10\n",
    "    10/0\n",
    "except ZeroDivisionError as e:\n",
    "    print(e)"
   ]
  },
  {
   "cell_type": "code",
   "execution_count": 20,
   "id": "9b274f06-2129-4b07-a021-f372bbc558cd",
   "metadata": {},
   "outputs": [
    {
     "name": "stdout",
     "output_type": "stream",
     "text": [
      "this is my zero division error that i am handling division by zero\n"
     ]
    }
   ],
   "source": [
    "# print always a valid message\n",
    "try:\n",
    "    a = 10\n",
    "    10/0\n",
    "except ZeroDivisionError as e:\n",
    "    print(\"this is my zero division error that i am handling\", e)"
   ]
  },
  {
   "cell_type": "code",
   "execution_count": 21,
   "id": "22aef072-48c1-42dd-9a83-980d4ace5bcb",
   "metadata": {},
   "outputs": [],
   "source": [
    "import logging \n",
    "logging.basicConfig(filename = \"error.log\", level = logging.ERROR)\n",
    "\n",
    "try:\n",
    "    a = 10\n",
    "    10/0\n",
    "except ZeroDivisionError as e:\n",
    "    logging.error(\"this is my zero division error that i am handling {}\".format (e))"
   ]
  },
  {
   "cell_type": "code",
   "execution_count": 22,
   "id": "4c9b8620-da31-48fa-8587-fbcd7cf2266e",
   "metadata": {},
   "outputs": [],
   "source": [
    "## always avoid to write a multiple exeption handling\n",
    "try:\n",
    "    a = 10\n",
    "    10/0\n",
    "except FileNotFoundError as e:\n",
    "    logging.error(\"this is my file not found {}\".format (e))\n",
    "except ZeroDivisionError as e:\n",
    "    logging.error(\"this is my zero division error that i am handling\".format (e))"
   ]
  },
  {
   "cell_type": "code",
   "execution_count": 23,
   "id": "66d08edd-feff-4b44-9a51-cf52aec3f19e",
   "metadata": {},
   "outputs": [],
   "source": [
    "## always prepare proper documentation"
   ]
  },
  {
   "cell_type": "code",
   "execution_count": 25,
   "id": "3341bb2c-2f7b-4d0d-9c88-40014ff2c467",
   "metadata": {},
   "outputs": [],
   "source": [
    "## cleanup all the resources\n",
    "\n",
    "try:\n",
    "    with open(\"test6.txt\", 'w') as f:\n",
    "        f.write(\"this is my msg to file\")\n",
    "except FileNotFoundError as e:\n",
    "    logging.error(\"this is my file not found {}\".format (e))\n",
    "finally:\n",
    "    f.close()"
   ]
  },
  {
   "cell_type": "code",
   "execution_count": null,
   "id": "ca7d73d1-4ff7-44f0-bcea-76d80e2a33d1",
   "metadata": {},
   "outputs": [],
   "source": []
  }
 ],
 "metadata": {
  "kernelspec": {
   "display_name": "Python 3 (ipykernel)",
   "language": "python",
   "name": "python3"
  },
  "language_info": {
   "codemirror_mode": {
    "name": "ipython",
    "version": 3
   },
   "file_extension": ".py",
   "mimetype": "text/x-python",
   "name": "python",
   "nbconvert_exporter": "python",
   "pygments_lexer": "ipython3",
   "version": "3.10.8"
  }
 },
 "nbformat": 4,
 "nbformat_minor": 5
}
