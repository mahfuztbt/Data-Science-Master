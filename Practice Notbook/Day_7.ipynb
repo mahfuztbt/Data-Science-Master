{
 "cells": [
  {
   "cell_type": "code",
   "execution_count": 1,
   "id": "81da5bca-c7d9-4e5f-bec0-dd304568e520",
   "metadata": {},
   "outputs": [],
   "source": [
    "# Lamda Functions"
   ]
  },
  {
   "cell_type": "code",
   "execution_count": 2,
   "id": "9c9163fb-329f-4e27-a591-5d88491421e0",
   "metadata": {},
   "outputs": [],
   "source": [
    "n = 3\n",
    "p = 2"
   ]
  },
  {
   "cell_type": "code",
   "execution_count": 4,
   "id": "0926caa9-886e-4ba2-b92c-985f463118ba",
   "metadata": {},
   "outputs": [],
   "source": [
    "def test(n,p):\n",
    "    return n**p"
   ]
  },
  {
   "cell_type": "code",
   "execution_count": 5,
   "id": "44927ceb-5f91-46ae-9fb6-0faf075e4b3a",
   "metadata": {},
   "outputs": [
    {
     "data": {
      "text/plain": [
       "9"
      ]
     },
     "execution_count": 5,
     "metadata": {},
     "output_type": "execute_result"
    }
   ],
   "source": [
    "test(3,2)"
   ]
  },
  {
   "cell_type": "code",
   "execution_count": 6,
   "id": "64c10c08-bf2b-4724-9161-df47bec69927",
   "metadata": {},
   "outputs": [
    {
     "data": {
      "text/plain": [
       "6561"
      ]
     },
     "execution_count": 6,
     "metadata": {},
     "output_type": "execute_result"
    }
   ],
   "source": [
    "test(9,4)"
   ]
  },
  {
   "cell_type": "code",
   "execution_count": 7,
   "id": "210b481c-894f-474b-a5ce-4e755298f06d",
   "metadata": {},
   "outputs": [
    {
     "data": {
      "text/plain": [
       "<function __main__.<lambda>(n, p)>"
      ]
     },
     "execution_count": 7,
     "metadata": {},
     "output_type": "execute_result"
    }
   ],
   "source": [
    "lambda n,p: n**p"
   ]
  },
  {
   "cell_type": "code",
   "execution_count": 8,
   "id": "0b18ce44-be27-46bb-9745-9e741d15c044",
   "metadata": {},
   "outputs": [],
   "source": [
    "a = lambda n,p: n**p"
   ]
  },
  {
   "cell_type": "code",
   "execution_count": 9,
   "id": "528aeb1a-7c7f-4593-ab97-b8adc55ae70e",
   "metadata": {},
   "outputs": [
    {
     "data": {
      "text/plain": [
       "9"
      ]
     },
     "execution_count": 9,
     "metadata": {},
     "output_type": "execute_result"
    }
   ],
   "source": [
    "a(3,2)"
   ]
  },
  {
   "cell_type": "code",
   "execution_count": 10,
   "id": "1c77b821-cb88-420d-abe0-ff1eae0c8c63",
   "metadata": {},
   "outputs": [
    {
     "data": {
      "text/plain": [
       "6561"
      ]
     },
     "execution_count": 10,
     "metadata": {},
     "output_type": "execute_result"
    }
   ],
   "source": [
    "a(9,4)"
   ]
  },
  {
   "cell_type": "code",
   "execution_count": 11,
   "id": "b2f94bce-803d-4c42-a548-8ae474008b67",
   "metadata": {},
   "outputs": [],
   "source": [
    "add = lambda x,y: x + y"
   ]
  },
  {
   "cell_type": "code",
   "execution_count": 12,
   "id": "7ffdbfd4-f7ef-4f53-bcd6-e04de5a9e82a",
   "metadata": {},
   "outputs": [
    {
     "data": {
      "text/plain": [
       "975"
      ]
     },
     "execution_count": 12,
     "metadata": {},
     "output_type": "execute_result"
    }
   ],
   "source": [
    "add(877,98)"
   ]
  },
  {
   "cell_type": "code",
   "execution_count": 13,
   "id": "448e6e18-bf06-47fd-9ad2-da27cc64d849",
   "metadata": {},
   "outputs": [],
   "source": [
    "s = lambda x,y: x - y"
   ]
  },
  {
   "cell_type": "code",
   "execution_count": 14,
   "id": "000cbf8e-372a-4b28-a9f3-68da75d1a0ad",
   "metadata": {},
   "outputs": [
    {
     "data": {
      "text/plain": [
       "8444"
      ]
     },
     "execution_count": 14,
     "metadata": {},
     "output_type": "execute_result"
    }
   ],
   "source": [
    "s(8787,343)"
   ]
  },
  {
   "cell_type": "code",
   "execution_count": 15,
   "id": "3e5654a3-1906-4775-b539-56fca8f87e2c",
   "metadata": {},
   "outputs": [],
   "source": [
    "c_to_f = lambda c: (9/5)*c+32"
   ]
  },
  {
   "cell_type": "code",
   "execution_count": 16,
   "id": "575353e3-0401-4b18-8f0c-7137cf26a11b",
   "metadata": {},
   "outputs": [
    {
     "data": {
      "text/plain": [
       "93.2"
      ]
     },
     "execution_count": 16,
     "metadata": {},
     "output_type": "execute_result"
    }
   ],
   "source": [
    "c_to_f(34)"
   ]
  },
  {
   "cell_type": "code",
   "execution_count": 17,
   "id": "bf53e7af-0cda-4587-942b-9320e2d89749",
   "metadata": {},
   "outputs": [],
   "source": [
    "max_two = lambda x,y: x if x>y else y"
   ]
  },
  {
   "cell_type": "code",
   "execution_count": 18,
   "id": "26a7e819-ee9e-4138-b651-097d907bf7c8",
   "metadata": {},
   "outputs": [
    {
     "data": {
      "text/plain": [
       "34"
      ]
     },
     "execution_count": 18,
     "metadata": {},
     "output_type": "execute_result"
    }
   ],
   "source": [
    "max_two(34,33)"
   ]
  },
  {
   "cell_type": "code",
   "execution_count": 19,
   "id": "c90de51c-8883-4baf-aa45-f7853b7019e3",
   "metadata": {},
   "outputs": [
    {
     "data": {
      "text/plain": [
       "34"
      ]
     },
     "execution_count": 19,
     "metadata": {},
     "output_type": "execute_result"
    }
   ],
   "source": [
    "max_two(34,34)"
   ]
  },
  {
   "cell_type": "code",
   "execution_count": 20,
   "id": "62a8d4c3-286d-44f7-a2fe-0d1c519c3e9b",
   "metadata": {},
   "outputs": [
    {
     "data": {
      "text/plain": [
       "76"
      ]
     },
     "execution_count": 20,
     "metadata": {},
     "output_type": "execute_result"
    }
   ],
   "source": [
    "max_two(54,76)"
   ]
  },
  {
   "cell_type": "code",
   "execution_count": 21,
   "id": "93cb9e0e-f267-437d-9d49-6a147b2e9803",
   "metadata": {},
   "outputs": [],
   "source": [
    "s = \"pwskills\""
   ]
  },
  {
   "cell_type": "code",
   "execution_count": 22,
   "id": "71e1e812-4f30-45f0-aeb2-f297d94937c2",
   "metadata": {},
   "outputs": [
    {
     "data": {
      "text/plain": [
       "8"
      ]
     },
     "execution_count": 22,
     "metadata": {},
     "output_type": "execute_result"
    }
   ],
   "source": [
    "len(s)"
   ]
  },
  {
   "cell_type": "code",
   "execution_count": 23,
   "id": "1b8ae69d-083a-45c7-8e05-13f6bcaff452",
   "metadata": {},
   "outputs": [],
   "source": [
    "len_st = lambda s: len(s)"
   ]
  },
  {
   "cell_type": "code",
   "execution_count": 25,
   "id": "c50e2fb8-624a-4222-a583-26fe39fdf9a5",
   "metadata": {},
   "outputs": [
    {
     "data": {
      "text/plain": [
       "8"
      ]
     },
     "execution_count": 25,
     "metadata": {},
     "output_type": "execute_result"
    }
   ],
   "source": [
    "len_st(s)"
   ]
  },
  {
   "cell_type": "code",
   "execution_count": 26,
   "id": "ab18b97a-1094-467c-af71-173368d9ba8d",
   "metadata": {},
   "outputs": [],
   "source": [
    "## map, Reduce & Filter Functions"
   ]
  },
  {
   "cell_type": "code",
   "execution_count": 27,
   "id": "368bb5af-4e70-43b2-887f-63f4ca2ce13d",
   "metadata": {},
   "outputs": [],
   "source": [
    "l = [1,2,3,4,4,5]"
   ]
  },
  {
   "cell_type": "code",
   "execution_count": 32,
   "id": "4fd61bbd-3143-461f-8ef8-b8ad8524d98f",
   "metadata": {},
   "outputs": [],
   "source": [
    "def test(l):\n",
    "    l1 = []\n",
    "    for i in l:\n",
    "        l1.append(i**2)\n",
    "    return l1"
   ]
  },
  {
   "cell_type": "code",
   "execution_count": 33,
   "id": "f9225b13-ad73-4dc6-877a-75bcc402f699",
   "metadata": {},
   "outputs": [
    {
     "data": {
      "text/plain": [
       "[1, 4, 9, 16, 16, 25]"
      ]
     },
     "execution_count": 33,
     "metadata": {},
     "output_type": "execute_result"
    }
   ],
   "source": [
    "test(l)"
   ]
  },
  {
   "cell_type": "code",
   "execution_count": 34,
   "id": "628853fc-910e-49e6-8260-d4dfc7608f47",
   "metadata": {},
   "outputs": [],
   "source": [
    "def sq(x):\n",
    "    return x**2"
   ]
  },
  {
   "cell_type": "code",
   "execution_count": 37,
   "id": "47c8c4d5-1347-4099-a1d3-785e696244b7",
   "metadata": {},
   "outputs": [
    {
     "data": {
      "text/plain": [
       "[1, 4, 9, 16, 16, 25]"
      ]
     },
     "execution_count": 37,
     "metadata": {},
     "output_type": "execute_result"
    }
   ],
   "source": [
    "list(map(sq, l))"
   ]
  },
  {
   "cell_type": "code",
   "execution_count": 40,
   "id": "bbe390b8-35f2-4b59-83ba-a1c789dd31ee",
   "metadata": {},
   "outputs": [
    {
     "data": {
      "text/plain": [
       "[1, 4, 9, 16, 16, 25]"
      ]
     },
     "execution_count": 40,
     "metadata": {},
     "output_type": "execute_result"
    }
   ],
   "source": [
    "list(map(lambda x : x**2, l))"
   ]
  },
  {
   "cell_type": "code",
   "execution_count": 41,
   "id": "47a6662a-2469-4027-97d1-1468c91442ba",
   "metadata": {},
   "outputs": [
    {
     "data": {
      "text/plain": [
       "[11, 12, 13, 14, 14, 15]"
      ]
     },
     "execution_count": 41,
     "metadata": {},
     "output_type": "execute_result"
    }
   ],
   "source": [
    "list(map(lambda x : x+10, l))"
   ]
  },
  {
   "cell_type": "code",
   "execution_count": 42,
   "id": "8049d49e-e5f5-4c71-8580-759e3487f6bd",
   "metadata": {},
   "outputs": [
    {
     "data": {
      "text/plain": [
       "[-9, -8, -7, -6, -6, -5]"
      ]
     },
     "execution_count": 42,
     "metadata": {},
     "output_type": "execute_result"
    }
   ],
   "source": [
    "list(map(lambda x : x-10, l))"
   ]
  },
  {
   "cell_type": "code",
   "execution_count": 43,
   "id": "dec210ad-f53d-457c-9812-ef40236e2d9f",
   "metadata": {},
   "outputs": [
    {
     "data": {
      "text/plain": [
       "['11', '12', '13', '14', '14', '15']"
      ]
     },
     "execution_count": 43,
     "metadata": {},
     "output_type": "execute_result"
    }
   ],
   "source": [
    "list(map(lambda x : str(x+10), l))"
   ]
  },
  {
   "cell_type": "code",
   "execution_count": 44,
   "id": "bc1aa2ad-b9a8-4dcf-b1ee-39d1798bdb1b",
   "metadata": {},
   "outputs": [],
   "source": [
    "l1 = [23,4,5,6,6,4,6]\n",
    "l2 = [45,6,4,6,7,3,7]"
   ]
  },
  {
   "cell_type": "code",
   "execution_count": 45,
   "id": "e1ca9d34-55e8-40d5-9978-f12fbe57b481",
   "metadata": {},
   "outputs": [
    {
     "data": {
      "text/plain": [
       "[68, 10, 9, 12, 13, 7, 13]"
      ]
     },
     "execution_count": 45,
     "metadata": {},
     "output_type": "execute_result"
    }
   ],
   "source": [
    "list(map(lambda x,y: x+y, l1,l2))"
   ]
  },
  {
   "cell_type": "code",
   "execution_count": 48,
   "id": "40a884f6-4a21-4bfa-86f7-a89ec0f5de75",
   "metadata": {},
   "outputs": [],
   "source": [
    "f = lambda x,y: x+y"
   ]
  },
  {
   "cell_type": "code",
   "execution_count": 49,
   "id": "5dbfd5eb-a16a-4112-a5f0-e453cacbedd4",
   "metadata": {},
   "outputs": [
    {
     "data": {
      "text/plain": [
       "[68, 10, 9, 12, 13, 7, 13]"
      ]
     },
     "execution_count": 49,
     "metadata": {},
     "output_type": "execute_result"
    }
   ],
   "source": [
    "list(map(f, l1,l2))"
   ]
  },
  {
   "cell_type": "code",
   "execution_count": 50,
   "id": "9bf0ee13-f253-4190-91a7-10751a5b0e2c",
   "metadata": {},
   "outputs": [],
   "source": [
    "s = \"pwskills\""
   ]
  },
  {
   "cell_type": "code",
   "execution_count": 52,
   "id": "9da1f427-2c72-4de5-9ac2-8f1dc46cd3ee",
   "metadata": {},
   "outputs": [
    {
     "data": {
      "text/plain": [
       "['P', 'W', 'S', 'K', 'I', 'L', 'L', 'S']"
      ]
     },
     "execution_count": 52,
     "metadata": {},
     "output_type": "execute_result"
    }
   ],
   "source": [
    "list(map(lambda x: x.upper(), s))"
   ]
  },
  {
   "cell_type": "code",
   "execution_count": 53,
   "id": "9b3ca94e-26be-48a8-983a-4a0159dd419b",
   "metadata": {},
   "outputs": [
    {
     "data": {
      "text/plain": [
       "'PWSKILLS'"
      ]
     },
     "execution_count": 53,
     "metadata": {},
     "output_type": "execute_result"
    }
   ],
   "source": [
    "s.upper()"
   ]
  },
  {
   "cell_type": "code",
   "execution_count": 54,
   "id": "e747c6da-ea85-4551-b17a-b1b82debd1e1",
   "metadata": {},
   "outputs": [],
   "source": [
    "from functools import reduce"
   ]
  },
  {
   "cell_type": "code",
   "execution_count": 55,
   "id": "ed829b69-511e-4154-95ed-08a51822fa26",
   "metadata": {},
   "outputs": [],
   "source": [
    "l = [34,5,6,6,4,4]"
   ]
  },
  {
   "cell_type": "code",
   "execution_count": 56,
   "id": "c0d78a26-2b0f-4331-80da-ede5ba115afa",
   "metadata": {},
   "outputs": [
    {
     "data": {
      "text/plain": [
       "59"
      ]
     },
     "execution_count": 56,
     "metadata": {},
     "output_type": "execute_result"
    }
   ],
   "source": [
    "reduce (lambda x, y: x+y, l)"
   ]
  },
  {
   "cell_type": "code",
   "execution_count": 57,
   "id": "139636fb-02c5-45ab-98d8-6c75e7927d98",
   "metadata": {},
   "outputs": [],
   "source": [
    "def add(x,y):\n",
    "    return x+y"
   ]
  },
  {
   "cell_type": "code",
   "execution_count": 58,
   "id": "0e3a2e3f-caf3-4340-ba6a-6930264bef86",
   "metadata": {},
   "outputs": [
    {
     "data": {
      "text/plain": [
       "59"
      ]
     },
     "execution_count": 58,
     "metadata": {},
     "output_type": "execute_result"
    }
   ],
   "source": [
    "reduce (add, l)"
   ]
  },
  {
   "cell_type": "code",
   "execution_count": 60,
   "id": "5cccd73d-225b-44b5-b8f5-7ba4a90cea35",
   "metadata": {},
   "outputs": [
    {
     "data": {
      "text/plain": [
       "1"
      ]
     },
     "execution_count": 60,
     "metadata": {},
     "output_type": "execute_result"
    }
   ],
   "source": [
    "reduce (lambda x, y: x*y, [1])"
   ]
  },
  {
   "cell_type": "code",
   "execution_count": 61,
   "id": "03aeb41a-be1e-4048-8602-2be37cb43cde",
   "metadata": {},
   "outputs": [
    {
     "data": {
      "text/plain": [
       "34"
      ]
     },
     "execution_count": 61,
     "metadata": {},
     "output_type": "execute_result"
    }
   ],
   "source": [
    "reduce(lambda x,y : x if x>y else y, l)"
   ]
  },
  {
   "cell_type": "code",
   "execution_count": 62,
   "id": "a2404b11-fa50-4ec7-a60f-438ea91246d7",
   "metadata": {},
   "outputs": [
    {
     "data": {
      "text/plain": [
       "[34, 5, 6, 6, 4, 4]"
      ]
     },
     "execution_count": 62,
     "metadata": {},
     "output_type": "execute_result"
    }
   ],
   "source": [
    "l "
   ]
  },
  {
   "cell_type": "code",
   "execution_count": 63,
   "id": "e4b68159-7dec-470d-a42a-76eaf0c515f3",
   "metadata": {},
   "outputs": [
    {
     "data": {
      "text/plain": [
       "<filter at 0x7f10a15af5e0>"
      ]
     },
     "execution_count": 63,
     "metadata": {},
     "output_type": "execute_result"
    }
   ],
   "source": [
    "filter(lambda x: x % 2 == 0, l)"
   ]
  },
  {
   "cell_type": "code",
   "execution_count": 64,
   "id": "0fa46970-2892-4a90-9753-493eef30e71c",
   "metadata": {},
   "outputs": [
    {
     "data": {
      "text/plain": [
       "[5]"
      ]
     },
     "execution_count": 64,
     "metadata": {},
     "output_type": "execute_result"
    }
   ],
   "source": [
    "list(filter(lambda x: x % 2 != 0, l))"
   ]
  },
  {
   "cell_type": "code",
   "execution_count": 66,
   "id": "7c80e531-222a-438f-9296-717342a3bd0c",
   "metadata": {},
   "outputs": [
    {
     "data": {
      "text/plain": [
       "[34, 6, 6, 4, 4]"
      ]
     },
     "execution_count": 66,
     "metadata": {},
     "output_type": "execute_result"
    }
   ],
   "source": [
    "list(filter(lambda x: x % 2 == 0, l))"
   ]
  },
  {
   "cell_type": "code",
   "execution_count": 67,
   "id": "8d203ee3-1486-4d05-bf43-2d3ce0444a4a",
   "metadata": {},
   "outputs": [],
   "source": [
    "l1 = [-2,-4,-5,-6]"
   ]
  },
  {
   "cell_type": "code",
   "execution_count": 68,
   "id": "26040839-4e8e-4e64-b137-0fcf1c8fd9a3",
   "metadata": {},
   "outputs": [
    {
     "data": {
      "text/plain": [
       "[-2, -4, -5, -6]"
      ]
     },
     "execution_count": 68,
     "metadata": {},
     "output_type": "execute_result"
    }
   ],
   "source": [
    "list (filter(lambda x: x < 0, l1))"
   ]
  },
  {
   "cell_type": "code",
   "execution_count": 69,
   "id": "e6069894-be99-453e-b47f-eb8224126a4d",
   "metadata": {},
   "outputs": [],
   "source": [
    "l2 = [\"romy\" , \"pwskill\", \"china\"]"
   ]
  },
  {
   "cell_type": "code",
   "execution_count": 70,
   "id": "eff769d5-a815-41c3-8fdf-eeac478057c9",
   "metadata": {},
   "outputs": [
    {
     "data": {
      "text/plain": [
       "['romy', 'china']"
      ]
     },
     "execution_count": 70,
     "metadata": {},
     "output_type": "execute_result"
    }
   ],
   "source": [
    "list(filter(lambda x: len(x) < 6, l2))"
   ]
  },
  {
   "cell_type": "code",
   "execution_count": null,
   "id": "5fffab2f-a19a-4b17-ad39-863769276e15",
   "metadata": {},
   "outputs": [],
   "source": []
  }
 ],
 "metadata": {
  "kernelspec": {
   "display_name": "Python 3 (ipykernel)",
   "language": "python",
   "name": "python3"
  },
  "language_info": {
   "codemirror_mode": {
    "name": "ipython",
    "version": 3
   },
   "file_extension": ".py",
   "mimetype": "text/x-python",
   "name": "python",
   "nbconvert_exporter": "python",
   "pygments_lexer": "ipython3",
   "version": "3.10.8"
  }
 },
 "nbformat": 4,
 "nbformat_minor": 5
}
