{
 "cells": [
  {
   "cell_type": "code",
   "execution_count": 1,
   "id": "6e4998a1-f7ef-4745-bd2f-02d7c3408724",
   "metadata": {},
   "outputs": [],
   "source": [
    "# Object-Oriented Programming language"
   ]
  },
  {
   "cell_type": "code",
   "execution_count": 2,
   "id": "f62d8bfd-e960-452a-93de-31ca5a4dcd24",
   "metadata": {},
   "outputs": [],
   "source": [
    "a = 1"
   ]
  },
  {
   "cell_type": "code",
   "execution_count": 3,
   "id": "89a32ee8-abd5-4753-9df4-0cf37dc97c63",
   "metadata": {},
   "outputs": [
    {
     "name": "stdout",
     "output_type": "stream",
     "text": [
      "<class 'int'>\n"
     ]
    }
   ],
   "source": [
    "print(type(a))"
   ]
  },
  {
   "cell_type": "code",
   "execution_count": 4,
   "id": "dc63e11f-3de0-40f7-9a20-dc51630ffad6",
   "metadata": {},
   "outputs": [
    {
     "name": "stdout",
     "output_type": "stream",
     "text": [
      "<class 'str'>\n"
     ]
    }
   ],
   "source": [
    "print(type(\"pwskills\"))"
   ]
  },
  {
   "cell_type": "code",
   "execution_count": 6,
   "id": "3f1bfa19-d3a2-4af8-b915-0f26e11fec57",
   "metadata": {},
   "outputs": [],
   "source": [
    "class test:\n",
    "    pass"
   ]
  },
  {
   "cell_type": "code",
   "execution_count": 7,
   "id": "dbabde18-55dd-4ed8-bce1-cdcdbc143a96",
   "metadata": {},
   "outputs": [],
   "source": [
    "a = test()"
   ]
  },
  {
   "cell_type": "code",
   "execution_count": 9,
   "id": "ac33aab4-9121-4d66-aab5-6e0718e0916a",
   "metadata": {},
   "outputs": [
    {
     "name": "stdout",
     "output_type": "stream",
     "text": [
      "<class '__main__.test'>\n"
     ]
    }
   ],
   "source": [
    "print(type(a))"
   ]
  },
  {
   "cell_type": "code",
   "execution_count": 15,
   "id": "573b2cd4-2bc9-4586-ade3-6af1add67172",
   "metadata": {},
   "outputs": [],
   "source": [
    "class pwskills:\n",
    "    def welcome_msg(self):\n",
    "        print(\"welcome to pwskills\")"
   ]
  },
  {
   "cell_type": "code",
   "execution_count": 16,
   "id": "951f3637-6b48-4e81-b21a-32bdf191841a",
   "metadata": {},
   "outputs": [],
   "source": [
    "rakibb = pwskills()"
   ]
  },
  {
   "cell_type": "code",
   "execution_count": 17,
   "id": "a190bf6d-d1d2-4cd8-8210-88951979ed80",
   "metadata": {},
   "outputs": [
    {
     "name": "stdout",
     "output_type": "stream",
     "text": [
      "welcome to pwskills\n"
     ]
    }
   ],
   "source": [
    "rakibb.welcome_msg()"
   ]
  },
  {
   "cell_type": "code",
   "execution_count": 18,
   "id": "4b46c559-b34f-437c-bde0-b258ac1fa984",
   "metadata": {},
   "outputs": [],
   "source": [
    "sohan = pwskills()"
   ]
  },
  {
   "cell_type": "code",
   "execution_count": 19,
   "id": "34847a39-27da-4007-8d91-cf53506a0586",
   "metadata": {},
   "outputs": [
    {
     "name": "stdout",
     "output_type": "stream",
     "text": [
      "welcome to pwskills\n"
     ]
    }
   ],
   "source": [
    "sohan.welcome_msg()"
   ]
  },
  {
   "cell_type": "code",
   "execution_count": 20,
   "id": "2d7d1fc0-4cc0-485c-bce0-f8540dc89c3a",
   "metadata": {},
   "outputs": [],
   "source": [
    "a = 1"
   ]
  },
  {
   "cell_type": "code",
   "execution_count": 21,
   "id": "270c4df9-8c67-4868-b61e-2046824e2323",
   "metadata": {},
   "outputs": [],
   "source": [
    "b = 2"
   ]
  },
  {
   "cell_type": "code",
   "execution_count": 22,
   "id": "a6743648-fb0c-4b38-8bb4-1885069a4833",
   "metadata": {},
   "outputs": [
    {
     "data": {
      "text/plain": [
       "1"
      ]
     },
     "execution_count": 22,
     "metadata": {},
     "output_type": "execute_result"
    }
   ],
   "source": [
    "a"
   ]
  },
  {
   "cell_type": "code",
   "execution_count": 23,
   "id": "db61f41c-3374-45d9-97b6-137fbe6afe83",
   "metadata": {},
   "outputs": [
    {
     "data": {
      "text/plain": [
       "2"
      ]
     },
     "execution_count": 23,
     "metadata": {},
     "output_type": "execute_result"
    }
   ],
   "source": [
    "b"
   ]
  },
  {
   "cell_type": "code",
   "execution_count": 50,
   "id": "5d7e35ad-bd85-4806-bc9f-ce5ac47583c6",
   "metadata": {},
   "outputs": [],
   "source": [
    "class pwskills1:\n",
    "    \n",
    "    def __init__(self , phone_number, email_id, student_id):\n",
    "        \n",
    "        self.phone_number = phone_number\n",
    "        self.email_id = email_id\n",
    "        self.student_id = student_id\n",
    "        \n",
    "    def return_student_detials(self):\n",
    "        return self.phone_number, self.email_id, self.student_id"
   ]
  },
  {
   "cell_type": "code",
   "execution_count": 51,
   "id": "6353ecb7-7e07-4222-9776-dbe1b6f68729",
   "metadata": {},
   "outputs": [],
   "source": [
    "sohan = pwskills1(999679869 , \"sohan@gmail.com\" , 102)"
   ]
  },
  {
   "cell_type": "code",
   "execution_count": 44,
   "id": "507b158c-547f-43c0-b882-2ca944d8268e",
   "metadata": {},
   "outputs": [],
   "source": [
    "class pwskills1:\n",
    "    \n",
    "    def __init__(self ,phone_number , email_id, student_id ):\n",
    "        \n",
    "        self.phone_number = phone_number\n",
    "        self.email_id = email_id\n",
    "        self.student_id = student_id\n",
    "        \n",
    "    \n",
    "    def return_student_detials(self):\n",
    "        return self.phone_number, self.email_id , self.student_id"
   ]
  },
  {
   "cell_type": "code",
   "execution_count": 41,
   "id": "b062f012-ae6a-43a0-8fc1-9503d2f97fa9",
   "metadata": {},
   "outputs": [],
   "source": [
    "sohan = pwskills1(999679869 , \"sohan@gmail.com\" , 102)"
   ]
  },
  {
   "cell_type": "code",
   "execution_count": 52,
   "id": "6c912a41-aee2-4932-8e7f-be45106c4d7e",
   "metadata": {},
   "outputs": [
    {
     "data": {
      "text/plain": [
       "999679869"
      ]
     },
     "execution_count": 52,
     "metadata": {},
     "output_type": "execute_result"
    }
   ],
   "source": [
    "sohan.phone_number"
   ]
  },
  {
   "cell_type": "code",
   "execution_count": 53,
   "id": "996bbe30-31b2-46e2-94da-e97a8f3a3d36",
   "metadata": {},
   "outputs": [
    {
     "data": {
      "text/plain": [
       "'sohan@gmail.com'"
      ]
     },
     "execution_count": 53,
     "metadata": {},
     "output_type": "execute_result"
    }
   ],
   "source": [
    "sohan.email_id"
   ]
  },
  {
   "cell_type": "code",
   "execution_count": 54,
   "id": "c07b936a-3062-4b80-b745-90495f6349a5",
   "metadata": {},
   "outputs": [
    {
     "data": {
      "text/plain": [
       "999679869"
      ]
     },
     "execution_count": 54,
     "metadata": {},
     "output_type": "execute_result"
    }
   ],
   "source": [
    "sohan.phone_number"
   ]
  },
  {
   "cell_type": "code",
   "execution_count": 55,
   "id": "e37ce59d-1334-4670-9bc4-7f972aa2d229",
   "metadata": {},
   "outputs": [
    {
     "data": {
      "text/plain": [
       "102"
      ]
     },
     "execution_count": 55,
     "metadata": {},
     "output_type": "execute_result"
    }
   ],
   "source": [
    "sohan.student_id"
   ]
  },
  {
   "cell_type": "code",
   "execution_count": 56,
   "id": "01344f0a-1947-4264-afea-fc96565aac0d",
   "metadata": {},
   "outputs": [
    {
     "data": {
      "text/plain": [
       "<bound method pwskills1.return_student_detials of <__main__.pwskills1 object at 0x7fd880983ee0>>"
      ]
     },
     "execution_count": 56,
     "metadata": {},
     "output_type": "execute_result"
    }
   ],
   "source": [
    "sohan.return_student_detials"
   ]
  },
  {
   "cell_type": "code",
   "execution_count": 57,
   "id": "2c2449d6-473b-41e9-aa67-63f51f1601e2",
   "metadata": {},
   "outputs": [
    {
     "data": {
      "text/plain": [
       "(999679869, 'sohan@gmail.com', 102)"
      ]
     },
     "execution_count": 57,
     "metadata": {},
     "output_type": "execute_result"
    }
   ],
   "source": [
    "sohan.return_student_detials()"
   ]
  },
  {
   "cell_type": "code",
   "execution_count": 58,
   "id": "c182cef6-7997-407e-8195-8ee45ad2279f",
   "metadata": {},
   "outputs": [],
   "source": [
    "rohan = pwskills1(4375847, \"gmail.com\", 4855)"
   ]
  },
  {
   "cell_type": "code",
   "execution_count": 59,
   "id": "ebfc302c-b63d-46b1-979a-1a42c4cf5f86",
   "metadata": {},
   "outputs": [
    {
     "data": {
      "text/plain": [
       "4855"
      ]
     },
     "execution_count": 59,
     "metadata": {},
     "output_type": "execute_result"
    }
   ],
   "source": [
    "rohan.student_id"
   ]
  },
  {
   "cell_type": "code",
   "execution_count": 60,
   "id": "925e0c09-4459-4efb-b7b7-4a3f4424c502",
   "metadata": {},
   "outputs": [
    {
     "data": {
      "text/plain": [
       "'gmail.com'"
      ]
     },
     "execution_count": 60,
     "metadata": {},
     "output_type": "execute_result"
    }
   ],
   "source": [
    "rohan.email_id"
   ]
  },
  {
   "cell_type": "code",
   "execution_count": 61,
   "id": "e3d00823-f534-408a-b63c-5dd5ed6397d3",
   "metadata": {},
   "outputs": [
    {
     "data": {
      "text/plain": [
       "4375847"
      ]
     },
     "execution_count": 61,
     "metadata": {},
     "output_type": "execute_result"
    }
   ],
   "source": [
    "rohan.phone_number"
   ]
  },
  {
   "cell_type": "code",
   "execution_count": 62,
   "id": "fcdc9d3b-2c43-4141-bbf8-9364d3caa492",
   "metadata": {},
   "outputs": [
    {
     "data": {
      "text/plain": [
       "(4375847, 'gmail.com', 4855)"
      ]
     },
     "execution_count": 62,
     "metadata": {},
     "output_type": "execute_result"
    }
   ],
   "source": [
    "rohan.return_student_detials()"
   ]
  },
  {
   "cell_type": "code",
   "execution_count": 63,
   "id": "3f325bcf-babe-4af0-8590-c896a7ba00c0",
   "metadata": {},
   "outputs": [],
   "source": [
    "class pwskills2:\n",
    "    \n",
    "    def __init__(rony , phone_number, email_id, student_id):\n",
    "        \n",
    "        rony.phone_number = phone_number\n",
    "        rony.email_id = email_id\n",
    "        rony.student_id = student_id\n",
    "        \n",
    "    def return_student_detials(self):\n",
    "        return rony.phone_number, rony.email_id, rony.student_id"
   ]
  },
  {
   "cell_type": "code",
   "execution_count": 64,
   "id": "a679a738-84fb-4d21-887d-2105f5ba98ad",
   "metadata": {},
   "outputs": [],
   "source": [
    "mohon = pwskills2(43279832, \"mohon@gmail.com\", 67698)"
   ]
  },
  {
   "cell_type": "code",
   "execution_count": 65,
   "id": "e1c759f1-f72e-42f9-9019-93e1d7932e7b",
   "metadata": {},
   "outputs": [
    {
     "data": {
      "text/plain": [
       "43279832"
      ]
     },
     "execution_count": 65,
     "metadata": {},
     "output_type": "execute_result"
    }
   ],
   "source": [
    "mohon.phone_number"
   ]
  },
  {
   "cell_type": "code",
   "execution_count": 71,
   "id": "c7c70ff8-0271-4299-aefe-9b0517296a4a",
   "metadata": {},
   "outputs": [],
   "source": [
    "class pwskills3:\n",
    "    \n",
    "    def __init__(rony , phone_number, email_id, student_id):\n",
    "        \n",
    "        rony.phone_number1 = phone_number\n",
    "        rony.email_id = email_id\n",
    "        rony.student_id = student_id\n",
    "        \n",
    "    def return_student_detials(self):\n",
    "        return rony.phone_number, rony.email_id, rony.student_id"
   ]
  },
  {
   "cell_type": "code",
   "execution_count": 72,
   "id": "8ec197d3-c28d-48ca-81b6-840e8013766c",
   "metadata": {},
   "outputs": [],
   "source": [
    "kohon = pwskills3(43279832, \"mohon@gmail.com\", 67698)"
   ]
  },
  {
   "cell_type": "code",
   "execution_count": 73,
   "id": "39665a2a-25ce-4da9-84fa-2e717b196410",
   "metadata": {},
   "outputs": [
    {
     "ename": "AttributeError",
     "evalue": "'pwskills3' object has no attribute 'phone_number'",
     "output_type": "error",
     "traceback": [
      "\u001b[0;31m---------------------------------------------------------------------------\u001b[0m",
      "\u001b[0;31mAttributeError\u001b[0m                            Traceback (most recent call last)",
      "Cell \u001b[0;32mIn[73], line 1\u001b[0m\n\u001b[0;32m----> 1\u001b[0m \u001b[43mkohon\u001b[49m\u001b[38;5;241;43m.\u001b[39;49m\u001b[43mphone_number\u001b[49m\n",
      "\u001b[0;31mAttributeError\u001b[0m: 'pwskills3' object has no attribute 'phone_number'"
     ]
    }
   ],
   "source": [
    "kohon.phone_number"
   ]
  },
  {
   "cell_type": "code",
   "execution_count": 74,
   "id": "aa933b9c-f700-4c5e-805e-dbaf90e362e7",
   "metadata": {},
   "outputs": [
    {
     "data": {
      "text/plain": [
       "43279832"
      ]
     },
     "execution_count": 74,
     "metadata": {},
     "output_type": "execute_result"
    }
   ],
   "source": [
    "kohon.phone_number1"
   ]
  },
  {
   "cell_type": "code",
   "execution_count": null,
   "id": "fc4a877e-3c4f-4b23-b257-5c8a3cc8612e",
   "metadata": {},
   "outputs": [],
   "source": []
  }
 ],
 "metadata": {
  "kernelspec": {
   "display_name": "Python 3 (ipykernel)",
   "language": "python",
   "name": "python3"
  },
  "language_info": {
   "codemirror_mode": {
    "name": "ipython",
    "version": 3
   },
   "file_extension": ".py",
   "mimetype": "text/x-python",
   "name": "python",
   "nbconvert_exporter": "python",
   "pygments_lexer": "ipython3",
   "version": "3.10.8"
  }
 },
 "nbformat": 4,
 "nbformat_minor": 5
}
