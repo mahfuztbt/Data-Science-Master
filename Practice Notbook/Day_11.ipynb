{
 "cells": [
  {
   "cell_type": "markdown",
   "id": "a4e5a754-8871-4f69-86db-37ad3f4d2180",
   "metadata": {},
   "source": [
    "## Polymorphism"
   ]
  },
  {
   "cell_type": "code",
   "execution_count": 1,
   "id": "e11f32d9-b78b-49b8-aa87-b51d48ce05e5",
   "metadata": {},
   "outputs": [],
   "source": [
    "def test(a,b):\n",
    "    return a + b"
   ]
  },
  {
   "cell_type": "code",
   "execution_count": 3,
   "id": "e391f668-e571-47db-ac12-26a1c7edc19d",
   "metadata": {},
   "outputs": [
    {
     "data": {
      "text/plain": [
       "9"
      ]
     },
     "execution_count": 3,
     "metadata": {},
     "output_type": "execute_result"
    }
   ],
   "source": [
    "test(4,5)"
   ]
  },
  {
   "cell_type": "code",
   "execution_count": 5,
   "id": "07de9010-dbc7-4e38-8580-5177ebbd3a2b",
   "metadata": {},
   "outputs": [
    {
     "data": {
      "text/plain": [
       "'rony mahfuz'"
      ]
     },
     "execution_count": 5,
     "metadata": {},
     "output_type": "execute_result"
    }
   ],
   "source": [
    "test(\"rony \", \"mahfuz\")"
   ]
  },
  {
   "cell_type": "code",
   "execution_count": 6,
   "id": "b66d2d7e-feb0-4e4d-b1f5-b3e7b19e5c76",
   "metadata": {},
   "outputs": [
    {
     "data": {
      "text/plain": [
       "[1, 3, 4, 5, 5, 45, 6, 6, 7]"
      ]
     },
     "execution_count": 6,
     "metadata": {},
     "output_type": "execute_result"
    }
   ],
   "source": [
    "test([1,3,4,5,5], [45,6,6,7])"
   ]
  },
  {
   "cell_type": "code",
   "execution_count": 7,
   "id": "65dc5b85-05d9-402c-bf74-8edca4d1f9c1",
   "metadata": {},
   "outputs": [],
   "source": [
    "class data_science:\n",
    "    def syllabus(self):\n",
    "        print(\"this is my method for data science syllabus\")"
   ]
  },
  {
   "cell_type": "code",
   "execution_count": 8,
   "id": "587855cd-db06-4b7a-bb92-62a400c1ac32",
   "metadata": {},
   "outputs": [],
   "source": [
    "class web_dev:\n",
    "    def syllabus(self):\n",
    "        print(\"this is my method for web development\")"
   ]
  },
  {
   "cell_type": "code",
   "execution_count": 9,
   "id": "b04fab11-f2fe-41ec-865e-1afd09531853",
   "metadata": {},
   "outputs": [],
   "source": [
    "def class_percer(class_obj):\n",
    "    for i in class_obj:\n",
    "        i.syllabus()"
   ]
  },
  {
   "cell_type": "code",
   "execution_count": 10,
   "id": "4a3d00e1-a04d-4008-b26c-ed80d4ee090a",
   "metadata": {},
   "outputs": [],
   "source": [
    "obj_data_science = data_science()"
   ]
  },
  {
   "cell_type": "code",
   "execution_count": 11,
   "id": "7229f2ac-79b3-410c-a346-dfb87740307a",
   "metadata": {},
   "outputs": [],
   "source": [
    "obj_web_dev = web_dev()"
   ]
  },
  {
   "cell_type": "code",
   "execution_count": 12,
   "id": "7456fe98-fe3e-4974-8c5c-1cb56a343496",
   "metadata": {},
   "outputs": [],
   "source": [
    "class_obj = [obj_data_science, obj_web_dev]"
   ]
  },
  {
   "cell_type": "code",
   "execution_count": 14,
   "id": "866f5f7d-991c-4804-9f8c-5e744e6e5dfd",
   "metadata": {},
   "outputs": [
    {
     "name": "stdout",
     "output_type": "stream",
     "text": [
      "this is my method for data science syllabus\n",
      "this is my method for web development\n"
     ]
    }
   ],
   "source": [
    "class_percer(class_obj)"
   ]
  },
  {
   "cell_type": "code",
   "execution_count": null,
   "id": "da7ec5a4-40da-43ef-a6d9-11c7a37cabec",
   "metadata": {},
   "outputs": [],
   "source": []
  },
  {
   "cell_type": "code",
   "execution_count": null,
   "id": "6b8e447f-423a-4887-b727-fb5423b48207",
   "metadata": {},
   "outputs": [],
   "source": []
  },
  {
   "cell_type": "markdown",
   "id": "386c5f80-66f4-484a-86b5-6e110e216d14",
   "metadata": {},
   "source": [
    "## Encapsulation"
   ]
  },
  {
   "cell_type": "code",
   "execution_count": 16,
   "id": "3f217cae-da57-4fbe-ac07-74bcc1f5629a",
   "metadata": {},
   "outputs": [],
   "source": [
    "class test:\n",
    "    def __init__(self, a, b):\n",
    "        self.a = a\n",
    "        self.b = b"
   ]
  },
  {
   "cell_type": "code",
   "execution_count": 18,
   "id": "f3b512f7-b6c4-4388-8ca3-2b45aa2b48a6",
   "metadata": {},
   "outputs": [],
   "source": [
    "t = test(45,44)"
   ]
  },
  {
   "cell_type": "code",
   "execution_count": 19,
   "id": "c5e88b7c-83d8-4f6e-9f60-48b4ee1afc4b",
   "metadata": {},
   "outputs": [
    {
     "data": {
      "text/plain": [
       "45"
      ]
     },
     "execution_count": 19,
     "metadata": {},
     "output_type": "execute_result"
    }
   ],
   "source": [
    "t.a"
   ]
  },
  {
   "cell_type": "code",
   "execution_count": 20,
   "id": "64f5407a-7ea3-4eec-b977-15a73173be02",
   "metadata": {},
   "outputs": [
    {
     "data": {
      "text/plain": [
       "44"
      ]
     },
     "execution_count": 20,
     "metadata": {},
     "output_type": "execute_result"
    }
   ],
   "source": [
    "t.b"
   ]
  },
  {
   "cell_type": "code",
   "execution_count": 21,
   "id": "cae9db97-b6c5-4350-95de-3cc136814f67",
   "metadata": {},
   "outputs": [],
   "source": [
    "t.a = 343"
   ]
  },
  {
   "cell_type": "code",
   "execution_count": 22,
   "id": "f17a2ac7-147c-41d0-b272-7f8fc531954c",
   "metadata": {},
   "outputs": [
    {
     "data": {
      "text/plain": [
       "343"
      ]
     },
     "execution_count": 22,
     "metadata": {},
     "output_type": "execute_result"
    }
   ],
   "source": [
    "t.a"
   ]
  },
  {
   "cell_type": "code",
   "execution_count": 23,
   "id": "e59776f4-6b85-442b-8f98-4fbfa219cdfd",
   "metadata": {},
   "outputs": [],
   "source": [
    "t.b = 345"
   ]
  },
  {
   "cell_type": "code",
   "execution_count": 24,
   "id": "4204357e-3cae-466e-be10-63bf9098aa2f",
   "metadata": {},
   "outputs": [
    {
     "data": {
      "text/plain": [
       "345"
      ]
     },
     "execution_count": 24,
     "metadata": {},
     "output_type": "execute_result"
    }
   ],
   "source": [
    "t.b"
   ]
  },
  {
   "cell_type": "code",
   "execution_count": 25,
   "id": "dc6f1578-5d72-4698-b5fc-de9ecb1a4393",
   "metadata": {},
   "outputs": [
    {
     "data": {
      "text/plain": [
       "345"
      ]
     },
     "execution_count": 25,
     "metadata": {},
     "output_type": "execute_result"
    }
   ],
   "source": [
    "t.a\n",
    "t.b"
   ]
  },
  {
   "cell_type": "code",
   "execution_count": 37,
   "id": "6af5324c-2bfb-4146-aa29-b5541c75ea23",
   "metadata": {},
   "outputs": [],
   "source": [
    "class car:\n",
    "    def __init__(self, year, make, model, speed):\n",
    "        self.__year = year\n",
    "        self.__make = make\n",
    "        self.__model = model\n",
    "        self.__speed = 0\n",
    "        \n",
    "    def set_speed(self, speed):\n",
    "        self.__speed = 0 if speed  < 0 else speed\n",
    "        \n",
    "    def get_speed(self):\n",
    "        return self.__speed"
   ]
  },
  {
   "cell_type": "code",
   "execution_count": 44,
   "id": "4f394811-4123-45fb-bf41-65c76ad915e3",
   "metadata": {},
   "outputs": [
    {
     "data": {
      "text/plain": [
       "<bound method car.get_speed of <__main__.car object at 0x7fe1b6047af0>>"
      ]
     },
     "execution_count": 44,
     "metadata": {},
     "output_type": "execute_result"
    }
   ],
   "source": [
    "obj_car.get_speed"
   ]
  },
  {
   "cell_type": "code",
   "execution_count": 40,
   "id": "49b4a3c6-331d-4651-8537-54134459213a",
   "metadata": {},
   "outputs": [
    {
     "ename": "AttributeError",
     "evalue": "'car' object has no attribute 'set_speed'",
     "output_type": "error",
     "traceback": [
      "\u001b[0;31m---------------------------------------------------------------------------\u001b[0m",
      "\u001b[0;31mAttributeError\u001b[0m                            Traceback (most recent call last)",
      "Cell \u001b[0;32mIn[40], line 1\u001b[0m\n\u001b[0;32m----> 1\u001b[0m \u001b[43mobj_car\u001b[49m\u001b[38;5;241;43m.\u001b[39;49m\u001b[43mset_speed\u001b[49m(\u001b[38;5;241m-\u001b[39m\u001b[38;5;241m788\u001b[39m)\n",
      "\u001b[0;31mAttributeError\u001b[0m: 'car' object has no attribute 'set_speed'"
     ]
    }
   ],
   "source": [
    "obj_car.set_speed(-788)"
   ]
  },
  {
   "cell_type": "code",
   "execution_count": 41,
   "id": "733752d2-8eb0-4cdd-a717-6e375103fb38",
   "metadata": {},
   "outputs": [],
   "source": [
    "obj_car = car(2023, \"toyota\", \"innova\", 234)"
   ]
  },
  {
   "cell_type": "code",
   "execution_count": 42,
   "id": "bca76c8e-77ed-4459-8607-83339933248f",
   "metadata": {},
   "outputs": [
    {
     "data": {
      "text/plain": [
       "2023"
      ]
     },
     "execution_count": 42,
     "metadata": {},
     "output_type": "execute_result"
    }
   ],
   "source": [
    "obj_car._car__year"
   ]
  },
  {
   "cell_type": "code",
   "execution_count": 43,
   "id": "0b3ba653-fafa-4a46-9fc5-3108f33edce7",
   "metadata": {},
   "outputs": [
    {
     "data": {
      "text/plain": [
       "2023"
      ]
     },
     "execution_count": 43,
     "metadata": {},
     "output_type": "execute_result"
    }
   ],
   "source": [
    "obj_car._car__year"
   ]
  },
  {
   "cell_type": "code",
   "execution_count": 56,
   "id": "e6c43e15-293f-4be8-92d2-31e3988434e8",
   "metadata": {},
   "outputs": [],
   "source": [
    "class bank_account:\n",
    "    \n",
    "    def __init__(self, balance):\n",
    "        self.__balance = balance\n",
    "        \n",
    "    def deposit(self, amount):\n",
    "        self.__balance = self.__balance + amount\n",
    "        \n",
    "    def withdraw(self, amount):\n",
    "        if self.__balance >= amount:\n",
    "            self.__balance = self.__balance - amount\n",
    "            \n",
    "            return True\n",
    "        else:\n",
    "            return False\n",
    "        \n",
    "    def get_balance(self):\n",
    "        return self.__balance"
   ]
  },
  {
   "cell_type": "code",
   "execution_count": 57,
   "id": "429bc1f4-5eea-4fb0-92eb-88302144f3cb",
   "metadata": {},
   "outputs": [],
   "source": [
    "obj_bank_account = bank_account(1000)"
   ]
  },
  {
   "cell_type": "markdown",
   "id": "1506df1d-21a7-4f6f-839d-7749dc49378d",
   "metadata": {},
   "source": [
    "obj_bank_account.get_balance()"
   ]
  },
  {
   "cell_type": "code",
   "execution_count": 59,
   "id": "c3c014ef-b8aa-4ea7-a4cd-5656593a0207",
   "metadata": {},
   "outputs": [],
   "source": [
    "obj_bank_account.deposit(7879)"
   ]
  },
  {
   "cell_type": "code",
   "execution_count": 60,
   "id": "b2e1592b-e0cc-48dc-b893-967445f3c2fc",
   "metadata": {},
   "outputs": [
    {
     "data": {
      "text/plain": [
       "8879"
      ]
     },
     "execution_count": 60,
     "metadata": {},
     "output_type": "execute_result"
    }
   ],
   "source": [
    "obj_bank_account.get_balance()"
   ]
  },
  {
   "cell_type": "code",
   "execution_count": 61,
   "id": "7ebcdb5b-4d7a-43e6-aa85-9a2927407613",
   "metadata": {},
   "outputs": [
    {
     "data": {
      "text/plain": [
       "False"
      ]
     },
     "execution_count": 61,
     "metadata": {},
     "output_type": "execute_result"
    }
   ],
   "source": [
    "obj_bank_account.withdraw(10000)"
   ]
  },
  {
   "cell_type": "code",
   "execution_count": 62,
   "id": "75193d68-308c-494c-8214-283442daf69c",
   "metadata": {},
   "outputs": [
    {
     "data": {
      "text/plain": [
       "True"
      ]
     },
     "execution_count": 62,
     "metadata": {},
     "output_type": "execute_result"
    }
   ],
   "source": [
    "obj_bank_account.withdraw(2000)"
   ]
  },
  {
   "cell_type": "code",
   "execution_count": 63,
   "id": "b7cec313-3af1-4fca-9f77-476c6826bba6",
   "metadata": {},
   "outputs": [
    {
     "data": {
      "text/plain": [
       "6879"
      ]
     },
     "execution_count": 63,
     "metadata": {},
     "output_type": "execute_result"
    }
   ],
   "source": [
    "obj_bank_account.get_balance()"
   ]
  },
  {
   "cell_type": "code",
   "execution_count": null,
   "id": "f465d33a-508d-42e4-8ce9-56520ecde9b6",
   "metadata": {},
   "outputs": [],
   "source": []
  },
  {
   "cell_type": "code",
   "execution_count": null,
   "id": "d6a9737a-1a82-4727-a7e6-86c50854873b",
   "metadata": {},
   "outputs": [],
   "source": []
  },
  {
   "cell_type": "code",
   "execution_count": null,
   "id": "9b5cb9bc-c497-4b7d-a253-fd3096b9a82a",
   "metadata": {},
   "outputs": [],
   "source": []
  },
  {
   "cell_type": "markdown",
   "id": "cb674f3b-5310-4b4a-ad07-fba3a7089362",
   "metadata": {},
   "source": [
    "## Inheritance"
   ]
  },
  {
   "cell_type": "code",
   "execution_count": 64,
   "id": "e394bd1f-de30-442c-ba5c-7133530da89d",
   "metadata": {},
   "outputs": [],
   "source": [
    "class parent:\n",
    "    def test_parent(self):\n",
    "        print(\"This is my parent class\")"
   ]
  },
  {
   "cell_type": "code",
   "execution_count": 65,
   "id": "2b40eb6f-b43e-4804-9231-4ef9336780ed",
   "metadata": {},
   "outputs": [],
   "source": [
    "class child(parent):\n",
    "    pass"
   ]
  },
  {
   "cell_type": "code",
   "execution_count": 66,
   "id": "f7215656-3064-4d51-89e3-552ae2ecb4e3",
   "metadata": {},
   "outputs": [],
   "source": [
    "child_obj = child()"
   ]
  },
  {
   "cell_type": "code",
   "execution_count": 68,
   "id": "2c66274e-3a24-465c-944b-716664a3ab89",
   "metadata": {},
   "outputs": [
    {
     "name": "stdout",
     "output_type": "stream",
     "text": [
      "This is my parent class\n"
     ]
    }
   ],
   "source": [
    "child_obj.test_parent()"
   ]
  },
  {
   "cell_type": "code",
   "execution_count": 69,
   "id": "6cf3c6b8-6259-4ce1-8d2a-d0041db6625f",
   "metadata": {},
   "outputs": [],
   "source": [
    "class class1:\n",
    "    def test_class1(self):\n",
    "        print(\"This is my class1\")"
   ]
  },
  {
   "cell_type": "code",
   "execution_count": 70,
   "id": "e47b153e-8cf8-49d6-b1a6-cc16c5e9038b",
   "metadata": {},
   "outputs": [],
   "source": [
    "class class2(class1):\n",
    "    def test_class2(self):\n",
    "        print(\"This is my class2\")"
   ]
  },
  {
   "cell_type": "code",
   "execution_count": 71,
   "id": "b27e7192-90ef-4449-90a6-eae4f6d40168",
   "metadata": {},
   "outputs": [],
   "source": [
    "class class3(class2):\n",
    "    def test_class3(self):\n",
    "        print(\"this is my class3\")"
   ]
  },
  {
   "cell_type": "code",
   "execution_count": 72,
   "id": "3c3f296d-d0c6-4e4d-8ac7-b9412e134d12",
   "metadata": {},
   "outputs": [],
   "source": [
    "obj_class3 = class3()"
   ]
  },
  {
   "cell_type": "code",
   "execution_count": 73,
   "id": "47fde4b8-4beb-47cb-8d1d-4b07c623353f",
   "metadata": {},
   "outputs": [
    {
     "name": "stdout",
     "output_type": "stream",
     "text": [
      "This is my class1\n"
     ]
    }
   ],
   "source": [
    "obj_class3.test_class1()"
   ]
  },
  {
   "cell_type": "code",
   "execution_count": 74,
   "id": "4bfbae6a-7a5e-4f05-b1ef-02528d363a1b",
   "metadata": {},
   "outputs": [
    {
     "name": "stdout",
     "output_type": "stream",
     "text": [
      "This is my class2\n"
     ]
    }
   ],
   "source": [
    "obj_class3.test_class2()"
   ]
  },
  {
   "cell_type": "code",
   "execution_count": 75,
   "id": "5bd8702a-20ef-41b4-b693-7528d3987adb",
   "metadata": {},
   "outputs": [
    {
     "name": "stdout",
     "output_type": "stream",
     "text": [
      "this is my class3\n"
     ]
    }
   ],
   "source": [
    "obj_class3.test_class3()"
   ]
  },
  {
   "cell_type": "code",
   "execution_count": 76,
   "id": "e850df13-b6ed-4d66-9c6b-d191da03e8e1",
   "metadata": {},
   "outputs": [],
   "source": [
    "class class1:\n",
    "    def test_class1(self):\n",
    "        print(\"this is my class1\")"
   ]
  },
  {
   "cell_type": "code",
   "execution_count": 77,
   "id": "627e67d2-12a5-4d5a-bb8c-b13a27753627",
   "metadata": {},
   "outputs": [],
   "source": [
    "class class2:\n",
    "    def test_class2(self):\n",
    "        print(\"this is my class2\")"
   ]
  },
  {
   "cell_type": "code",
   "execution_count": 78,
   "id": "c595999b-02de-4069-9c66-fb0875600637",
   "metadata": {},
   "outputs": [],
   "source": [
    "class class3 (class1, class2):\n",
    "    pass"
   ]
  },
  {
   "cell_type": "code",
   "execution_count": 79,
   "id": "bc6b8a52-fef7-4344-8660-5cd21e6b3020",
   "metadata": {},
   "outputs": [],
   "source": [
    "obj_class3 = class3()"
   ]
  },
  {
   "cell_type": "code",
   "execution_count": 80,
   "id": "b50b9f08-18ad-4bab-a27e-80d78dacd6b6",
   "metadata": {},
   "outputs": [
    {
     "name": "stdout",
     "output_type": "stream",
     "text": [
      "this is my class1\n"
     ]
    }
   ],
   "source": [
    "obj_class3.test_class1()"
   ]
  },
  {
   "cell_type": "code",
   "execution_count": 81,
   "id": "3e32cfc9-0b00-4a0e-8e44-f763308b9ad4",
   "metadata": {},
   "outputs": [
    {
     "name": "stdout",
     "output_type": "stream",
     "text": [
      "this is my class2\n"
     ]
    }
   ],
   "source": [
    "obj_class3.test_class2()"
   ]
  },
  {
   "cell_type": "code",
   "execution_count": null,
   "id": "f21beb6e-cca5-48da-95f4-d7710f4daeaa",
   "metadata": {},
   "outputs": [],
   "source": []
  }
 ],
 "metadata": {
  "kernelspec": {
   "display_name": "Python 3 (ipykernel)",
   "language": "python",
   "name": "python3"
  },
  "language_info": {
   "codemirror_mode": {
    "name": "ipython",
    "version": 3
   },
   "file_extension": ".py",
   "mimetype": "text/x-python",
   "name": "python",
   "nbconvert_exporter": "python",
   "pygments_lexer": "ipython3",
   "version": "3.10.8"
  }
 },
 "nbformat": 4,
 "nbformat_minor": 5
}
