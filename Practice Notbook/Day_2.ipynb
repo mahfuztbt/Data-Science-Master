{
 "cells": [
  {
   "cell_type": "code",
   "execution_count": 1,
   "id": "20e5df65-2282-4434-9588-e857c3f11a88",
   "metadata": {},
   "outputs": [],
   "source": [
    "a = 10"
   ]
  },
  {
   "cell_type": "code",
   "execution_count": 2,
   "id": "62b40a60-d509-47c5-8240-a595a676a6b1",
   "metadata": {},
   "outputs": [],
   "source": [
    "a='c'"
   ]
  },
  {
   "cell_type": "code",
   "execution_count": 3,
   "id": "cfb4d7e7-284a-498d-851a-e550e4b9b941",
   "metadata": {},
   "outputs": [
    {
     "data": {
      "text/plain": [
       "str"
      ]
     },
     "execution_count": 3,
     "metadata": {},
     "output_type": "execute_result"
    }
   ],
   "source": [
    "type(a)"
   ]
  },
  {
   "cell_type": "code",
   "execution_count": 5,
   "id": "2c0e810b-8a8b-46c7-b72d-c27605e158c8",
   "metadata": {},
   "outputs": [
    {
     "data": {
      "text/plain": [
       "123"
      ]
     },
     "execution_count": 5,
     "metadata": {},
     "output_type": "execute_result"
    }
   ],
   "source": [
    "int('123')"
   ]
  },
  {
   "cell_type": "code",
   "execution_count": 6,
   "id": "88ee74a5-4996-4f0b-a466-709ff923c25e",
   "metadata": {},
   "outputs": [
    {
     "ename": "ValueError",
     "evalue": "invalid literal for int() with base 10: 'abc'",
     "output_type": "error",
     "traceback": [
      "\u001b[0;31m---------------------------------------------------------------------------\u001b[0m",
      "\u001b[0;31mValueError\u001b[0m                                Traceback (most recent call last)",
      "Cell \u001b[0;32mIn[6], line 1\u001b[0m\n\u001b[0;32m----> 1\u001b[0m \u001b[38;5;28;43mint\u001b[39;49m\u001b[43m(\u001b[49m\u001b[38;5;124;43m'\u001b[39;49m\u001b[38;5;124;43mabc\u001b[39;49m\u001b[38;5;124;43m'\u001b[39;49m\u001b[43m)\u001b[49m\n",
      "\u001b[0;31mValueError\u001b[0m: invalid literal for int() with base 10: 'abc'"
     ]
    }
   ],
   "source": [
    "int('abc')"
   ]
  },
  {
   "cell_type": "code",
   "execution_count": 7,
   "id": "f86f6b10-5193-41c5-9163-3ff570989b32",
   "metadata": {},
   "outputs": [
    {
     "name": "stdout",
     "output_type": "stream",
     "text": [
      "Hello World\n"
     ]
    }
   ],
   "source": [
    "print(\"Hello World\")"
   ]
  },
  {
   "cell_type": "code",
   "execution_count": 8,
   "id": "abc575dd-7132-4e31-b8f8-579d37d9eb5d",
   "metadata": {},
   "outputs": [
    {
     "name": "stdout",
     "output_type": "stream",
     "text": [
      "123\n"
     ]
    }
   ],
   "source": [
    "print(123)"
   ]
  },
  {
   "cell_type": "code",
   "execution_count": 10,
   "id": "b7c12d86-b5cc-4523-8813-b6c5ed4dbae7",
   "metadata": {},
   "outputs": [
    {
     "name": "stdout",
     "output_type": "stream",
     "text": [
      "Hello World\n"
     ]
    }
   ],
   "source": [
    "print('Hello World') #signle anc double converted is same"
   ]
  },
  {
   "cell_type": "code",
   "execution_count": 14,
   "id": "98ef48aa-f09b-4876-bf3b-035e988c5083",
   "metadata": {},
   "outputs": [
    {
     "name": "stdout",
     "output_type": "stream",
     "text": [
      "My age is: 23\n"
     ]
    }
   ],
   "source": [
    "age = 23 #variable\n",
    "print(\"My age is:\",age)"
   ]
  },
  {
   "cell_type": "code",
   "execution_count": 15,
   "id": "77753fe7-4613-4e83-bd94-c84f236be407",
   "metadata": {},
   "outputs": [
    {
     "name": "stdout",
     "output_type": "stream",
     "text": [
      "My age is: {age}\n"
     ]
    }
   ],
   "source": [
    "print(\"My age is: {age}\")"
   ]
  },
  {
   "cell_type": "code",
   "execution_count": 16,
   "id": "ed6d3112-0459-4a51-b172-740e39ff7f19",
   "metadata": {},
   "outputs": [
    {
     "name": "stdout",
     "output_type": "stream",
     "text": [
      "My age is: 23\n"
     ]
    }
   ],
   "source": [
    "# f string\n",
    "print(f\"My age is: {age}\") #formating"
   ]
  },
  {
   "cell_type": "code",
   "execution_count": 17,
   "id": "091c2c42-fb37-490d-8efc-d33c651fa6ed",
   "metadata": {},
   "outputs": [
    {
     "name": "stdout",
     "output_type": "stream",
     "text": [
      "My name is mahfuz and age is 23\n"
     ]
    }
   ],
   "source": [
    "## format()\n",
    "name=\"mahfuz\"\n",
    "age = 23\n",
    "print(\"My name is {} and age is {}\".format(name,age))"
   ]
  },
  {
   "cell_type": "code",
   "execution_count": 18,
   "id": "f4796a02-5245-4b42-8400-f85300dd6f90",
   "metadata": {},
   "outputs": [
    {
     "name": "stdout",
     "output_type": "stream",
     "text": [
      "My name is mahfuz and age is 23\n"
     ]
    }
   ],
   "source": [
    "# place holder\n",
    "print(\"My name is {firstname} and age is {firstage}\".format(firstname=name,firstage=age))"
   ]
  },
  {
   "cell_type": "code",
   "execution_count": 20,
   "id": "94c050ed-3e17-43d6-ac68-3bc85d1d5545",
   "metadata": {},
   "outputs": [
    {
     "name": "stdout",
     "output_type": "stream",
     "text": [
      "My age is 23 and I have completed: my degree of BE with the name of Mahfuz Ronnie\n"
     ]
    }
   ],
   "source": [
    "name=\"Mahfuz Ronnie\"\n",
    "age=23\n",
    "degree=\"BE\"\n",
    "\n",
    "\"My age is 23 and I have completed: my degree of BE with the name of Mahfuz Ronnie\"\n",
    "\n",
    "print(\"My age is {} and I have completed: my degree of {} with the name of {}\".format(age,degree,name))"
   ]
  },
  {
   "cell_type": "markdown",
   "id": "8200272c-2edf-4173-88ec-1df4531659f7",
   "metadata": {},
   "source": [
    "## Control Flow\n",
    "### Decision Making Statement\n",
    "\n",
    "* if\n",
    "* if else\n",
    "* if elif else\n",
    "* Nested if\n",
    "* single statement suites"
   ]
  },
  {
   "cell_type": "code",
   "execution_count": 21,
   "id": "53224dad-1e88-4b96-87ba-d9ba071bac1e",
   "metadata": {},
   "outputs": [
    {
     "name": "stdout",
     "output_type": "stream",
     "text": [
      "You are eligible to vote\n"
     ]
    }
   ],
   "source": [
    "## If statements\n",
    "age = 18\n",
    "if age >= 18:\n",
    "    print(\"You are eligible to vote\")"
   ]
  },
  {
   "cell_type": "code",
   "execution_count": 22,
   "id": "e5874f28-d8bf-497a-a153-49e1f7678957",
   "metadata": {},
   "outputs": [],
   "source": [
    "## If statements\n",
    "age = 18\n",
    "if age < 18:\n",
    "    print(\"You are not eligible to vote\")"
   ]
  },
  {
   "cell_type": "code",
   "execution_count": 23,
   "id": "c6661e2f-a985-486c-b2f0-9dc6dc3103c8",
   "metadata": {},
   "outputs": [
    {
     "name": "stdout",
     "output_type": "stream",
     "text": [
      "You are not eligible to vote\n"
     ]
    }
   ],
   "source": [
    "## If statements\n",
    "age = 17\n",
    "if age < 18:\n",
    "    print(\"You are not eligible to vote\")"
   ]
  },
  {
   "cell_type": "code",
   "execution_count": 24,
   "id": "f60f2260-d302-4c75-9fe0-e75853aaa751",
   "metadata": {},
   "outputs": [
    {
     "name": "stdin",
     "output_type": "stream",
     "text": [
      " Mahfuz Ronnie\n"
     ]
    },
    {
     "data": {
      "text/plain": [
       "'Mahfuz Ronnie'"
      ]
     },
     "execution_count": 24,
     "metadata": {},
     "output_type": "execute_result"
    }
   ],
   "source": [
    "input()"
   ]
  },
  {
   "cell_type": "code",
   "execution_count": 25,
   "id": "8da3c36e-83ce-4da3-9d95-3923a79d73db",
   "metadata": {},
   "outputs": [
    {
     "name": "stdin",
     "output_type": "stream",
     "text": [
      "Enter your name: Mahfuz Ronnie\n"
     ]
    }
   ],
   "source": [
    "name = input(\"Enter your name:\")\n"
   ]
  },
  {
   "cell_type": "code",
   "execution_count": 26,
   "id": "f310b582-bdc6-43f8-9b07-d39b49f68428",
   "metadata": {},
   "outputs": [
    {
     "data": {
      "text/plain": [
       "'Mahfuz Ronnie'"
      ]
     },
     "execution_count": 26,
     "metadata": {},
     "output_type": "execute_result"
    }
   ],
   "source": [
    "name"
   ]
  },
  {
   "cell_type": "code",
   "execution_count": 30,
   "id": "88772711-9b54-4d38-824b-6c99b41a8cc3",
   "metadata": {},
   "outputs": [
    {
     "name": "stdin",
     "output_type": "stream",
     "text": [
      "Please Enter your age: 23\n"
     ]
    }
   ],
   "source": [
    "age = int(input(\"Please Enter your age:\"))"
   ]
  },
  {
   "cell_type": "code",
   "execution_count": 28,
   "id": "7c18bb31-1bbe-4a27-907d-68a6ffdbae2f",
   "metadata": {},
   "outputs": [
    {
     "data": {
      "text/plain": [
       "int"
      ]
     },
     "execution_count": 28,
     "metadata": {},
     "output_type": "execute_result"
    }
   ],
   "source": [
    "type(age)"
   ]
  },
  {
   "cell_type": "code",
   "execution_count": 31,
   "id": "1dea9fc4-2d66-4c72-8316-f3e7a54666aa",
   "metadata": {},
   "outputs": [
    {
     "name": "stdin",
     "output_type": "stream",
     "text": [
      "Please Enter your age: 32\n"
     ]
    },
    {
     "name": "stdout",
     "output_type": "stream",
     "text": [
      "You are young blood\n"
     ]
    }
   ],
   "source": [
    "\n",
    "age = int(input(\"Please Enter your age:\"))\n",
    "if age >= 18 and age <= 45:\n",
    "    print(\"You are young blood\")"
   ]
  },
  {
   "cell_type": "code",
   "execution_count": 32,
   "id": "882d9376-6bb0-408d-8217-e87c39bc5af6",
   "metadata": {},
   "outputs": [],
   "source": [
    "## taks\n",
    "# take a input of age\n",
    "# check wheather age >= 18 and age <=45\n",
    "# display a message you are young blood"
   ]
  },
  {
   "cell_type": "code",
   "execution_count": 33,
   "id": "1cfa7d86-8e98-4bab-a6b2-2b66f34fd6b6",
   "metadata": {},
   "outputs": [
    {
     "name": "stdin",
     "output_type": "stream",
     "text": [
      "Please Enter your age: 56\n"
     ]
    },
    {
     "name": "stdout",
     "output_type": "stream",
     "text": [
      "Thank you we will let you know\n"
     ]
    }
   ],
   "source": [
    "age = int(input(\"Please Enter your age:\"))\n",
    "if age >= 18 and age <= 45:\n",
    "    print(\"You are young blood\")\n",
    "else:\n",
    "    print(\"Thank you we will let you know\")\n",
    "    \n",
    "        "
   ]
  },
  {
   "cell_type": "code",
   "execution_count": null,
   "id": "2fec95e4-0d6f-43b6-b064-0cff0db765d3",
   "metadata": {},
   "outputs": [],
   "source": []
  },
  {
   "cell_type": "code",
   "execution_count": null,
   "id": "7164bb65-25a4-427c-be69-33eeb6b28753",
   "metadata": {},
   "outputs": [],
   "source": [
    "# mall input the product price\n",
    "# product >3000 rs 20% off\n",
    "# print "
   ]
  },
  {
   "cell_type": "code",
   "execution_count": 35,
   "id": "c5517f14-93ea-4537-802e-a5a18ddb2d97",
   "metadata": {},
   "outputs": [
    {
     "name": "stdin",
     "output_type": "stream",
     "text": [
      "Please input the product price: 5000\n"
     ]
    },
    {
     "name": "stdout",
     "output_type": "stream",
     "text": [
      "The price of the product is 4000.0\n"
     ]
    }
   ],
   "source": [
    "product_price = int(input(\"Please input the product price:\"))\n",
    "if product_price > 1000:\n",
    "                    print(\"The price of the product is {}\".format(product_price*0.8))\n",
    "else:\n",
    "                    print(\"THe product price is {}\".format(product_price*0.7))\n",
    "                    "
   ]
  },
  {
   "cell_type": "markdown",
   "id": "f54b764e-99fa-461f-bb4c-e8bffddd7beb",
   "metadata": {},
   "source": [
    "## loops statement\n",
    "1. while loop\n",
    "2. for loop\n",
    "3. nested loops\n",
    "4. loop control (break, continue, pass)"
   ]
  },
  {
   "cell_type": "code",
   "execution_count": 37,
   "id": "9d3d6f80-92c9-462a-acd0-289b28ec022e",
   "metadata": {},
   "outputs": [
    {
     "name": "stdout",
     "output_type": "stream",
     "text": [
      "26\n",
      "27\n",
      "28\n",
      "29\n",
      "30\n",
      "31\n",
      "32\n",
      "33\n",
      "34\n",
      "35\n",
      "36\n",
      "37\n",
      "38\n",
      "39\n",
      "40\n",
      "41\n",
      "42\n",
      "43\n",
      "44\n",
      "45\n",
      "46\n",
      "47\n",
      "48\n",
      "49\n",
      "50\n",
      "51\n",
      "52\n",
      "53\n",
      "54\n",
      "55\n",
      "56\n",
      "57\n",
      "58\n",
      "59\n",
      "60\n",
      "61\n",
      "Its time for retirement\n"
     ]
    }
   ],
   "source": [
    "## while loop\n",
    "joining_age = 25\n",
    "i = 1\n",
    "while joining_age <= 60:\n",
    "    joining_age=joining_age+1\n",
    "    print(joining_age)\n",
    "else:\n",
    "    print(\"Its time for retirement\")"
   ]
  },
  {
   "cell_type": "code",
   "execution_count": null,
   "id": "7e7bb408-580d-4f87-9b04-0b856de2f58b",
   "metadata": {},
   "outputs": [],
   "source": [
    "total_amount = 1000\n",
    "while total_amount!=0:\n",
    "    print(total_amount)\n",
    "    total_amount=total_amount+100\n",
    "else:\n",
    "    print(\"Put more money bank people\")\n",
    "    "
   ]
  },
  {
   "cell_type": "code",
   "execution_count": null,
   "id": "c263264a-b928-4d94-b80c-af473964c361",
   "metadata": {},
   "outputs": [],
   "source": [
    "## for loop"
   ]
  },
  {
   "cell_type": "code",
   "execution_count": null,
   "id": "49da48a8-0342-4162-81d1-5cb0d8ea20f0",
   "metadata": {},
   "outputs": [],
   "source": []
  },
  {
   "cell_type": "code",
   "execution_count": 28,
   "id": "2d5b743f-447f-4cb4-8b4b-85590255b253",
   "metadata": {},
   "outputs": [
    {
     "name": "stdout",
     "output_type": "stream",
     "text": [
      "      * \n",
      "     * * \n",
      "    * * * \n",
      "   * * * * \n",
      "  * * * * * \n",
      " * * * * * * \n",
      "* * * * * * * \n"
     ]
    }
   ],
   "source": [
    "def triangle(n):\n",
    "\n",
    "    m = n-1\n",
    "\n",
    "    for i in range(0, n):\n",
    "        for j in range(0, m):\n",
    "            print(end=\" \")\n",
    "\n",
    "        m = m -1\n",
    "\n",
    "        for j in range(0, i+1):\n",
    "            print(\"*\",end=\" \")\n",
    "        print(\"\\r\")\n",
    "        \n",
    "n = 7\n",
    "triangle(n)\n",
    "\n"
   ]
  },
  {
   "cell_type": "code",
   "execution_count": 11,
   "id": "0167aa22-c442-4eb0-9f04-bdb6f9af3572",
   "metadata": {},
   "outputs": [
    {
     "name": "stdout",
     "output_type": "stream",
     "text": [
      "    * \n",
      "   * * \n",
      "  * * * \n",
      " * * * * \n",
      "* * * * * \n"
     ]
    }
   ],
   "source": []
  },
  {
   "cell_type": "code",
   "execution_count": 27,
   "id": "b119b999-a2e0-4c3e-8dbf-a1448809b2a2",
   "metadata": {},
   "outputs": [
    {
     "name": "stdout",
     "output_type": "stream",
     "text": [
      "      * \n",
      "     * * \n",
      "    * * * \n",
      "   * * * * \n",
      "  * * * * * \n",
      " * * * * * * \n",
      "* * * * * * * \n"
     ]
    }
   ],
   "source": [
    "n = 7\n",
    "m = n-1\n",
    "for i in range(0, n):\n",
    "    for j in range(0, m):\n",
    "        print(end=\" \")\n",
    "\n",
    "    m = m -1\n",
    "\n",
    "    for j in range(0, i+1):\n",
    "        print(\"*\",end=\" \")\n",
    "    print(\"\\r\")\n",
    "\n",
    "  \n"
   ]
  },
  {
   "cell_type": "code",
   "execution_count": 25,
   "id": "ffb91a52-839d-4eae-bef6-5f96c88a7f58",
   "metadata": {},
   "outputs": [
    {
     "name": "stdout",
     "output_type": "stream",
     "text": [
      "* \n",
      "* * \n",
      "* * * \n",
      "* * * * \n",
      "* * * * * \n",
      "* * * * * * \n",
      "* * * * * * * \n"
     ]
    }
   ],
   "source": [
    "n = 7\n",
    "for i in range(0,n):\n",
    "    for j in range(0,i+1):\n",
    "        print(\"*\",end=\" \")\n",
    "    print(\"\")\n",
    "        "
   ]
  },
  {
   "cell_type": "code",
   "execution_count": null,
   "id": "6b8ad36c-31cf-4714-8558-977acc01386e",
   "metadata": {},
   "outputs": [],
   "source": []
  }
 ],
 "metadata": {
  "kernelspec": {
   "display_name": "Python 3 (ipykernel)",
   "language": "python",
   "name": "python3"
  },
  "language_info": {
   "codemirror_mode": {
    "name": "ipython",
    "version": 3
   },
   "file_extension": ".py",
   "mimetype": "text/x-python",
   "name": "python",
   "nbconvert_exporter": "python",
   "pygments_lexer": "ipython3",
   "version": "3.10.8"
  }
 },
 "nbformat": 4,
 "nbformat_minor": 5
}
