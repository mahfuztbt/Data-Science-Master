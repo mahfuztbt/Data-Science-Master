{
 "cells": [
  {
   "cell_type": "markdown",
   "id": "604f5ad2-ce4c-4859-b768-c6dfafe24332",
   "metadata": {},
   "source": [
    "## Logical Operators\n",
    "1. And\n",
    "2. or\n",
    "3. not"
   ]
  },
  {
   "cell_type": "code",
   "execution_count": 1,
   "id": "bd447390-2196-485f-a4cb-5dd29e8a2f39",
   "metadata": {},
   "outputs": [
    {
     "data": {
      "text/plain": [
       "True"
      ]
     },
     "execution_count": 1,
     "metadata": {},
     "output_type": "execute_result"
    }
   ],
   "source": [
    "not int(bool(0))"
   ]
  },
  {
   "cell_type": "code",
   "execution_count": 2,
   "id": "ed92f8b1-daf4-4018-9dcf-bf5422f57dad",
   "metadata": {},
   "outputs": [
    {
     "data": {
      "text/plain": [
       "False"
      ]
     },
     "execution_count": 2,
     "metadata": {},
     "output_type": "execute_result"
    }
   ],
   "source": [
    "not int(bool(1))"
   ]
  },
  {
   "cell_type": "code",
   "execution_count": 3,
   "id": "f4f31872-0a8b-4290-91f2-be8d72555b16",
   "metadata": {},
   "outputs": [
    {
     "data": {
      "text/plain": [
       "False"
      ]
     },
     "execution_count": 3,
     "metadata": {},
     "output_type": "execute_result"
    }
   ],
   "source": [
    "not 1"
   ]
  },
  {
   "cell_type": "code",
   "execution_count": 4,
   "id": "6c148af3-cf9b-4c4a-bdea-4e1b5c58a31f",
   "metadata": {},
   "outputs": [
    {
     "data": {
      "text/plain": [
       "True"
      ]
     },
     "execution_count": 4,
     "metadata": {},
     "output_type": "execute_result"
    }
   ],
   "source": [
    "not 0"
   ]
  },
  {
   "cell_type": "code",
   "execution_count": 5,
   "id": "d9cb166d-a8e7-4cdd-beac-859f7764e41a",
   "metadata": {},
   "outputs": [
    {
     "data": {
      "text/plain": [
       "False"
      ]
     },
     "execution_count": 5,
     "metadata": {},
     "output_type": "execute_result"
    }
   ],
   "source": [
    "not 2"
   ]
  },
  {
   "cell_type": "code",
   "execution_count": 6,
   "id": "06a2caeb-b621-4cd0-8519-e95ab01586a0",
   "metadata": {},
   "outputs": [
    {
     "data": {
      "text/plain": [
       "2"
      ]
     },
     "execution_count": 6,
     "metadata": {},
     "output_type": "execute_result"
    }
   ],
   "source": [
    "2"
   ]
  },
  {
   "cell_type": "code",
   "execution_count": 7,
   "id": "91bd933f-2d3a-4961-83f7-32c46b29d30b",
   "metadata": {},
   "outputs": [
    {
     "data": {
      "text/plain": [
       "False"
      ]
     },
     "execution_count": 7,
     "metadata": {},
     "output_type": "execute_result"
    }
   ],
   "source": [
    "not -1\n"
   ]
  },
  {
   "cell_type": "code",
   "execution_count": 8,
   "id": "1fb657d5-bff3-4250-b463-d362bb2695d9",
   "metadata": {},
   "outputs": [
    {
     "data": {
      "text/plain": [
       "False"
      ]
     },
     "execution_count": 8,
     "metadata": {},
     "output_type": "execute_result"
    }
   ],
   "source": [
    "not -2"
   ]
  },
  {
   "cell_type": "code",
   "execution_count": 9,
   "id": "66c947c2-87ae-4158-821e-1c66fc99f017",
   "metadata": {},
   "outputs": [
    {
     "data": {
      "text/plain": [
       "True"
      ]
     },
     "execution_count": 9,
     "metadata": {},
     "output_type": "execute_result"
    }
   ],
   "source": [
    "not (False)* False == True"
   ]
  },
  {
   "cell_type": "code",
   "execution_count": 10,
   "id": "2b239a86-a273-4e08-af23-8333de48754d",
   "metadata": {},
   "outputs": [
    {
     "name": "stdout",
     "output_type": "stream",
     "text": [
      "True\n"
     ]
    }
   ],
   "source": [
    "print(not(False)*False)"
   ]
  },
  {
   "cell_type": "code",
   "execution_count": 11,
   "id": "a4d74345-7814-4b4e-b491-9946fab05452",
   "metadata": {},
   "outputs": [
    {
     "data": {
      "text/plain": [
       "0"
      ]
     },
     "execution_count": 11,
     "metadata": {},
     "output_type": "execute_result"
    }
   ],
   "source": [
    "False * True"
   ]
  },
  {
   "cell_type": "code",
   "execution_count": 12,
   "id": "65c4aace-02ab-4374-8a5d-c600b4af1460",
   "metadata": {},
   "outputs": [],
   "source": [
    "name=\"Mahfuz\""
   ]
  },
  {
   "cell_type": "code",
   "execution_count": 16,
   "id": "a29e0977-82ba-4183-b56a-4b01045e2c97",
   "metadata": {},
   "outputs": [
    {
     "data": {
      "text/plain": [
       "'zufhaM'"
      ]
     },
     "execution_count": 16,
     "metadata": {},
     "output_type": "execute_result"
    }
   ],
   "source": [
    "name[::-1]"
   ]
  },
  {
   "cell_type": "code",
   "execution_count": 17,
   "id": "dfc5e522-1497-403b-b616-354bd63e8e01",
   "metadata": {},
   "outputs": [],
   "source": [
    "course_name = 'Data Science Masters'"
   ]
  },
  {
   "cell_type": "code",
   "execution_count": 18,
   "id": "083f5600-4236-44f3-864e-e592e5d482c4",
   "metadata": {},
   "outputs": [
    {
     "data": {
      "text/plain": [
       "21"
      ]
     },
     "execution_count": 18,
     "metadata": {},
     "output_type": "execute_result"
    }
   ],
   "source": [
    "course_name.count('')"
   ]
  },
  {
   "cell_type": "code",
   "execution_count": 19,
   "id": "83143925-9201-4f80-9326-e18c0c54ed99",
   "metadata": {},
   "outputs": [
    {
     "data": {
      "text/plain": [
       "7"
      ]
     },
     "execution_count": 19,
     "metadata": {},
     "output_type": "execute_result"
    }
   ],
   "source": [
    "name = \"Mahfuz\"\n",
    "name.count(\"\")"
   ]
  },
  {
   "cell_type": "code",
   "execution_count": 1,
   "id": "802422c5-ec3b-4b07-aae3-d3a05ddd3f1a",
   "metadata": {},
   "outputs": [
    {
     "name": "stdout",
     "output_type": "stream",
     "text": [
      "Defined value of START = True\n",
      "Defined value of STOP = False \n",
      "\n",
      "Defined value of START = True\n",
      "Value of STOP by negating START= False \n",
      "\n",
      "Value of START by negating STOP = True\n",
      "Defined value of STOP = False \n",
      "\n"
     ]
    }
   ],
   "source": [
    "# Lets define two variables having boolean values True and False-\n",
    "START = True\n",
    "STOP = False\n",
    "\n",
    "# Print the values as it is\n",
    "print(f\"Defined value of START = {START}\")\n",
    "print(f\"Defined value of STOP = {STOP} \\n\")\n",
    "\n",
    "# if can also be written as - \n",
    "print(f\"Defined value of START = {START}\")\n",
    "print(f\"Value of STOP by negating START= {not START} \\n\")\n",
    "\n",
    "# alternatively -\n",
    "print(f\"Value of START by negating STOP = {not STOP}\")\n",
    "print(f\"Defined value of STOP = {STOP} \\n\")\n"
   ]
  },
  {
   "cell_type": "code",
   "execution_count": 2,
   "id": "39ccee32-4a9a-46f0-b618-a47228b43e26",
   "metadata": {},
   "outputs": [
    {
     "name": "stdout",
     "output_type": "stream",
     "text": [
      "Defined value of START = 1\n",
      "Defined value of STOP = 0\n",
      "\n",
      "Defined value of START = 1\n",
      "Value of STOP by negating START = 0\n",
      "\n",
      "Value of START by negating STOP = 1\n",
      "Defined value of STOP = 0\n",
      "\n"
     ]
    }
   ],
   "source": [
    "START = 1\n",
    "STOP = 0\n",
    "\n",
    "print(f\"Defined value of START = {START}\")\n",
    "print(f\"Defined value of STOP = {STOP}\\n\")\n",
    "\n",
    "print(f\"Defined value of START = {START}\")\n",
    "print(f\"Value of STOP by negating START = {int(not START)}\\n\")\n",
    "\n",
    "print(f\"Value of START by negating STOP = {int(not STOP)}\")\n",
    "print(f\"Defined value of STOP = {STOP}\\n\")"
   ]
  },
  {
   "cell_type": "code",
   "execution_count": 3,
   "id": "da51191d-1e6f-4659-9863-68d6ad299c26",
   "metadata": {},
   "outputs": [
    {
     "name": "stdout",
     "output_type": "stream",
     "text": [
      "boolean value of no. 0 is False\n",
      "boolean value of no. 1 is True\n",
      "negation of 0 is True and negation of 1 is False\n",
      "\n",
      "#------------------------#\n",
      "\n",
      "boolean value of no. -5 is True\n",
      "boolean value of no. 5 is True\n",
      "negation of -5 is False and negation of 5 is False\n",
      "\n",
      "#------------------------#\n",
      "\n",
      "boolean value of no. -5.99 is True\n",
      "boolean value of no. 5.6 is True\n",
      "negation of -5.99 is False and negation of 5.6 is False\n"
     ]
    }
   ],
   "source": [
    "zero = 0\n",
    "one = 1\n",
    "\n",
    "print(f\"boolean value of no. {zero} is {bool(zero)}\")\n",
    "print(f\"boolean value of no. {one} is {bool(one)}\")\n",
    "print(f\"negation of {zero} is {not zero} and negation of {one} is {not one}\")\n",
    "print(\"\\n#------------------------#\\n\")\n",
    "\n",
    "Some_negative_integer = -5\n",
    "Some_positive_integer = 5\n",
    "\n",
    "print(f\"boolean value of no. {Some_negative_integer} is {bool(Some_negative_integer)}\")\n",
    "print(f\"boolean value of no. {Some_positive_integer} is {bool(Some_positive_integer)}\")\n",
    "print(f\"negation of {Some_negative_integer} is {not Some_negative_integer} \\\n",
    "and negation of {Some_positive_integer} is {not Some_positive_integer}\")\n",
    "\n",
    "print(\"\\n#------------------------#\\n\")\n",
    "\n",
    "Some_negative_float = -5.99\n",
    "Some_positive_float = 5.6\n",
    "\n",
    "print(f\"boolean value of no. {Some_negative_float} is {bool(Some_negative_float)}\")\n",
    "print(f\"boolean value of no. {Some_positive_float} is {bool(Some_positive_float)}\")\n",
    "print(f\"negation of {Some_negative_float} is {not Some_negative_float} \\\n",
    "and negation of {Some_positive_float} is {not Some_positive_float}\")"
   ]
  },
  {
   "cell_type": "code",
   "execution_count": 4,
   "id": "896fa215-27f9-4212-8f02-31e4fb2c4cf7",
   "metadata": {},
   "outputs": [
    {
     "name": "stdout",
     "output_type": "stream",
     "text": [
      "Dish contains VEGETABLES: True\n",
      "Dish contains SALT: False\n",
      "Hence dish prepared was good: False\n",
      "\n",
      "Dish contains VEGETABLES: True\n",
      "Dish contains SALT: True\n",
      "Hence dish prepared was good: True\n",
      "\n"
     ]
    }
   ],
   "source": [
    "\n",
    "\n",
    "VEGETABLES = True\n",
    "SALT = False\n",
    "DISH = VEGETABLES and SALT\n",
    "\n",
    "print(f\"Dish contains VEGETABLES: {VEGETABLES}\")\n",
    "print(f\"Dish contains SALT: {SALT}\")\n",
    "print(f\"Hence dish prepared was good: {DISH}\\n\")\n",
    "\n",
    "VEGETABLES = True\n",
    "SALT = True\n",
    "DISH = VEGETABLES and SALT\n",
    "\n",
    "print(f\"Dish contains VEGETABLES: {VEGETABLES}\")\n",
    "print(f\"Dish contains SALT: {SALT}\")\n",
    "print(f\"Hence dish prepared was good: {DISH}\\n\")"
   ]
  },
  {
   "cell_type": "code",
   "execution_count": 5,
   "id": "8f6cc697-fbb4-4137-a32b-f14344833760",
   "metadata": {},
   "outputs": [
    {
     "name": "stdout",
     "output_type": "stream",
     "text": [
      "You have BIKE: True\n",
      "You have CAR: True\n",
      "You can travel 100 KMs: True\n"
     ]
    }
   ],
   "source": [
    "BIKE = True\n",
    "CAR = True\n",
    "TRAVEL_100_KM = BIKE or CAR\n",
    "\n",
    "print(f\"You have BIKE: {BIKE}\")\n",
    "print(f\"You have CAR: {CAR}\")\n",
    "print(f\"You can travel 100 KMs: {TRAVEL_100_KM}\")"
   ]
  },
  {
   "cell_type": "code",
   "execution_count": 6,
   "id": "af220117-2aff-4fe2-b026-73f5e5403223",
   "metadata": {},
   "outputs": [
    {
     "name": "stdout",
     "output_type": "stream",
     "text": [
      "You have BIKE: False\n",
      "You have CAR: True\n",
      "You can travel 100 KMs: True\n"
     ]
    }
   ],
   "source": [
    "BIKE = False\n",
    "CAR = True\n",
    "TRAVEL_100_KM = BIKE or CAR\n",
    "\n",
    "print(f\"You have BIKE: {BIKE}\")\n",
    "print(f\"You have CAR: {CAR}\")\n",
    "print(f\"You can travel 100 KMs: {TRAVEL_100_KM}\")"
   ]
  },
  {
   "cell_type": "code",
   "execution_count": 7,
   "id": "efb94c7d-fa31-4bba-93af-f86c23fcac80",
   "metadata": {},
   "outputs": [
    {
     "name": "stdout",
     "output_type": "stream",
     "text": [
      "You have BIKE: False\n",
      "You have CAR: False\n",
      "You can travel 100 KMs: False\n"
     ]
    }
   ],
   "source": [
    "BIKE = False\n",
    "CAR = False\n",
    "TRAVEL_100_KM = BIKE or CAR\n",
    "\n",
    "print(f\"You have BIKE: {BIKE}\")\n",
    "print(f\"You have CAR: {CAR}\")\n",
    "print(f\"You can travel 100 KMs: {TRAVEL_100_KM}\")"
   ]
  },
  {
   "cell_type": "code",
   "execution_count": 8,
   "id": "778077c4-44cd-40b5-bf2d-2eedcb35e572",
   "metadata": {},
   "outputs": [
    {
     "name": "stdout",
     "output_type": "stream",
     "text": [
      "id of list_a = 140177064895360\n",
      "id of list_b = 140177064888576\n",
      "list_a is list_b = False\n",
      "list_a == list_b = True\n"
     ]
    }
   ],
   "source": [
    "list_a = [1,2,3]\n",
    "list_b = [1,2,3]\n",
    "\n",
    "print(f\"id of list_a = {id(list_a)}\")\n",
    "print(f\"id of list_b = {id(list_b)}\")\n",
    "print(f\"list_a is list_b = {list_a is list_b}\")\n",
    "print(f\"list_a == list_b = {list_a == list_b}\")"
   ]
  },
  {
   "cell_type": "code",
   "execution_count": 9,
   "id": "6f3db13a-eaaf-44fd-b17c-5ecb26a30ff7",
   "metadata": {},
   "outputs": [
    {
     "name": "stdout",
     "output_type": "stream",
     "text": [
      "id of list_a = 140177064895360\n",
      "id of list_c = 140177064895360\n",
      "list_a is list_c = True\n",
      "list_a == list_c = True\n"
     ]
    }
   ],
   "source": [
    "list_c = list_a\n",
    "\n",
    "print(f\"id of list_a = {id(list_a)}\")\n",
    "print(f\"id of list_c = {id(list_c)}\")\n",
    "print(f\"list_a is list_c = {list_a is list_c}\")\n",
    "print(f\"list_a == list_c = {list_a == list_c}\")"
   ]
  },
  {
   "cell_type": "code",
   "execution_count": 10,
   "id": "3a2a4fb3-4c81-439b-b98b-0d99e0748daf",
   "metadata": {},
   "outputs": [
    {
     "name": "stdout",
     "output_type": "stream",
     "text": [
      "list_d is not list_e = True\n"
     ]
    }
   ],
   "source": [
    "\n",
    "list_d = [1,2,3]\n",
    "list_e = [3,4]\n",
    "\n",
    "print(f\"list_d is not list_e = {list_d is not list_e}\")"
   ]
  },
  {
   "cell_type": "code",
   "execution_count": 11,
   "id": "b7a99162-2602-4ee2-af14-1996beca7e58",
   "metadata": {},
   "outputs": [
    {
     "name": "stdout",
     "output_type": "stream",
     "text": [
      "list_d == list_e = False\n"
     ]
    }
   ],
   "source": [
    "list_d = [1,2,3]\n",
    "list_e = [3,4]\n",
    "\n",
    "print(f\"list_d == list_e = {list_d == list_e}\")"
   ]
  },
  {
   "cell_type": "code",
   "execution_count": 12,
   "id": "0c9253ca-a62c-4a17-9240-1cf1bea7e0c4",
   "metadata": {},
   "outputs": [
    {
     "name": "stdout",
     "output_type": "stream",
     "text": [
      "list_d == list_e = True\n"
     ]
    }
   ],
   "source": [
    "list_d = [1,2,3]\n",
    "list_e = [3,4]\n",
    "\n",
    "print(f\"list_d == list_e = {list_d != list_e}\")"
   ]
  },
  {
   "cell_type": "code",
   "execution_count": 13,
   "id": "c73f9a6b-c70c-407a-92f8-ed8d03c05391",
   "metadata": {},
   "outputs": [
    {
     "name": "stdout",
     "output_type": "stream",
     "text": [
      "bike is faster than car: False\n"
     ]
    }
   ],
   "source": [
    "\n",
    "maxium_speed_of_bike = 150\n",
    "max_speed_of_car = 200\n",
    "\n",
    "print(f\"bike is faster than car: {maxium_speed_of_bike > max_speed_of_car}\")"
   ]
  },
  {
   "cell_type": "code",
   "execution_count": 14,
   "id": "e6dcc461-f7c9-48fb-b3e3-bc4f23eca67c",
   "metadata": {},
   "outputs": [
    {
     "name": "stdout",
     "output_type": "stream",
     "text": [
      "bike is slower than car: True\n"
     ]
    }
   ],
   "source": [
    "print(f\"bike is slower than car: {maxium_speed_of_bike < max_speed_of_car}\")"
   ]
  },
  {
   "cell_type": "code",
   "execution_count": 15,
   "id": "f0489d9a-53c5-415e-90f8-412e0837d775",
   "metadata": {},
   "outputs": [
    {
     "name": "stdout",
     "output_type": "stream",
     "text": [
      "today's temperature is less than or equal to yesterday's: True\n"
     ]
    }
   ],
   "source": [
    "temp_today = 25\n",
    "temp_yesterday = 27\n",
    "predicted_temp_nextDay = 27\n",
    "\n",
    "print(f\"today's temperature is less than or equal to yesterday's: {temp_today <= temp_yesterday}\")"
   ]
  },
  {
   "cell_type": "code",
   "execution_count": 16,
   "id": "9078b63c-5a08-4eb3-8625-aa89290e117d",
   "metadata": {},
   "outputs": [
    {
     "name": "stdout",
     "output_type": "stream",
     "text": [
      "tomorrow's temperature is expected to be same or more as of today: True\n"
     ]
    }
   ],
   "source": [
    "print(f\"tomorrow's temperature is expected to be same or more as of today: {predicted_temp_nextDay >= temp_today}\")"
   ]
  },
  {
   "cell_type": "code",
   "execution_count": 17,
   "id": "1286ff53-9d98-4fa0-a2d9-8b6ae8c90525",
   "metadata": {},
   "outputs": [
    {
     "name": "stdout",
     "output_type": "stream",
     "text": [
      "integer division:\n",
      "25/5=5\n"
     ]
    }
   ],
   "source": [
    "var_a = 5\n",
    "var_b = 25\n",
    "integer_division = var_b // var_a\n",
    "print(f\"integer division:\\n{var_b}/{var_a}={integer_division}\")"
   ]
  },
  {
   "cell_type": "code",
   "execution_count": 18,
   "id": "2aedf6d8-78f3-4118-a8c1-052139d1c1d0",
   "metadata": {},
   "outputs": [
    {
     "name": "stdout",
     "output_type": "stream",
     "text": [
      "integer division:\n",
      "25/3=8\n"
     ]
    }
   ],
   "source": [
    "var_a = 3\n",
    "var_b = 25\n",
    "integer_division = var_b // var_a\n",
    "print(f\"integer division:\\n{var_b}/{var_a}={integer_division}\")"
   ]
  },
  {
   "cell_type": "code",
   "execution_count": 19,
   "id": "0d194064-57a2-4a0a-a381-dd9b039c647d",
   "metadata": {},
   "outputs": [
    {
     "name": "stdout",
     "output_type": "stream",
     "text": [
      "remainder:\n",
      "25/5 is 0\n"
     ]
    }
   ],
   "source": [
    "var_a = 5\n",
    "var_b = 25\n",
    "remainder = var_b % var_a\n",
    "print(f\"remainder:\\n{var_b}/{var_a} is {remainder}\")"
   ]
  },
  {
   "cell_type": "code",
   "execution_count": 21,
   "id": "4ff56349-60a7-409c-9eba-939583c25a4a",
   "metadata": {},
   "outputs": [
    {
     "name": "stdout",
     "output_type": "stream",
     "text": [
      "remainder:\n",
      "25/3 is 1\n"
     ]
    }
   ],
   "source": [
    "var_a = 3\n",
    "var_b = 25\n",
    "remainder = var_b % var_a\n",
    "print(f\"remainder:\\n{var_b}/{var_a} is {remainder}\")"
   ]
  },
  {
   "cell_type": "code",
   "execution_count": 22,
   "id": "b4fce31c-7836-4483-a2cd-dab62bada1e7",
   "metadata": {},
   "outputs": [
    {
     "name": "stdout",
     "output_type": "stream",
     "text": [
      "var_a: 10 binary of var_a: 0b1010\n",
      "complement of var_a: -11 binary of complement of var_a: -0b1011\n"
     ]
    }
   ],
   "source": [
    "var_a = 10\n",
    "binary_a = bin(var_a)\n",
    "\n",
    "complement_a = ~var_a\n",
    "binary_complement_a = bin(complement_a)\n",
    "\n",
    "print(f\"var_a: {var_a} binary of var_a: {binary_a}\")\n",
    "print(f\"complement of var_a: {complement_a} \\\n",
    "binary of complement of var_a: {binary_complement_a}\") # returns one's compliment"
   ]
  },
  {
   "cell_type": "code",
   "execution_count": 23,
   "id": "b38fc6ed-fa0f-4ced-ad00-2e7e235ef8d5",
   "metadata": {},
   "outputs": [
    {
     "name": "stdout",
     "output_type": "stream",
     "text": [
      "var_a: 10, var_b: 4\n",
      "binary of var_a: 0b1010, binary of var_b: 0b100\n",
      "bitwise_and: 0, binary_of_bitwise_and: 0b0\n"
     ]
    }
   ],
   "source": [
    "var_a = 10\n",
    "var_b = 4\n",
    "\n",
    "binary_a = bin(var_a)\n",
    "binary_b = bin(var_b)\n",
    "\n",
    "bitwise_and = var_a & var_b\n",
    "binary_bitwise_and = bin(bitwise_and)\n",
    "\n",
    "print(f\"var_a: {var_a}, var_b: {var_b}\")\n",
    "print(f\"binary of var_a: {binary_a}, binary of var_b: {binary_b}\")\n",
    "\n",
    "print(f\"bitwise_and: {bitwise_and}, binary_of_bitwise_and: {binary_bitwise_and}\")"
   ]
  },
  {
   "cell_type": "code",
   "execution_count": 24,
   "id": "9a8a5750-2e00-4915-b437-31186353fd02",
   "metadata": {},
   "outputs": [
    {
     "name": "stdout",
     "output_type": "stream",
     "text": [
      "var_a: 10, var_b: 4\n",
      "binary of var_a: 0b1010, binary of var_b: 0b100\n",
      "bitwise_or: 14, binary_bitwise_or: 0b0\n"
     ]
    }
   ],
   "source": [
    "var_a = 10\n",
    "var_b = 4\n",
    "\n",
    "binary_a = bin(var_a)\n",
    "binary_b = bin(var_b)\n",
    "\n",
    "bitwise_or = var_a | var_b\n",
    "binary_bitwise_or = bin(bitwise_and)\n",
    "\n",
    "print(f\"var_a: {var_a}, var_b: {var_b}\")\n",
    "print(f\"binary of var_a: {binary_a}, binary of var_b: {binary_b}\")\n",
    "\n",
    "print(f\"bitwise_or: {bitwise_or}, binary_bitwise_or: {binary_bitwise_or}\")"
   ]
  },
  {
   "cell_type": "code",
   "execution_count": 25,
   "id": "9562889a-29c2-44f6-9185-1e79b92f1745",
   "metadata": {},
   "outputs": [
    {
     "name": "stdout",
     "output_type": "stream",
     "text": [
      "var_a: 10, var_b: 4\n",
      "binary of var_a: 0b1010, binary of var_b: 0b100\n",
      "bitwise_xor: 14, binary_bitwise_xor: 0b0\n"
     ]
    }
   ],
   "source": [
    "var_a = 10\n",
    "var_b = 4\n",
    "\n",
    "binary_a = bin(var_a)\n",
    "binary_b = bin(var_b)\n",
    "\n",
    "bitwise_xor = var_a ^ var_b\n",
    "binary_bitwise_xor = bin(bitwise_and)\n",
    "\n",
    "print(f\"var_a: {var_a}, var_b: {var_b}\")\n",
    "print(f\"binary of var_a: {binary_a}, binary of var_b: {binary_b}\")\n",
    "\n",
    "print(f\"bitwise_xor: {bitwise_xor}, binary_bitwise_xor: {binary_bitwise_xor}\")"
   ]
  },
  {
   "cell_type": "code",
   "execution_count": 26,
   "id": "1ad9dfcf-c7ee-4e16-8b86-c854522e8274",
   "metadata": {},
   "outputs": [
    {
     "name": "stdout",
     "output_type": "stream",
     "text": [
      "var_a: 50\n",
      "binary of var_a: 0b110010\n",
      "right_shift: 25\n",
      "binary_right_shift: 0b11001\n"
     ]
    }
   ],
   "source": [
    "var_a = 50\n",
    "\n",
    "binary_a = bin(var_a)\n",
    "\n",
    "right_shift = var_a >> 1\n",
    "binary_right_shift = bin(right_shift)\n",
    "\n",
    "print(f\"var_a: {var_a}\")\n",
    "print(f\"binary of var_a: {binary_a}\")\n",
    "\n",
    "print(f\"right_shift: {right_shift}\")\n",
    "print(f\"binary_right_shift: {binary_right_shift}\")"
   ]
  },
  {
   "cell_type": "code",
   "execution_count": 27,
   "id": "f0af3e33-1da6-4a2c-a9af-33cfc4e1da8b",
   "metadata": {},
   "outputs": [
    {
     "data": {
      "text/plain": [
       "True"
      ]
     },
     "execution_count": 27,
     "metadata": {},
     "output_type": "execute_result"
    }
   ],
   "source": [
    "# compare above results with interger division\n",
    "N = 1\n",
    "var_a // 2**N == var_a >> N "
   ]
  },
  {
   "cell_type": "code",
   "execution_count": 28,
   "id": "7523bc18-07b9-4409-be3a-64354c888c50",
   "metadata": {},
   "outputs": [
    {
     "data": {
      "text/plain": [
       "True"
      ]
     },
     "execution_count": 28,
     "metadata": {},
     "output_type": "execute_result"
    }
   ],
   "source": [
    "N = 2\n",
    "var_a // 2**N == var_a >> N"
   ]
  },
  {
   "cell_type": "code",
   "execution_count": 30,
   "id": "4e4418c3-fb4f-4d70-889f-b25430a65925",
   "metadata": {},
   "outputs": [
    {
     "data": {
      "text/plain": [
       "True"
      ]
     },
     "execution_count": 30,
     "metadata": {},
     "output_type": "execute_result"
    }
   ],
   "source": [
    "var_a = 5\n",
    "N = 2\n",
    "var_a // 2**N == var_a >> N "
   ]
  },
  {
   "cell_type": "code",
   "execution_count": 31,
   "id": "cfcd326f-209e-4f23-a9bf-1fdef4f888d8",
   "metadata": {},
   "outputs": [
    {
     "name": "stdout",
     "output_type": "stream",
     "text": [
      "var_a: 48\n",
      "binary of var_a: 0b110000\n",
      "left_shift: 96\n",
      "binary_left_shift: 0b1100000\n"
     ]
    }
   ],
   "source": [
    "var_a = 48\n",
    "\n",
    "binary_a = bin(var_a)\n",
    "\n",
    "left_shift = var_a << 1\n",
    "binary_left_shift = bin(left_shift)\n",
    "\n",
    "print(f\"var_a: {var_a}\")\n",
    "print(f\"binary of var_a: {binary_a}\")\n",
    "\n",
    "print(f\"left_shift: {left_shift}\")\n",
    "print(f\"binary_left_shift: {binary_left_shift}\")"
   ]
  },
  {
   "cell_type": "code",
   "execution_count": 32,
   "id": "6acc9d38-ed2b-4909-b547-02359834536b",
   "metadata": {},
   "outputs": [
    {
     "data": {
      "text/plain": [
       "True"
      ]
     },
     "execution_count": 32,
     "metadata": {},
     "output_type": "execute_result"
    }
   ],
   "source": [
    "# compare the above results with multiplication by powers of 2\n",
    "var_a = 5\n",
    "N = 2\n",
    "var_a * 2**N == var_a << N"
   ]
  },
  {
   "cell_type": "code",
   "execution_count": 33,
   "id": "6d893800-a5e4-4acc-a99d-81fcaa156655",
   "metadata": {},
   "outputs": [
    {
     "data": {
      "text/plain": [
       "True"
      ]
     },
     "execution_count": 33,
     "metadata": {},
     "output_type": "execute_result"
    }
   ],
   "source": [
    "# compare the above results with multiplication by powers of 2\n",
    "var_a = 25\n",
    "N = 2\n",
    "var_a * 2**N == var_a << N "
   ]
  },
  {
   "cell_type": "code",
   "execution_count": null,
   "id": "f9b4776d-bbd8-4d28-8e81-adc222e35a56",
   "metadata": {},
   "outputs": [],
   "source": []
  }
 ],
 "metadata": {
  "kernelspec": {
   "display_name": "Python 3 (ipykernel)",
   "language": "python",
   "name": "python3"
  },
  "language_info": {
   "codemirror_mode": {
    "name": "ipython",
    "version": 3
   },
   "file_extension": ".py",
   "mimetype": "text/x-python",
   "name": "python",
   "nbconvert_exporter": "python",
   "pygments_lexer": "ipython3",
   "version": "3.10.8"
  }
 },
 "nbformat": 4,
 "nbformat_minor": 5
}
