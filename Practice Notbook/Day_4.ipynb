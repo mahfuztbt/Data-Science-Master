{
 "cells": [
  {
   "cell_type": "code",
   "execution_count": 6,
   "id": "01f20137-5d56-42dd-bc36-99e738f1c2d2",
   "metadata": {},
   "outputs": [],
   "source": [
    "name=\"Data science Masters\""
   ]
  },
  {
   "cell_type": "code",
   "execution_count": 2,
   "id": "d26415f0-600d-4812-a968-5d5091c125cf",
   "metadata": {},
   "outputs": [
    {
     "data": {
      "text/plain": [
       "'dATA SCIENCE mASTERS'"
      ]
     },
     "execution_count": 2,
     "metadata": {},
     "output_type": "execute_result"
    }
   ],
   "source": [
    "name.swapcase()"
   ]
  },
  {
   "cell_type": "code",
   "execution_count": 4,
   "id": "62472a60-41fa-4f68-b7cf-4b5bb1de354e",
   "metadata": {},
   "outputs": [
    {
     "data": {
      "text/plain": [
       "'Data Science Masters'"
      ]
     },
     "execution_count": 4,
     "metadata": {},
     "output_type": "execute_result"
    }
   ],
   "source": [
    "name.title()"
   ]
  },
  {
   "cell_type": "code",
   "execution_count": 5,
   "id": "ee4eacd9-1bf0-4730-994a-f62ff0e42f93",
   "metadata": {},
   "outputs": [
    {
     "data": {
      "text/plain": [
       "'Data science masters'"
      ]
     },
     "execution_count": 5,
     "metadata": {},
     "output_type": "execute_result"
    }
   ],
   "source": [
    "name.capitalize()"
   ]
  },
  {
   "cell_type": "markdown",
   "id": "4a0957e3-ae3d-453d-9d61-b5c4644c3fe9",
   "metadata": {},
   "source": [
    "## Reversing a Sting"
   ]
  },
  {
   "cell_type": "code",
   "execution_count": 7,
   "id": "387e2e1d-26cd-495d-b305-56ac8e9a9399",
   "metadata": {},
   "outputs": [
    {
     "data": {
      "text/plain": [
       "'sretsaM ecneics ataD'"
      ]
     },
     "execution_count": 7,
     "metadata": {},
     "output_type": "execute_result"
    }
   ],
   "source": [
    "name[::-1]"
   ]
  },
  {
   "cell_type": "code",
   "execution_count": 8,
   "id": "f5907fbe-ea85-495c-b426-ceab110f4b88",
   "metadata": {},
   "outputs": [
    {
     "data": {
      "text/plain": [
       "<reversed at 0x7fefe01e1510>"
      ]
     },
     "execution_count": 8,
     "metadata": {},
     "output_type": "execute_result"
    }
   ],
   "source": [
    "reversed(name)"
   ]
  },
  {
   "cell_type": "code",
   "execution_count": 9,
   "id": "7565889d-3bfa-4844-bf74-caef2b69f122",
   "metadata": {},
   "outputs": [
    {
     "data": {
      "text/plain": [
       "'s r e t s a M   e c n e i c s   a t a D'"
      ]
     },
     "execution_count": 9,
     "metadata": {},
     "output_type": "execute_result"
    }
   ],
   "source": [
    "\" \".join(reversed(name))"
   ]
  },
  {
   "cell_type": "code",
   "execution_count": 10,
   "id": "b2b5d469-fa7e-4e00-8058-3b13b185da16",
   "metadata": {},
   "outputs": [
    {
     "data": {
      "text/plain": [
       "'a'"
      ]
     },
     "execution_count": 10,
     "metadata": {},
     "output_type": "execute_result"
    }
   ],
   "source": [
    "\"Mahfuz\".join(\"a\")"
   ]
  },
  {
   "cell_type": "code",
   "execution_count": 1,
   "id": "1e0379f2-f09f-4a84-8019-4229e6c154ed",
   "metadata": {},
   "outputs": [],
   "source": [
    "## Assignments\n",
    "## using both code and list comprehesnion\n",
    "#Example: create a list only the prime numbers from a given list\n",
    "\n",
    "numbers = [1,2,3,4,5,6,7,8,9,10]"
   ]
  },
  {
   "cell_type": "code",
   "execution_count": 3,
   "id": "0def7908-966e-4352-bfc6-851ac0aa74c9",
   "metadata": {},
   "outputs": [],
   "source": [
    "numbers = [num for num in numbers if all(num % i != 0 for i in range(2, num)) and num > 1]\n"
   ]
  },
  {
   "cell_type": "code",
   "execution_count": 1,
   "id": "e2446577-dd0b-46eb-975e-3b47507e7dda",
   "metadata": {},
   "outputs": [
    {
     "data": {
      "text/plain": [
       "'a b c d'"
      ]
     },
     "execution_count": 1,
     "metadata": {},
     "output_type": "execute_result"
    }
   ],
   "source": [
    "\" \".join(\"abcd\")"
   ]
  },
  {
   "cell_type": "code",
   "execution_count": 2,
   "id": "31d6b810-a727-42e4-bad1-6e0b77c07d75",
   "metadata": {},
   "outputs": [
    {
     "data": {
      "text/plain": [
       "'t n a'"
      ]
     },
     "execution_count": 2,
     "metadata": {},
     "output_type": "execute_result"
    }
   ],
   "source": [
    "' '.join(reversed(\"ant\"))"
   ]
  },
  {
   "cell_type": "code",
   "execution_count": 3,
   "id": "2eaaf152-93d8-451a-8c41-3998f7032ebd",
   "metadata": {},
   "outputs": [
    {
     "data": {
      "text/plain": [
       "'t Pwskills n Pwskills a'"
      ]
     },
     "execution_count": 3,
     "metadata": {},
     "output_type": "execute_result"
    }
   ],
   "source": [
    "' Pwskills '.join(reversed(\"ant\"))"
   ]
  },
  {
   "cell_type": "code",
   "execution_count": 4,
   "id": "f42bb592-af97-4623-9655-d028a6e0c35f",
   "metadata": {},
   "outputs": [
    {
     "data": {
      "text/plain": [
       "['t', 'n', 'a']"
      ]
     },
     "execution_count": 4,
     "metadata": {},
     "output_type": "execute_result"
    }
   ],
   "source": [
    "## typecasting\n",
    "list(reversed(\"ant\"))"
   ]
  },
  {
   "cell_type": "code",
   "execution_count": 7,
   "id": "1caec693-263b-4e03-b86d-ea4bf6ea124b",
   "metadata": {},
   "outputs": [
    {
     "name": "stdout",
     "output_type": "stream",
     "text": [
      "sretsaM ecneics ataD"
     ]
    }
   ],
   "source": [
    "for i in list(reversed(name)):\n",
    "    print(i,end='')"
   ]
  },
  {
   "cell_type": "code",
   "execution_count": 8,
   "id": "5392d208-edd1-4b95-ba07-65cee2e1e1f3",
   "metadata": {},
   "outputs": [],
   "source": [
    "string_a=\" pwskills \""
   ]
  },
  {
   "cell_type": "code",
   "execution_count": 9,
   "id": "8b671c5b-e919-49c3-9c5e-49db36123a7c",
   "metadata": {},
   "outputs": [
    {
     "data": {
      "text/plain": [
       "'pwskills'"
      ]
     },
     "execution_count": 9,
     "metadata": {},
     "output_type": "execute_result"
    }
   ],
   "source": [
    "string_a.strip(\" \")"
   ]
  },
  {
   "cell_type": "code",
   "execution_count": 10,
   "id": "1bc41a76-d6a9-4adf-bc42-65c0d9a86b27",
   "metadata": {},
   "outputs": [
    {
     "data": {
      "text/plain": [
       "'pwskills '"
      ]
     },
     "execution_count": 10,
     "metadata": {},
     "output_type": "execute_result"
    }
   ],
   "source": [
    "string_a.lstrip(\" \")"
   ]
  },
  {
   "cell_type": "code",
   "execution_count": 11,
   "id": "fe48a5ce-bc36-4dd3-b773-f3c7a703760b",
   "metadata": {},
   "outputs": [
    {
     "data": {
      "text/plain": [
       "' pwskills'"
      ]
     },
     "execution_count": 11,
     "metadata": {},
     "output_type": "execute_result"
    }
   ],
   "source": [
    "string_a.rstrip(\" \")"
   ]
  },
  {
   "cell_type": "code",
   "execution_count": 12,
   "id": "74d2f138-3bc7-4764-baa2-0fc6e98e824d",
   "metadata": {},
   "outputs": [
    {
     "data": {
      "text/plain": [
       "'Welcome to Pwskills'"
      ]
     },
     "execution_count": 12,
     "metadata": {},
     "output_type": "execute_result"
    }
   ],
   "source": [
    "string_n=\"Greeting to Pwskills\"\n",
    "string_n.replace(\"Greeting\",\"Welcome\")"
   ]
  },
  {
   "cell_type": "code",
   "execution_count": 13,
   "id": "18ce1ea5-3bb9-4508-97d4-18ffe5342237",
   "metadata": {},
   "outputs": [],
   "source": [
    "string_n=\"Greeting to Pwskills\"\n",
    "var_a=string_n.replace(\"G\",\"T\")"
   ]
  },
  {
   "cell_type": "code",
   "execution_count": 15,
   "id": "7c01e6a9-ee1c-40a5-b5de-784cae180467",
   "metadata": {},
   "outputs": [
    {
     "name": "stdout",
     "output_type": "stream",
     "text": [
      "139958403204560\n",
      "139958402841648\n"
     ]
    }
   ],
   "source": [
    "print(id(string_n))\n",
    "print(id(var_a))"
   ]
  },
  {
   "cell_type": "code",
   "execution_count": 16,
   "id": "2c716ac9-73ce-4629-8ee5-bf93c9fa9163",
   "metadata": {},
   "outputs": [
    {
     "data": {
      "text/plain": [
       "'test gmail.com'"
      ]
     },
     "execution_count": 16,
     "metadata": {},
     "output_type": "execute_result"
    }
   ],
   "source": [
    "string_n=\"test@gmail.com\"\n",
    "var_a=string_n.replace(\"@\",\" \")\n",
    "var_a"
   ]
  },
  {
   "cell_type": "code",
   "execution_count": 17,
   "id": "9aadc003-eea6-4922-aefb-b2c40c98ade5",
   "metadata": {},
   "outputs": [
    {
     "data": {
      "text/plain": [
       "'hello   world'"
      ]
     },
     "execution_count": 17,
     "metadata": {},
     "output_type": "execute_result"
    }
   ],
   "source": [
    "'hello \\tworld'.expandtabs()"
   ]
  },
  {
   "cell_type": "code",
   "execution_count": 18,
   "id": "ae6f5599-ea74-4e34-8e40-4257be0b7fb6",
   "metadata": {},
   "outputs": [],
   "source": [
    "str1=\"Welcome to pwskills.Welcome to Dat cience Masters\""
   ]
  },
  {
   "cell_type": "code",
   "execution_count": 19,
   "id": "8abb3476-86d2-4314-be28-3c88a576b389",
   "metadata": {},
   "outputs": [
    {
     "data": {
      "text/plain": [
       "'Welcome to pwskills.Welcome to Data Science Masters'"
      ]
     },
     "execution_count": 19,
     "metadata": {},
     "output_type": "execute_result"
    }
   ],
   "source": [
    "str1.replace(\"Dat\",\"Data\").replace(\"cience\",\"Science\")"
   ]
  },
  {
   "cell_type": "code",
   "execution_count": 20,
   "id": "bb7158bf-4828-4209-bebd-7fd8953959d5",
   "metadata": {},
   "outputs": [
    {
     "data": {
      "text/plain": [
       "False"
      ]
     },
     "execution_count": 20,
     "metadata": {},
     "output_type": "execute_result"
    }
   ],
   "source": [
    "str1.isupper()"
   ]
  },
  {
   "cell_type": "code",
   "execution_count": 21,
   "id": "f56a7481-2922-47a7-a05f-a3464b1b7f9c",
   "metadata": {},
   "outputs": [
    {
     "name": "stdout",
     "output_type": "stream",
     "text": [
      "Hello\n"
     ]
    }
   ],
   "source": [
    "if \" \".isspace():\n",
    "    print(\"Hello\")"
   ]
  },
  {
   "cell_type": "code",
   "execution_count": 22,
   "id": "f80c39e4-0728-40f2-a30c-f13cbe5831e5",
   "metadata": {},
   "outputs": [],
   "source": [
    "str2=\"pwskills\""
   ]
  },
  {
   "cell_type": "code",
   "execution_count": 23,
   "id": "b48c51fc-78cf-4029-a73a-ae65099ec3f0",
   "metadata": {},
   "outputs": [
    {
     "data": {
      "text/plain": [
       "True"
      ]
     },
     "execution_count": 23,
     "metadata": {},
     "output_type": "execute_result"
    }
   ],
   "source": [
    "str2.endswith('s')"
   ]
  },
  {
   "cell_type": "code",
   "execution_count": 24,
   "id": "e66d6ced-5b0f-477e-85a1-8e4ac27536b9",
   "metadata": {},
   "outputs": [
    {
     "data": {
      "text/plain": [
       "True"
      ]
     },
     "execution_count": 24,
     "metadata": {},
     "output_type": "execute_result"
    }
   ],
   "source": [
    "str2.startswith('p')"
   ]
  },
  {
   "cell_type": "code",
   "execution_count": 25,
   "id": "71b4955c-8e17-4e0f-b39f-5d3eb653e0f8",
   "metadata": {},
   "outputs": [
    {
     "data": {
      "text/plain": [
       "True"
      ]
     },
     "execution_count": 25,
     "metadata": {},
     "output_type": "execute_result"
    }
   ],
   "source": [
    "## check if all the char in string are alphanumeric\n",
    "a=\"abcd1234\"\n",
    "a.isalnum()"
   ]
  },
  {
   "cell_type": "code",
   "execution_count": 26,
   "id": "36216fa0-92de-4a33-9595-9c5cf9f00272",
   "metadata": {},
   "outputs": [
    {
     "name": "stdout",
     "output_type": "stream",
     "text": [
      "8\n"
     ]
    }
   ],
   "source": [
    "count=0\n",
    "for i in str2:\n",
    "    count=count+1\n",
    "\n",
    "print(count)"
   ]
  },
  {
   "cell_type": "code",
   "execution_count": 27,
   "id": "33c5a169-bf0d-429c-8347-ae1f3ef27751",
   "metadata": {},
   "outputs": [
    {
     "data": {
      "text/plain": [
       "8"
      ]
     },
     "execution_count": 27,
     "metadata": {},
     "output_type": "execute_result"
    }
   ],
   "source": [
    "len(str2)"
   ]
  },
  {
   "cell_type": "code",
   "execution_count": 28,
   "id": "63a6d3c6-c9b0-4531-a130-626d4565a744",
   "metadata": {},
   "outputs": [
    {
     "name": "stdout",
     "output_type": "stream",
     "text": [
      "p\n",
      "w\n",
      "s\n",
      "k\n",
      "i\n",
      "l\n",
      "l\n",
      "s\n"
     ]
    }
   ],
   "source": [
    "for i in str2:\n",
    "    print(i)"
   ]
  },
  {
   "cell_type": "code",
   "execution_count": 29,
   "id": "fd6d31aa-13ff-4120-afb7-407512799c54",
   "metadata": {},
   "outputs": [
    {
     "name": "stdout",
     "output_type": "stream",
     "text": [
      "m\n",
      "a\n",
      "h\n",
      "f\n",
      "u\n",
      "z\n"
     ]
    }
   ],
   "source": [
    "str3 = \"mahfuz\"\n",
    "for i in str3:\n",
    "    print(i)"
   ]
  },
  {
   "cell_type": "code",
   "execution_count": 30,
   "id": "da626bf4-587e-4728-808c-30cfc88e0532",
   "metadata": {},
   "outputs": [
    {
     "data": {
      "text/plain": [
       "range(0, 8)"
      ]
     },
     "execution_count": 30,
     "metadata": {},
     "output_type": "execute_result"
    }
   ],
   "source": [
    "range(len(str2))"
   ]
  },
  {
   "cell_type": "code",
   "execution_count": 31,
   "id": "e3b371b9-d4d9-4750-be64-b93c009e18fa",
   "metadata": {},
   "outputs": [
    {
     "name": "stdout",
     "output_type": "stream",
     "text": [
      "0 = p\n",
      "1 = w\n",
      "2 = s\n",
      "3 = k\n",
      "4 = i\n",
      "5 = l\n",
      "6 = l\n",
      "7 = s\n"
     ]
    }
   ],
   "source": [
    "for i in range(len(str2)):\n",
    "    print(i,\"=\",str2[i])"
   ]
  },
  {
   "cell_type": "code",
   "execution_count": 32,
   "id": "cf07db0a-af66-4f31-ac96-80229223432c",
   "metadata": {},
   "outputs": [
    {
     "data": {
      "text/plain": [
       "7"
      ]
     },
     "execution_count": 32,
     "metadata": {},
     "output_type": "execute_result"
    }
   ],
   "source": [
    "len(str2)-1"
   ]
  },
  {
   "cell_type": "code",
   "execution_count": 33,
   "id": "f9eda3b4-bd2b-499f-b59b-4aa140b9a88c",
   "metadata": {},
   "outputs": [
    {
     "name": "stdout",
     "output_type": "stream",
     "text": [
      "s\n",
      "l\n",
      "l\n",
      "i\n",
      "k\n",
      "s\n",
      "w\n",
      "p\n"
     ]
    }
   ],
   "source": [
    "for i in range(len(str2)-1,-1,-1):\n",
    "    print(str2[i])"
   ]
  },
  {
   "cell_type": "code",
   "execution_count": 34,
   "id": "ae2a870d-fbe0-4728-bf76-2b2e9b922bba",
   "metadata": {},
   "outputs": [
    {
     "data": {
      "text/plain": [
       "7"
      ]
     },
     "execution_count": 34,
     "metadata": {},
     "output_type": "execute_result"
    }
   ],
   "source": [
    "\n",
    "\n",
    "string=\"pwskills\"\n",
    "ch=len(string)-1\n",
    "ch\n",
    "\n"
   ]
  },
  {
   "cell_type": "code",
   "execution_count": 35,
   "id": "28a94d23-2d93-44c6-84f8-9c9a223e4f42",
   "metadata": {},
   "outputs": [
    {
     "data": {
      "text/plain": [
       "('s', 'l', 'l')"
      ]
     },
     "execution_count": 35,
     "metadata": {},
     "output_type": "execute_result"
    }
   ],
   "source": [
    "string[7],string[6],string[5]"
   ]
  },
  {
   "cell_type": "code",
   "execution_count": 36,
   "id": "35314165-2b63-43b9-b4ca-3e2c175e81f5",
   "metadata": {},
   "outputs": [
    {
     "name": "stdout",
     "output_type": "stream",
     "text": [
      "s\n",
      "l\n",
      "l\n",
      "i\n",
      "k\n",
      "s\n",
      "w\n",
      "p\n"
     ]
    }
   ],
   "source": [
    "while ch>=0:\n",
    "    print(string[ch])\n",
    "    ch=ch-1"
   ]
  },
  {
   "cell_type": "code",
   "execution_count": 37,
   "id": "51f74b79-3b68-4c66-82fd-4c34e1c7ea45",
   "metadata": {},
   "outputs": [],
   "source": [
    "Name = \"pwskills\"\n",
    "vowels = \"AaEeIiOoUu\""
   ]
  },
  {
   "cell_type": "code",
   "execution_count": 39,
   "id": "5cea0fe7-8438-4367-b4fc-7fc7bab2df4e",
   "metadata": {},
   "outputs": [
    {
     "name": "stdout",
     "output_type": "stream",
     "text": [
      "p is not a vowel\n",
      "w is not a vowel\n",
      "s is not a vowel\n",
      "k is not a vowel\n",
      "i is a vowel\n",
      "l is not a vowel\n",
      "l is not a vowel\n",
      "s is not a vowel\n"
     ]
    }
   ],
   "source": [
    "for ch in Name:\n",
    "    if ch in vowels:\n",
    "        print(\"{} is a vowel\".format(ch))\n",
    "    else:\n",
    "        print(\"{} is not a vowel\".format(ch))"
   ]
  },
  {
   "cell_type": "markdown",
   "id": "a1c5b687-0b67-4dff-b575-8f92e3324560",
   "metadata": {},
   "source": [
    "list"
   ]
  },
  {
   "cell_type": "code",
   "execution_count": 40,
   "id": "76f57144-dc5c-478b-9ee1-9677a1dc5e69",
   "metadata": {},
   "outputs": [
    {
     "data": {
      "text/plain": [
       "list"
      ]
     },
     "execution_count": 40,
     "metadata": {},
     "output_type": "execute_result"
    }
   ],
   "source": [
    "type([])"
   ]
  },
  {
   "cell_type": "code",
   "execution_count": 42,
   "id": "f3417034-ae7a-4383-b890-112ba3ef796a",
   "metadata": {},
   "outputs": [
    {
     "data": {
      "text/plain": [
       "['Mahfuz', 'Ronnie', 'Pwskills', 23]"
      ]
     },
     "execution_count": 42,
     "metadata": {},
     "output_type": "execute_result"
    }
   ],
   "source": [
    "[\"Mahfuz\",\"Ronnie\",\"Pwskills\",23]"
   ]
  },
  {
   "cell_type": "code",
   "execution_count": 43,
   "id": "8b344310-b7af-4cf7-8bf6-7d440c14c250",
   "metadata": {},
   "outputs": [
    {
     "data": {
      "text/plain": [
       "[1, 2, 3, 4, 5]"
      ]
     },
     "execution_count": 43,
     "metadata": {},
     "output_type": "execute_result"
    }
   ],
   "source": [
    "list([1,2,3,4,5])"
   ]
  },
  {
   "cell_type": "code",
   "execution_count": 44,
   "id": "5ca0e4ac-7c56-40d1-bee8-75611009df7b",
   "metadata": {},
   "outputs": [
    {
     "data": {
      "text/plain": [
       "'pwskills'"
      ]
     },
     "execution_count": 44,
     "metadata": {},
     "output_type": "execute_result"
    }
   ],
   "source": [
    "str2"
   ]
  },
  {
   "cell_type": "code",
   "execution_count": 45,
   "id": "6c8fc241-799b-480f-91a8-3882e3155da4",
   "metadata": {},
   "outputs": [
    {
     "data": {
      "text/plain": [
       "['p', 'w', 's', 'k', 'i', 'l', 'l', 's']"
      ]
     },
     "execution_count": 45,
     "metadata": {},
     "output_type": "execute_result"
    }
   ],
   "source": [
    "list(str2)"
   ]
  },
  {
   "cell_type": "code",
   "execution_count": 46,
   "id": "1c9f68a3-a7ec-4954-86ea-e452a9d70130",
   "metadata": {},
   "outputs": [],
   "source": [
    "str1=\"PW skills Data science masters\""
   ]
  },
  {
   "cell_type": "code",
   "execution_count": 47,
   "id": "7ea69e6f-51a2-4d50-9393-a79c80abb3ac",
   "metadata": {},
   "outputs": [
    {
     "data": {
      "text/plain": [
       "['PW', 'skills', 'Data', 'science', 'masters']"
      ]
     },
     "execution_count": 47,
     "metadata": {},
     "output_type": "execute_result"
    }
   ],
   "source": [
    "list(str1.split(\" \"))"
   ]
  },
  {
   "cell_type": "code",
   "execution_count": 48,
   "id": "61efab6e-70b7-4b8a-ba40-4f200b4215eb",
   "metadata": {},
   "outputs": [],
   "source": [
    "lst1=str1.split(\" \")"
   ]
  },
  {
   "cell_type": "code",
   "execution_count": 49,
   "id": "2f751308-f278-4873-a2a9-5cde74cb8f1a",
   "metadata": {},
   "outputs": [
    {
     "data": {
      "text/plain": [
       "['skills', 'Data', 'science', 'masters']"
      ]
     },
     "execution_count": 49,
     "metadata": {},
     "output_type": "execute_result"
    }
   ],
   "source": [
    "lst1[1:]"
   ]
  },
  {
   "cell_type": "code",
   "execution_count": 50,
   "id": "95f32dbf-865c-4eb8-982f-3c0397312e02",
   "metadata": {},
   "outputs": [],
   "source": [
    "lst1[2]=\"Datas\""
   ]
  },
  {
   "cell_type": "code",
   "execution_count": 51,
   "id": "f67ab20d-48c1-4993-8be9-0343575c10ee",
   "metadata": {},
   "outputs": [
    {
     "data": {
      "text/plain": [
       "['PW', 'skills', 'Datas', 'science', 'masters']"
      ]
     },
     "execution_count": 51,
     "metadata": {},
     "output_type": "execute_result"
    }
   ],
   "source": [
    "lst1"
   ]
  },
  {
   "cell_type": "code",
   "execution_count": 52,
   "id": "59f8dd8d-cd01-41a4-b7d7-8cac4fb90cab",
   "metadata": {},
   "outputs": [
    {
     "data": {
      "text/plain": [
       "['masters', 'Datas', 'PW']"
      ]
     },
     "execution_count": 52,
     "metadata": {},
     "output_type": "execute_result"
    }
   ],
   "source": [
    "lst1[::-2]"
   ]
  },
  {
   "cell_type": "code",
   "execution_count": 53,
   "id": "2297aaa5-45be-4f3c-8147-17832830eada",
   "metadata": {},
   "outputs": [
    {
     "data": {
      "text/plain": [
       "['PW']"
      ]
     },
     "execution_count": 53,
     "metadata": {},
     "output_type": "execute_result"
    }
   ],
   "source": [
    "lst1[-5::-2]"
   ]
  },
  {
   "cell_type": "code",
   "execution_count": 54,
   "id": "e1011e70-2309-4a19-8b42-8e61cb1d2f11",
   "metadata": {},
   "outputs": [
    {
     "data": {
      "text/plain": [
       "['PW', 'skills', 'Datas', 'science', 'masters']"
      ]
     },
     "execution_count": 54,
     "metadata": {},
     "output_type": "execute_result"
    }
   ],
   "source": [
    "lst1"
   ]
  },
  {
   "cell_type": "code",
   "execution_count": 55,
   "id": "3fd2172c-d6f1-4fec-bc46-cb0503056268",
   "metadata": {},
   "outputs": [
    {
     "data": {
      "text/plain": [
       "['PW', 'skills', 'Datas', 'science', 'masters', 'new element', 3]"
      ]
     },
     "execution_count": 55,
     "metadata": {},
     "output_type": "execute_result"
    }
   ],
   "source": [
    "## concatenation operation\n",
    "lst1 + ['new element',3]"
   ]
  },
  {
   "cell_type": "code",
   "execution_count": 56,
   "id": "416e0d4e-a183-46a5-9b2c-8422f7e6e2f0",
   "metadata": {},
   "outputs": [],
   "source": [
    "## concatenation operation\n",
    "lst2=lst1 + [['new element',3]]"
   ]
  },
  {
   "cell_type": "code",
   "execution_count": 57,
   "id": "06f4d557-6a4d-4807-9355-88d5f2e2df81",
   "metadata": {},
   "outputs": [
    {
     "data": {
      "text/plain": [
       "'new element'"
      ]
     },
     "execution_count": 57,
     "metadata": {},
     "output_type": "execute_result"
    }
   ],
   "source": [
    "lst2[-1][0]"
   ]
  },
  {
   "cell_type": "code",
   "execution_count": 58,
   "id": "940d6fd3-2274-4ded-8478-cf1ccd0b29b3",
   "metadata": {},
   "outputs": [
    {
     "data": {
      "text/plain": [
       "['PW',\n",
       " 'skills',\n",
       " 'Datas',\n",
       " 'science',\n",
       " 'masters',\n",
       " 'PW',\n",
       " 'skills',\n",
       " 'Datas',\n",
       " 'science',\n",
       " 'masters']"
      ]
     },
     "execution_count": 58,
     "metadata": {},
     "output_type": "execute_result"
    }
   ],
   "source": [
    "lst1 * 2"
   ]
  },
  {
   "cell_type": "code",
   "execution_count": 59,
   "id": "52680356-09ec-4036-aca2-a9dc1fde1ffd",
   "metadata": {},
   "outputs": [
    {
     "name": "stdout",
     "output_type": "stream",
     "text": [
      "Present\n"
     ]
    }
   ],
   "source": [
    "if \"science\" in lst1:\n",
    "    print(\"Present\")"
   ]
  },
  {
   "cell_type": "code",
   "execution_count": 60,
   "id": "77c287ec-30ce-449c-b9b1-ba87233b1886",
   "metadata": {},
   "outputs": [
    {
     "name": "stdout",
     "output_type": "stream",
     "text": [
      "science\n"
     ]
    }
   ],
   "source": [
    "for elements in lst1:\n",
    "    if elements==\"science\":\n",
    "        print(elements)\n",
    "        break"
   ]
  },
  {
   "cell_type": "code",
   "execution_count": 61,
   "id": "1b67bc28-206f-451c-b5d4-87d002136bdb",
   "metadata": {},
   "outputs": [
    {
     "data": {
      "text/plain": [
       "True"
      ]
     },
     "execution_count": 61,
     "metadata": {},
     "output_type": "execute_result"
    }
   ],
   "source": [
    "## check elements inside a list\n",
    "lst=[1,2,3,4]\n",
    "4 in lst"
   ]
  },
  {
   "cell_type": "code",
   "execution_count": 62,
   "id": "010e8904-3ba2-456b-adac-111d318e7208",
   "metadata": {},
   "outputs": [
    {
     "data": {
      "text/plain": [
       "True"
      ]
     },
     "execution_count": 62,
     "metadata": {},
     "output_type": "execute_result"
    }
   ],
   "source": [
    "2.0 in lst"
   ]
  },
  {
   "cell_type": "code",
   "execution_count": 63,
   "id": "0535b41c-5514-404f-95e3-8040a263b33c",
   "metadata": {},
   "outputs": [],
   "source": [
    "lst1=[\"Zebra\",\"Monkey\",\"Donkey\",\"Lion\"]\n",
    "lst2=[5,6,2,9,5,8,6]"
   ]
  },
  {
   "cell_type": "code",
   "execution_count": 64,
   "id": "459d8c50-2d02-4ef0-91ea-0413bb89ea2a",
   "metadata": {},
   "outputs": [
    {
     "name": "stdout",
     "output_type": "stream",
     "text": [
      "Zebra\n"
     ]
    }
   ],
   "source": [
    "\n",
    "\n",
    "print(max(lst1))\n",
    "\n",
    "\n"
   ]
  },
  {
   "cell_type": "code",
   "execution_count": 65,
   "id": "78c32a79-73e8-4755-810d-1d005444a9a2",
   "metadata": {},
   "outputs": [
    {
     "data": {
      "text/plain": [
       "9"
      ]
     },
     "execution_count": 65,
     "metadata": {},
     "output_type": "execute_result"
    }
   ],
   "source": [
    "max(lst2)"
   ]
  },
  {
   "cell_type": "code",
   "execution_count": 66,
   "id": "57af6cd5-ab7a-4846-ba01-a0cd54b7474c",
   "metadata": {},
   "outputs": [
    {
     "data": {
      "text/plain": [
       "'Donkey'"
      ]
     },
     "execution_count": 66,
     "metadata": {},
     "output_type": "execute_result"
    }
   ],
   "source": [
    "\n",
    "\n",
    "min(lst1)\n",
    "\n"
   ]
  },
  {
   "cell_type": "code",
   "execution_count": 67,
   "id": "95fa774f-d6d8-40db-ab9b-dedc5c3089d6",
   "metadata": {},
   "outputs": [
    {
     "data": {
      "text/plain": [
       "2"
      ]
     },
     "execution_count": 67,
     "metadata": {},
     "output_type": "execute_result"
    }
   ],
   "source": [
    "min(lst2)"
   ]
  },
  {
   "cell_type": "code",
   "execution_count": 68,
   "id": "18f1f946-9841-44fc-8cec-88dab0753f1a",
   "metadata": {},
   "outputs": [
    {
     "data": {
      "text/plain": [
       "True"
      ]
     },
     "execution_count": 68,
     "metadata": {},
     "output_type": "execute_result"
    }
   ],
   "source": [
    "1.9999999999999999 in [2, 4, 5]"
   ]
  },
  {
   "cell_type": "code",
   "execution_count": 69,
   "id": "da615bb7-50a7-4257-a6a3-fd77f5733251",
   "metadata": {},
   "outputs": [],
   "source": [
    "## Append\n",
    "lst=[1,2,3,4,5,6]"
   ]
  },
  {
   "cell_type": "code",
   "execution_count": 70,
   "id": "945245d8-bf13-4e37-9918-da94b8fae503",
   "metadata": {},
   "outputs": [],
   "source": [
    "lst.append(\"Pwskills\")"
   ]
  },
  {
   "cell_type": "code",
   "execution_count": 71,
   "id": "2f136163-09b8-45ce-9921-ccefd2cb3cbc",
   "metadata": {},
   "outputs": [
    {
     "data": {
      "text/plain": [
       "[1, 2, 3, 4, 5, 6, 'Pwskills']"
      ]
     },
     "execution_count": 71,
     "metadata": {},
     "output_type": "execute_result"
    }
   ],
   "source": [
    "lst"
   ]
  },
  {
   "cell_type": "code",
   "execution_count": 72,
   "id": "10c0e3ab-a0ef-4dea-9bb7-d7a71ae14975",
   "metadata": {},
   "outputs": [],
   "source": [
    "lst.append(['Data','Science','Masters'])"
   ]
  },
  {
   "cell_type": "code",
   "execution_count": 73,
   "id": "c70f12f7-ac2b-4e0a-bd97-4cac9995d9c9",
   "metadata": {},
   "outputs": [
    {
     "data": {
      "text/plain": [
       "[1, 2, 3, 4, 5, 6, 'Pwskills', ['Data', 'Science', 'Masters']]"
      ]
     },
     "execution_count": 73,
     "metadata": {},
     "output_type": "execute_result"
    }
   ],
   "source": [
    "lst"
   ]
  },
  {
   "cell_type": "code",
   "execution_count": 74,
   "id": "aed4dea5-77f8-4aa2-a497-d28f89b68efb",
   "metadata": {},
   "outputs": [],
   "source": [
    "lst1=[\"Zebra\",\"Monkey\",\"Donkey\",\"Lion\"]"
   ]
  },
  {
   "cell_type": "code",
   "execution_count": 75,
   "id": "f9e27d08-d13b-46cf-a840-ae38f49e0dfb",
   "metadata": {},
   "outputs": [
    {
     "data": {
      "text/plain": [
       "'Lion'"
      ]
     },
     "execution_count": 75,
     "metadata": {},
     "output_type": "execute_result"
    }
   ],
   "source": [
    "\n",
    "\n",
    "lst1.pop()\n",
    "\n"
   ]
  },
  {
   "cell_type": "code",
   "execution_count": 76,
   "id": "f8ae47cd-be9d-4b11-8eeb-357e3918d7ad",
   "metadata": {},
   "outputs": [
    {
     "data": {
      "text/plain": [
       "'Donkey'"
      ]
     },
     "execution_count": 76,
     "metadata": {},
     "output_type": "execute_result"
    }
   ],
   "source": [
    "lst1.pop(2)"
   ]
  },
  {
   "cell_type": "code",
   "execution_count": 77,
   "id": "e1d47eaf-35c6-45b2-9a96-d320aef99524",
   "metadata": {},
   "outputs": [
    {
     "data": {
      "text/plain": [
       "'Zebra'"
      ]
     },
     "execution_count": 77,
     "metadata": {},
     "output_type": "execute_result"
    }
   ],
   "source": [
    "removed_element=lst1.pop(0)\n",
    "removed_element"
   ]
  },
  {
   "cell_type": "code",
   "execution_count": 78,
   "id": "fabc046f-3bcf-45b2-8a5b-7a22f06c032f",
   "metadata": {},
   "outputs": [
    {
     "data": {
      "text/plain": [
       "['q', 'e', 'f', 's', 't', 'u']"
      ]
     },
     "execution_count": 78,
     "metadata": {},
     "output_type": "execute_result"
    }
   ],
   "source": [
    "## Sorting and Reverse method in list\n",
    "new_list=['q','e','f','s','t','u']\n",
    "new_list"
   ]
  },
  {
   "cell_type": "code",
   "execution_count": 79,
   "id": "644b5ebe-8400-4fb8-8bd7-ed60df1925ec",
   "metadata": {},
   "outputs": [
    {
     "data": {
      "text/plain": [
       "['u', 't', 's', 'f', 'e', 'q']"
      ]
     },
     "execution_count": 79,
     "metadata": {},
     "output_type": "execute_result"
    }
   ],
   "source": [
    "new_list[::-1]"
   ]
  },
  {
   "cell_type": "code",
   "execution_count": 80,
   "id": "6addefc6-8bf6-42eb-aab8-bc66b28f38cc",
   "metadata": {},
   "outputs": [],
   "source": [
    "## inplace\n",
    "new_list.reverse()"
   ]
  },
  {
   "cell_type": "code",
   "execution_count": 81,
   "id": "79a37ec9-c7f3-47ca-8414-9d75ea9b6729",
   "metadata": {},
   "outputs": [
    {
     "data": {
      "text/plain": [
       "['u', 't', 's', 'f', 'e', 'q']"
      ]
     },
     "execution_count": 81,
     "metadata": {},
     "output_type": "execute_result"
    }
   ],
   "source": [
    "new_list"
   ]
  },
  {
   "cell_type": "code",
   "execution_count": 82,
   "id": "a4d76d49-69d5-447f-872e-ece551e6f366",
   "metadata": {},
   "outputs": [],
   "source": [
    "new_list.sort()"
   ]
  },
  {
   "cell_type": "code",
   "execution_count": 83,
   "id": "0de75e29-c21b-4fc7-bf7d-99555bb8edfc",
   "metadata": {},
   "outputs": [
    {
     "data": {
      "text/plain": [
       "['e', 'f', 'q', 's', 't', 'u']"
      ]
     },
     "execution_count": 83,
     "metadata": {},
     "output_type": "execute_result"
    }
   ],
   "source": [
    "new_list"
   ]
  },
  {
   "cell_type": "code",
   "execution_count": 84,
   "id": "b155a5ce-035a-4131-aef2-1c054ccedef8",
   "metadata": {},
   "outputs": [],
   "source": [
    "lst=[1,2,3,4,5,6]\n",
    "lst.append(10)"
   ]
  },
  {
   "cell_type": "code",
   "execution_count": 85,
   "id": "47f1ff9b-e4b2-4790-bc94-4459b16fa238",
   "metadata": {},
   "outputs": [],
   "source": [
    "lst.extend(['PW','Skills'])"
   ]
  },
  {
   "cell_type": "code",
   "execution_count": 86,
   "id": "8ff04710-c6cc-439c-a8e1-f300c9e90318",
   "metadata": {},
   "outputs": [
    {
     "ename": "NameError",
     "evalue": "name 'ldt' is not defined",
     "output_type": "error",
     "traceback": [
      "\u001b[0;31m---------------------------------------------------------------------------\u001b[0m",
      "\u001b[0;31mNameError\u001b[0m                                 Traceback (most recent call last)",
      "Cell \u001b[0;32mIn[86], line 1\u001b[0m\n\u001b[0;32m----> 1\u001b[0m \u001b[43mldt\u001b[49m\n",
      "\u001b[0;31mNameError\u001b[0m: name 'ldt' is not defined"
     ]
    }
   ],
   "source": [
    "ldt"
   ]
  },
  {
   "cell_type": "code",
   "execution_count": 87,
   "id": "cf582811-26a1-4628-adbf-4faaec233923",
   "metadata": {},
   "outputs": [
    {
     "data": {
      "text/plain": [
       "[1, 2, 3, 4, 5, 6, 10, 'PW', 'Skills']"
      ]
     },
     "execution_count": 87,
     "metadata": {},
     "output_type": "execute_result"
    }
   ],
   "source": [
    "lst"
   ]
  },
  {
   "cell_type": "code",
   "execution_count": 88,
   "id": "3afdd68e-5314-4261-8a57-b8610d3b1f1e",
   "metadata": {},
   "outputs": [],
   "source": [
    "# Nested List\n",
    "# Let's make three lists\n",
    "lst_1=[1,2,3]\n",
    "lst_2=[4,5,6]\n",
    "lst_3=[7,8,9]\n",
    "\n",
    "# Make a list of lists to form a matrix\n",
    "matrix = [lst_1,lst_2,lst_3]"
   ]
  },
  {
   "cell_type": "code",
   "execution_count": 89,
   "id": "b015cd95-ac74-4548-8b74-e7305dfaebc2",
   "metadata": {},
   "outputs": [
    {
     "data": {
      "text/plain": [
       "[[1, 2, 3], [4, 5, 6], [7, 8, 9]]"
      ]
     },
     "execution_count": 89,
     "metadata": {},
     "output_type": "execute_result"
    }
   ],
   "source": [
    "matrix"
   ]
  },
  {
   "cell_type": "code",
   "execution_count": 90,
   "id": "427c8462-0260-4f79-94fa-15dc045526a5",
   "metadata": {},
   "outputs": [
    {
     "data": {
      "text/plain": [
       "6"
      ]
     },
     "execution_count": 90,
     "metadata": {},
     "output_type": "execute_result"
    }
   ],
   "source": [
    "matrix[1][2]"
   ]
  },
  {
   "cell_type": "code",
   "execution_count": 91,
   "id": "30dfedde-d1c9-4e6b-89bb-8dd47a6ee0b7",
   "metadata": {},
   "outputs": [
    {
     "data": {
      "text/plain": [
       "[8, 9]"
      ]
     },
     "execution_count": 91,
     "metadata": {},
     "output_type": "execute_result"
    }
   ],
   "source": [
    "matrix[2][1:]"
   ]
  },
  {
   "cell_type": "code",
   "execution_count": 92,
   "id": "41bcd64a-42e6-43be-baae-68380bca9725",
   "metadata": {},
   "outputs": [
    {
     "data": {
      "text/plain": [
       "[0, 1, 2, 3, 4, 5, 6, 7, 8, 9, 10, 11, 12, 13, 14, 15, 16, 17, 18, 19]"
      ]
     },
     "execution_count": 92,
     "metadata": {},
     "output_type": "execute_result"
    }
   ],
   "source": [
    "## List Comprehension\n",
    "[i for i in range(20)]"
   ]
  },
  {
   "cell_type": "code",
   "execution_count": 93,
   "id": "4bfd06fe-cd20-46dd-955a-65a3a35696de",
   "metadata": {},
   "outputs": [
    {
     "data": {
      "text/plain": [
       "[0,\n",
       " 'ODD',\n",
       " 2,\n",
       " 'ODD',\n",
       " 4,\n",
       " 'ODD',\n",
       " 6,\n",
       " 'ODD',\n",
       " 8,\n",
       " 'ODD',\n",
       " 10,\n",
       " 'ODD',\n",
       " 12,\n",
       " 'ODD',\n",
       " 14,\n",
       " 'ODD',\n",
       " 16,\n",
       " 'ODD',\n",
       " 18,\n",
       " 'ODD']"
      ]
     },
     "execution_count": 93,
     "metadata": {},
     "output_type": "execute_result"
    }
   ],
   "source": [
    "## List Comprehension\n",
    "## Even numbers\n",
    "[i if i%2==0 else \"ODD\" for i in range(0,20)]"
   ]
  },
  {
   "cell_type": "code",
   "execution_count": 94,
   "id": "197d817f-3270-4b98-b6f2-14eb8f36cbd8",
   "metadata": {},
   "outputs": [],
   "source": [
    "## Assignment \n",
    "## Sum of even numbers and odd numbers\n",
    "lst=[1,2,3,4,5,6,7,8]"
   ]
  },
  {
   "cell_type": "code",
   "execution_count": 95,
   "id": "b50cea7b-b25e-41b0-bff0-a1547ee809ac",
   "metadata": {},
   "outputs": [
    {
     "name": "stdout",
     "output_type": "stream",
     "text": [
      "20\n",
      "16\n"
     ]
    }
   ],
   "source": [
    "lst = [1,2,3,4,5,6,7,8]\n",
    "\n",
    "even_sum = 0\n",
    "odd_sum = 0\n",
    "for i in lst:\n",
    "    if i % 2 ==0:\n",
    "        even_sum += i\n",
    "    else:\n",
    "        odd_sum += i        \n",
    "        \n",
    "print(even_sum)\n",
    "print(odd_sum)\n",
    "\n"
   ]
  },
  {
   "cell_type": "code",
   "execution_count": 96,
   "id": "a05a679f-319b-45e1-97ab-2450e3dfca08",
   "metadata": {},
   "outputs": [],
   "source": [
    "even_sum=sum([num for num in lst if num%2==0])"
   ]
  },
  {
   "cell_type": "code",
   "execution_count": 97,
   "id": "1de27718-06db-4e02-a269-2116ef0e6161",
   "metadata": {},
   "outputs": [
    {
     "data": {
      "text/plain": [
       "20"
      ]
     },
     "execution_count": 97,
     "metadata": {},
     "output_type": "execute_result"
    }
   ],
   "source": [
    "even_sum"
   ]
  },
  {
   "cell_type": "code",
   "execution_count": 98,
   "id": "d53ee877-ace2-415d-9de1-67b11a8569ec",
   "metadata": {},
   "outputs": [
    {
     "data": {
      "text/plain": [
       "16"
      ]
     },
     "execution_count": 98,
     "metadata": {},
     "output_type": "execute_result"
    }
   ],
   "source": [
    "odd_sum=sum([num for num in lst if num%2!=0])\n",
    "odd_sum"
   ]
  },
  {
   "cell_type": "code",
   "execution_count": 99,
   "id": "d6990cd5-c660-412a-9394-af7a7d68cb36",
   "metadata": {},
   "outputs": [
    {
     "data": {
      "text/plain": [
       "[1, 4, 9, 16, 25, 36, 49, 64, 81, 100]"
      ]
     },
     "execution_count": 99,
     "metadata": {},
     "output_type": "execute_result"
    }
   ],
   "source": [
    "lst=[1,2,3,4,5,6,7,8,9,10]\n",
    "[num**2 for num in lst]"
   ]
  },
  {
   "cell_type": "code",
   "execution_count": 100,
   "id": "272cecfc-80b9-427a-8f37-60f468b48d46",
   "metadata": {},
   "outputs": [
    {
     "data": {
      "text/plain": [
       "[1, 2, 3, 4]"
      ]
     },
     "execution_count": 100,
     "metadata": {},
     "output_type": "execute_result"
    }
   ],
   "source": [
    "# Example 2: Create a list of only the positive numbers from a given list\n",
    "numbers = [-2, -1, 0, 1, 2, 3, 4]\n",
    "[num for num in numbers if num > 0]"
   ]
  },
  {
   "cell_type": "code",
   "execution_count": 101,
   "id": "f3d0519e-5d3b-43c9-99bb-784ab8f4b438",
   "metadata": {},
   "outputs": [
    {
     "data": {
      "text/plain": [
       "['a', 'b', 'c', 'd']"
      ]
     },
     "execution_count": 101,
     "metadata": {},
     "output_type": "execute_result"
    }
   ],
   "source": [
    "# Example 3: Create a list of only the first letters of words in a list\n",
    "words = ['apple', 'banana', 'cherry', 'date']\n",
    "[word[0] for word in words]"
   ]
  },
  {
   "cell_type": "code",
   "execution_count": 103,
   "id": "b2469814-67e2-4e89-8cd0-b46f929e73fb",
   "metadata": {},
   "outputs": [],
   "source": [
    "# Example 4: Convert a list of temperatures from Celsius to Fahrenheit uing list comprehesnion\n",
    "celsius_temperatures = [0, 10, 20, 30, 40, 50]"
   ]
  },
  {
   "cell_type": "code",
   "execution_count": 104,
   "id": "bfeb7639-c838-4cf5-b218-4db97b2d86c2",
   "metadata": {},
   "outputs": [
    {
     "data": {
      "text/plain": [
       "[32.0, 50.0, 68.0, 86.0, 104.0, 122.0]"
      ]
     },
     "execution_count": 104,
     "metadata": {},
     "output_type": "execute_result"
    }
   ],
   "source": [
    "\n",
    "\n",
    "[(9/5)*temp + 32 for temp in celsius_temperatures]"
   ]
  },
  {
   "cell_type": "code",
   "execution_count": 105,
   "id": "c17d151b-0714-4c24-94b3-8afab8cac6e4",
   "metadata": {},
   "outputs": [],
   "source": [
    "# Example 5: Flatten a list of lists into a single list\n",
    "lists = [[1, 2, 3], [4, 5, 6], [7, 8, 9]]"
   ]
  },
  {
   "cell_type": "code",
   "execution_count": 106,
   "id": "57a50ed1-cf51-4695-87ac-7a893d6bf71b",
   "metadata": {},
   "outputs": [
    {
     "data": {
      "text/plain": [
       "[1, 2, 3, 4, 5, 6, 7, 8, 9]"
      ]
     },
     "execution_count": 106,
     "metadata": {},
     "output_type": "execute_result"
    }
   ],
   "source": [
    "\n",
    "\n",
    "[j for i in lists for j in i]\n",
    "\n"
   ]
  },
  {
   "cell_type": "code",
   "execution_count": 107,
   "id": "e5ef4787-00e5-45e4-8697-5dfd81091985",
   "metadata": {},
   "outputs": [],
   "source": [
    "\n",
    "\n",
    "## Assignment \n",
    "## Using both code and list comprehesnion\n",
    "# Example 2: Create a list of only the prime numbers from a given list\n",
    "numbers = [1, 2, 3, 4, 5, 6, 7, 8, 9, 10]\n",
    "\n"
   ]
  },
  {
   "cell_type": "code",
   "execution_count": 108,
   "id": "b470c129-88a1-4389-a11a-ee7281ab6e46",
   "metadata": {},
   "outputs": [],
   "source": [
    "numbers = [1, 2, 3, 4, 5]"
   ]
  },
  {
   "cell_type": "code",
   "execution_count": 109,
   "id": "631393a3-b67f-41b6-8561-809a6b1bb819",
   "metadata": {},
   "outputs": [
    {
     "data": {
      "text/plain": [
       "((1, 2), (1, 3))"
      ]
     },
     "execution_count": 109,
     "metadata": {},
     "output_type": "execute_result"
    }
   ],
   "source": [
    "\n",
    "\n",
    "(1,2),(1,3)\n",
    "\n"
   ]
  },
  {
   "cell_type": "code",
   "execution_count": 110,
   "id": "764a8625-a43f-4f91-baf5-ba765d1b1004",
   "metadata": {},
   "outputs": [
    {
     "data": {
      "text/plain": [
       "[1, 2, 3, 4, 5, 6, 7, 8, 9, 10]"
      ]
     },
     "execution_count": 110,
     "metadata": {},
     "output_type": "execute_result"
    }
   ],
   "source": [
    "lst"
   ]
  },
  {
   "cell_type": "code",
   "execution_count": 111,
   "id": "c057ca44-e7a9-45c3-8fa5-54fd1b478516",
   "metadata": {},
   "outputs": [
    {
     "ename": "AttributeError",
     "evalue": "'list' object has no attribute 'integer'",
     "output_type": "error",
     "traceback": [
      "\u001b[0;31m---------------------------------------------------------------------------\u001b[0m",
      "\u001b[0;31mAttributeError\u001b[0m                            Traceback (most recent call last)",
      "Cell \u001b[0;32mIn[111], line 1\u001b[0m\n\u001b[0;32m----> 1\u001b[0m \u001b[43mlst\u001b[49m\u001b[38;5;241;43m.\u001b[39;49m\u001b[43minteger\u001b[49m\n",
      "\u001b[0;31mAttributeError\u001b[0m: 'list' object has no attribute 'integer'"
     ]
    }
   ],
   "source": [
    "lst.integer"
   ]
  },
  {
   "cell_type": "code",
   "execution_count": 112,
   "id": "c0691f35-504a-41d7-8171-dab110a51fc5",
   "metadata": {},
   "outputs": [
    {
     "ename": "AttributeError",
     "evalue": "'list' object has no attribute 'integer'",
     "output_type": "error",
     "traceback": [
      "\u001b[0;31m---------------------------------------------------------------------------\u001b[0m",
      "\u001b[0;31mAttributeError\u001b[0m                            Traceback (most recent call last)",
      "Cell \u001b[0;32mIn[112], line 1\u001b[0m\n\u001b[0;32m----> 1\u001b[0m \u001b[43mlst\u001b[49m\u001b[38;5;241;43m.\u001b[39;49m\u001b[43minteger\u001b[49m()\n",
      "\u001b[0;31mAttributeError\u001b[0m: 'list' object has no attribute 'integer'"
     ]
    }
   ],
   "source": [
    "lst.integer()"
   ]
  },
  {
   "cell_type": "code",
   "execution_count": 113,
   "id": "9e572644-a580-4692-8aa7-279514778c43",
   "metadata": {},
   "outputs": [
    {
     "ename": "TypeError",
     "evalue": "insert expected 2 arguments, got 0",
     "output_type": "error",
     "traceback": [
      "\u001b[0;31m---------------------------------------------------------------------------\u001b[0m",
      "\u001b[0;31mTypeError\u001b[0m                                 Traceback (most recent call last)",
      "Cell \u001b[0;32mIn[113], line 1\u001b[0m\n\u001b[0;32m----> 1\u001b[0m \u001b[43mlst\u001b[49m\u001b[38;5;241;43m.\u001b[39;49m\u001b[43minsert\u001b[49m\u001b[43m(\u001b[49m\u001b[43m)\u001b[49m\n",
      "\u001b[0;31mTypeError\u001b[0m: insert expected 2 arguments, got 0"
     ]
    }
   ],
   "source": [
    "lst.insert()"
   ]
  },
  {
   "cell_type": "code",
   "execution_count": 115,
   "id": "8f7fdc4a-2314-4590-b85c-271e73df510e",
   "metadata": {},
   "outputs": [],
   "source": [
    "c=1+2j"
   ]
  },
  {
   "cell_type": "code",
   "execution_count": 116,
   "id": "58e70caf-0527-4d9c-b404-6eec6085a8af",
   "metadata": {},
   "outputs": [
    {
     "data": {
      "text/plain": [
       "1.0"
      ]
     },
     "execution_count": 116,
     "metadata": {},
     "output_type": "execute_result"
    }
   ],
   "source": [
    "c.real"
   ]
  },
  {
   "cell_type": "code",
   "execution_count": null,
   "id": "661844cf-5691-463b-a7e7-7bda842a4563",
   "metadata": {},
   "outputs": [],
   "source": []
  }
 ],
 "metadata": {
  "kernelspec": {
   "display_name": "Python 3 (ipykernel)",
   "language": "python",
   "name": "python3"
  },
  "language_info": {
   "codemirror_mode": {
    "name": "ipython",
    "version": 3
   },
   "file_extension": ".py",
   "mimetype": "text/x-python",
   "name": "python",
   "nbconvert_exporter": "python",
   "pygments_lexer": "ipython3",
   "version": "3.10.8"
  }
 },
 "nbformat": 4,
 "nbformat_minor": 5
}
