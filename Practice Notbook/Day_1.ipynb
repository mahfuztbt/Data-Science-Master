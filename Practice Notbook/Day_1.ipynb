{
 "cells": [
  {
   "cell_type": "code",
   "execution_count": 1,
   "id": "c8ddadfe-adb1-4b1a-9081-1013d7e9201e",
   "metadata": {},
   "outputs": [],
   "source": [
    "a = 10"
   ]
  },
  {
   "cell_type": "code",
   "execution_count": 2,
   "id": "cb5bfea6-830a-4f7a-8099-4758d4d3022f",
   "metadata": {},
   "outputs": [
    {
     "data": {
      "text/plain": [
       "10"
      ]
     },
     "execution_count": 2,
     "metadata": {},
     "output_type": "execute_result"
    }
   ],
   "source": [
    "a"
   ]
  },
  {
   "cell_type": "markdown",
   "id": "ee9face4-e0be-4107-aea0-8d521fb6f818",
   "metadata": {},
   "source": [
    "## this is the intro session\n",
    "### welcome to pw Data Science Masters Batch\n",
    "This is test example"
   ]
  },
  {
   "cell_type": "code",
   "execution_count": 3,
   "id": "9390f460-73df-4db3-84a5-03a24bde88db",
   "metadata": {},
   "outputs": [],
   "source": [
    "a  = 10"
   ]
  },
  {
   "cell_type": "markdown",
   "id": "b2e31ec8-3d61-4097-9ecb-b68807f61018",
   "metadata": {},
   "source": [
    "### Numbers"
   ]
  },
  {
   "cell_type": "code",
   "execution_count": 6,
   "id": "62b4af2d-cbfb-42b7-a43e-aa70c3c775e4",
   "metadata": {},
   "outputs": [
    {
     "name": "stdout",
     "output_type": "stream",
     "text": [
      "4\n"
     ]
    }
   ],
   "source": [
    "print(1 + 3)"
   ]
  },
  {
   "cell_type": "code",
   "execution_count": 10,
   "id": "3be20b8e-049e-465d-8ad2-6fe72d011bee",
   "metadata": {},
   "outputs": [
    {
     "name": "stdout",
     "output_type": "stream",
     "text": [
      "Hello world \n",
      " i am a student in pw skill\n"
     ]
    }
   ],
   "source": [
    "print(\"Hello world \\n i am a student in pw skill\")"
   ]
  },
  {
   "cell_type": "markdown",
   "id": "096308cf-32d9-4121-8938-f386ea3baaf7",
   "metadata": {},
   "source": [
    "## Variables Assignments"
   ]
  },
  {
   "cell_type": "code",
   "execution_count": 11,
   "id": "437ce790-abf1-41d7-8d32-9dcaef31f121",
   "metadata": {},
   "outputs": [],
   "source": [
    "name = \"Mahfuz\"\n",
    "company = \"PW skills\""
   ]
  },
  {
   "cell_type": "code",
   "execution_count": 12,
   "id": "80c7f478-4bb9-49e8-bb32-ad592bc6d725",
   "metadata": {},
   "outputs": [
    {
     "data": {
      "text/plain": [
       "'Mahfuz'"
      ]
     },
     "execution_count": 12,
     "metadata": {},
     "output_type": "execute_result"
    }
   ],
   "source": [
    "name"
   ]
  },
  {
   "cell_type": "code",
   "execution_count": 13,
   "id": "7c99221d-ec3f-4b95-923b-2cc6364c087e",
   "metadata": {},
   "outputs": [
    {
     "data": {
      "text/plain": [
       "str"
      ]
     },
     "execution_count": 13,
     "metadata": {},
     "output_type": "execute_result"
    }
   ],
   "source": [
    "type(\"\")"
   ]
  },
  {
   "cell_type": "code",
   "execution_count": 14,
   "id": "2cb1ff99-18a7-4a09-857c-8af11cee232f",
   "metadata": {},
   "outputs": [
    {
     "data": {
      "text/plain": [
       "1"
      ]
     },
     "execution_count": 14,
     "metadata": {},
     "output_type": "execute_result"
    }
   ],
   "source": [
    "int(1.84)"
   ]
  },
  {
   "cell_type": "code",
   "execution_count": null,
   "id": "0aa86467-5cf3-4e2e-bbf5-a3133e207898",
   "metadata": {},
   "outputs": [],
   "source": []
  }
 ],
 "metadata": {
  "kernelspec": {
   "display_name": "Python 3 (ipykernel)",
   "language": "python",
   "name": "python3"
  },
  "language_info": {
   "codemirror_mode": {
    "name": "ipython",
    "version": 3
   },
   "file_extension": ".py",
   "mimetype": "text/x-python",
   "name": "python",
   "nbconvert_exporter": "python",
   "pygments_lexer": "ipython3",
   "version": "3.10.8"
  }
 },
 "nbformat": 4,
 "nbformat_minor": 5
}
