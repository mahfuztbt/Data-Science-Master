{
 "cells": [
  {
   "cell_type": "markdown",
   "id": "2bf9406d-8ca7-4bd2-9766-07b946b8380e",
   "metadata": {},
   "source": [
    "# Multithreading"
   ]
  },
  {
   "cell_type": "code",
   "execution_count": 1,
   "id": "ef553b43-6443-41fa-a96b-19c7ba1b8c79",
   "metadata": {},
   "outputs": [],
   "source": [
    "import threading"
   ]
  },
  {
   "cell_type": "code",
   "execution_count": 3,
   "id": "b9bed832-d718-4037-b012-b25499d9eb6f",
   "metadata": {},
   "outputs": [],
   "source": [
    "def test(id):\n",
    "    print(\"this is my test ID %d\"% id)"
   ]
  },
  {
   "cell_type": "code",
   "execution_count": 4,
   "id": "712734cd-5395-44b9-bbca-c64b6d26f096",
   "metadata": {},
   "outputs": [
    {
     "name": "stdout",
     "output_type": "stream",
     "text": [
      "this is my test ID 10\n"
     ]
    }
   ],
   "source": [
    "test(10)"
   ]
  },
  {
   "cell_type": "code",
   "execution_count": 5,
   "id": "1be01217-4584-4f95-90ad-af5f67abd228",
   "metadata": {},
   "outputs": [],
   "source": [
    "def test(id):\n",
    "    print(\"this is my test ID \", id)"
   ]
  },
  {
   "cell_type": "code",
   "execution_count": 6,
   "id": "0a05508c-834e-4c0f-8cd0-b884b72510de",
   "metadata": {},
   "outputs": [
    {
     "name": "stdout",
     "output_type": "stream",
     "text": [
      "this is my test ID  10\n"
     ]
    }
   ],
   "source": [
    "test(10)"
   ]
  },
  {
   "cell_type": "code",
   "execution_count": 11,
   "id": "b2ea62db-61b1-40a0-872a-16a46a440714",
   "metadata": {},
   "outputs": [],
   "source": [
    "thread = [threading.Thread(target=test, args = (i)) for i in [10,1,3]]"
   ]
  },
  {
   "cell_type": "code",
   "execution_count": 12,
   "id": "ef3debd6-2c41-4f8d-b650-7c8a6191076f",
   "metadata": {},
   "outputs": [
    {
     "data": {
      "text/plain": [
       "[<Thread(Thread-8 (test), initial)>,\n",
       " <Thread(Thread-9 (test), initial)>,\n",
       " <Thread(Thread-10 (test), initial)>]"
      ]
     },
     "execution_count": 12,
     "metadata": {},
     "output_type": "execute_result"
    }
   ],
   "source": [
    "thread"
   ]
  },
  {
   "cell_type": "code",
   "execution_count": 16,
   "id": "0c6ff5b0-616e-492d-93c9-c9300006c0b1",
   "metadata": {},
   "outputs": [
    {
     "ename": "RuntimeError",
     "evalue": "threads can only be started once",
     "output_type": "error",
     "traceback": [
      "\u001b[0;31m---------------------------------------------------------------------------\u001b[0m",
      "\u001b[0;31mRuntimeError\u001b[0m                              Traceback (most recent call last)",
      "Cell \u001b[0;32mIn[16], line 2\u001b[0m\n\u001b[1;32m      1\u001b[0m \u001b[38;5;28;01mfor\u001b[39;00m t \u001b[38;5;129;01min\u001b[39;00m thread:\n\u001b[0;32m----> 2\u001b[0m     \u001b[43mt\u001b[49m\u001b[38;5;241;43m.\u001b[39;49m\u001b[43mstart\u001b[49m\u001b[43m(\u001b[49m\u001b[43m)\u001b[49m\n",
      "File \u001b[0;32m/opt/conda/lib/python3.10/threading.py:930\u001b[0m, in \u001b[0;36mThread.start\u001b[0;34m(self)\u001b[0m\n\u001b[1;32m    927\u001b[0m     \u001b[38;5;28;01mraise\u001b[39;00m \u001b[38;5;167;01mRuntimeError\u001b[39;00m(\u001b[38;5;124m\"\u001b[39m\u001b[38;5;124mthread.__init__() not called\u001b[39m\u001b[38;5;124m\"\u001b[39m)\n\u001b[1;32m    929\u001b[0m \u001b[38;5;28;01mif\u001b[39;00m \u001b[38;5;28mself\u001b[39m\u001b[38;5;241m.\u001b[39m_started\u001b[38;5;241m.\u001b[39mis_set():\n\u001b[0;32m--> 930\u001b[0m     \u001b[38;5;28;01mraise\u001b[39;00m \u001b[38;5;167;01mRuntimeError\u001b[39;00m(\u001b[38;5;124m\"\u001b[39m\u001b[38;5;124mthreads can only be started once\u001b[39m\u001b[38;5;124m\"\u001b[39m)\n\u001b[1;32m    932\u001b[0m \u001b[38;5;28;01mwith\u001b[39;00m _active_limbo_lock:\n\u001b[1;32m    933\u001b[0m     _limbo[\u001b[38;5;28mself\u001b[39m] \u001b[38;5;241m=\u001b[39m \u001b[38;5;28mself\u001b[39m\n",
      "\u001b[0;31mRuntimeError\u001b[0m: threads can only be started once"
     ]
    }
   ],
   "source": [
    "for t in thread:\n",
    "    t.start()"
   ]
  },
  {
   "cell_type": "code",
   "execution_count": 17,
   "id": "9c78a60a-a274-4390-8e53-6da78ed9435d",
   "metadata": {},
   "outputs": [],
   "source": [
    "import urllib.request"
   ]
  },
  {
   "cell_type": "code",
   "execution_count": 18,
   "id": "b4cf17a6-89a9-4499-a652-25100be424f4",
   "metadata": {},
   "outputs": [],
   "source": [
    "def file_download(url, filename):\n",
    "    urllib.request.urlretrieve(url, filename)"
   ]
  },
  {
   "cell_type": "code",
   "execution_count": null,
   "id": "132071f6-0546-43f2-a26f-697c342f8122",
   "metadata": {},
   "outputs": [],
   "source": []
  },
  {
   "cell_type": "code",
   "execution_count": null,
   "id": "4b1f449a-772a-4718-b199-31f9c939ee69",
   "metadata": {},
   "outputs": [],
   "source": []
  },
  {
   "cell_type": "code",
   "execution_count": null,
   "id": "5413e771-6edf-4957-b370-e93d7bbd8a15",
   "metadata": {},
   "outputs": [],
   "source": []
  },
  {
   "cell_type": "code",
   "execution_count": 19,
   "id": "411f00a8-2e5e-4ed0-8867-a6a44e393ff0",
   "metadata": {},
   "outputs": [
    {
     "ename": "TypeError",
     "evalue": "file_download() missing 2 required positional arguments: 'url' and 'filename'",
     "output_type": "error",
     "traceback": [
      "\u001b[0;31m---------------------------------------------------------------------------\u001b[0m",
      "\u001b[0;31mTypeError\u001b[0m                                 Traceback (most recent call last)",
      "Cell \u001b[0;32mIn[19], line 1\u001b[0m\n\u001b[0;32m----> 1\u001b[0m \u001b[43mfile_download\u001b[49m\u001b[43m(\u001b[49m\u001b[43m)\u001b[49m \n",
      "\u001b[0;31mTypeError\u001b[0m: file_download() missing 2 required positional arguments: 'url' and 'filename'"
     ]
    }
   ],
   "source": [
    "file_download() "
   ]
  },
  {
   "cell_type": "code",
   "execution_count": null,
   "id": "86f84ea2-594f-4cc9-83b1-b8ac164b0dfc",
   "metadata": {},
   "outputs": [],
   "source": []
  },
  {
   "cell_type": "code",
   "execution_count": null,
   "id": "cc5d910d-b9d8-4624-a747-77dac937d317",
   "metadata": {},
   "outputs": [],
   "source": []
  },
  {
   "cell_type": "code",
   "execution_count": null,
   "id": "a648be6c-4711-409d-9094-f0f1728111d9",
   "metadata": {},
   "outputs": [],
   "source": []
  },
  {
   "cell_type": "code",
   "execution_count": 21,
   "id": "738c66dc-fefa-4421-b249-1138ed803c39",
   "metadata": {},
   "outputs": [],
   "source": [
    "import time"
   ]
  },
  {
   "cell_type": "code",
   "execution_count": 22,
   "id": "58fc225a-1bf5-4761-984a-e6361bdb642f",
   "metadata": {},
   "outputs": [],
   "source": [
    "def test2(x):\n",
    "    for i in range(10):\n",
    "        print(\"test1 print the value of x %d and print the value of i %d\" %(x,i))"
   ]
  },
  {
   "cell_type": "code",
   "execution_count": 25,
   "id": "2b4eb835-642b-4fa5-ad08-c44489c04b60",
   "metadata": {},
   "outputs": [],
   "source": [
    "thread2 = [threading.Thread(target= test2, args=(i,)) for i in [100,10,20,5]]"
   ]
  },
  {
   "cell_type": "code",
   "execution_count": 27,
   "id": "3f5657c0-7593-4539-9681-139a966477d6",
   "metadata": {},
   "outputs": [
    {
     "name": "stdout",
     "output_type": "stream",
     "text": [
      "test1 print the value of x 100 and print the value of i 0\n",
      "test1 print the value of x 100 and print the value of i 1\n",
      "test1 print the value of x 100 and print the value of i 2\n",
      "test1 print the value of x 100 and print the value of i 3\n",
      "test1 print the value of x 100 and print the value of i 4\n",
      "test1 print the value of x 100 and print the value of i 5\n",
      "test1 print the value of x 100 and print the value of i 6\n",
      "test1 print the value of x 100 and print the value of i 7\n",
      "test1 print the value of x 100 and print the value of i 8\n",
      "test1 print the value of x 100 and print the value of i 9\n",
      "test1 print the value of x 10 and print the value of i 0\n",
      "test1 print the value of x 10 and print the value of i 1\n",
      "test1 print the value of x 10 and print the value of i 2\n",
      "test1 print the value of x 10 and print the value of i 3\n",
      "test1 print the value of x 10 and print the value of i 4\n",
      "test1 print the value of x 10 and print the value of i 5\n",
      "test1 print the value of x 10 and print the value of i 6\n",
      "test1 print the value of x 10 and print the value of i 7\n",
      "test1 print the value of x 10 and print the value of i 8\n",
      "test1 print the value of x 10 and print the value of i 9\n",
      "test1 print the value of x 20 and print the value of i 0\n",
      "test1 print the value of x 20 and print the value of i 1\n",
      "test1 print the value of x 20 and print the value of i 2\n",
      "test1 print the value of x 20 and print the value of i 3\n",
      "test1 print the value of x 20 and print the value of i 4\n",
      "test1 print the value of x 20 and print the value of i 5\n",
      "test1 print the value of x 20 and print the value of i 6\n",
      "test1 print the value of x 20 and print the value of i 7\n",
      "test1 print the value of x 20 and print the value of i 8\n",
      "test1 print the value of x 20 and print the value of i 9\n",
      "test1 print the value of x 5 and print the value of i 0\n",
      "test1 print the value of x 5 and print the value of i 1\n",
      "test1 print the value of x 5 and print the value of i 2\n",
      "test1 print the value of x 5 and print the value of i 3\n",
      "test1 print the value of x 5 and print the value of i 4\n",
      "test1 print the value of x 5 and print the value of i 5\n",
      "test1 print the value of x 5 and print the value of i 6\n",
      "test1 print the value of x 5 and print the value of i 7\n",
      "test1 print the value of x 5 and print the value of i 8\n",
      "test1 print the value of x 5 and print the value of i 9\n"
     ]
    }
   ],
   "source": [
    "for t in thread2:\n",
    "    t.start()"
   ]
  },
  {
   "cell_type": "code",
   "execution_count": null,
   "id": "f01e3771-9580-44a0-81af-702d18205cb1",
   "metadata": {},
   "outputs": [],
   "source": []
  },
  {
   "cell_type": "code",
   "execution_count": 23,
   "id": "0a8b2524-119a-472a-ac17-65f6debf056e",
   "metadata": {},
   "outputs": [
    {
     "name": "stdout",
     "output_type": "stream",
     "text": [
      "test1 print the value of x 10 and print the value of i 0\n",
      "test1 print the value of x 10 and print the value of i 1\n",
      "test1 print the value of x 10 and print the value of i 2\n",
      "test1 print the value of x 10 and print the value of i 3\n",
      "test1 print the value of x 10 and print the value of i 4\n",
      "test1 print the value of x 10 and print the value of i 5\n",
      "test1 print the value of x 10 and print the value of i 6\n",
      "test1 print the value of x 10 and print the value of i 7\n",
      "test1 print the value of x 10 and print the value of i 8\n",
      "test1 print the value of x 10 and print the value of i 9\n"
     ]
    }
   ],
   "source": [
    "test2(10)"
   ]
  },
  {
   "cell_type": "code",
   "execution_count": 24,
   "id": "c50c9016-1bf5-4aae-b26c-859352d54628",
   "metadata": {},
   "outputs": [
    {
     "name": "stdout",
     "output_type": "stream",
     "text": [
      "test1 print the value of x 2 and print the value of i 0\n",
      "test1 print the value of x 2 and print the value of i 1\n",
      "test1 print the value of x 2 and print the value of i 2\n",
      "test1 print the value of x 2 and print the value of i 3\n",
      "test1 print the value of x 2 and print the value of i 4\n",
      "test1 print the value of x 2 and print the value of i 5\n",
      "test1 print the value of x 2 and print the value of i 6\n",
      "test1 print the value of x 2 and print the value of i 7\n",
      "test1 print the value of x 2 and print the value of i 8\n",
      "test1 print the value of x 2 and print the value of i 9\n"
     ]
    }
   ],
   "source": [
    "test2(2)"
   ]
  },
  {
   "cell_type": "code",
   "execution_count": 35,
   "id": "fe5ef2a9-073c-4bbc-bdd2-df27129edc9c",
   "metadata": {},
   "outputs": [
    {
     "name": "stdout",
     "output_type": "stream",
     "text": [
      "value of x 1 and value of shared_var 1\n",
      "value of x 2 and value of shared_var 2\n",
      "value of x 34 and value of shared_var 3\n",
      "value of x 5 and value of shared_var 4\n",
      "value of x 6 and value of shared_var 5\n"
     ]
    }
   ],
   "source": [
    "shared_var = 0\n",
    "lock_var = threading.Lock()\n",
    "def test3(x):\n",
    "    global shared_var\n",
    "    with lock_var:\n",
    "        shared_var = shared_var + 1\n",
    "        print(\"value of x %d and value of shared_var %d\" % (x, shared_var))\n",
    "        time.sleep(1)\n",
    "        \n",
    "thread4 = [threading.Thread(target= test3, args=(i,)) for i in [1,2,34,5,6]]\n",
    "\n",
    "for t in thread4:\n",
    "    t.start()"
   ]
  },
  {
   "cell_type": "code",
   "execution_count": 32,
   "id": "f68a0a9d-400c-4ad7-8912-71a9af71b926",
   "metadata": {},
   "outputs": [
    {
     "name": "stdout",
     "output_type": "stream",
     "text": [
      "value of x 1 and value of shared_var 1\n"
     ]
    }
   ],
   "source": [
    "test3(1)"
   ]
  },
  {
   "cell_type": "code",
   "execution_count": 33,
   "id": "d7b0c3a5-3d87-4b0b-894c-811773c32f7e",
   "metadata": {},
   "outputs": [
    {
     "name": "stdout",
     "output_type": "stream",
     "text": [
      "value of x 2 and value of shared_var 2\n"
     ]
    }
   ],
   "source": [
    "test3(2)"
   ]
  },
  {
   "cell_type": "code",
   "execution_count": null,
   "id": "9d56cc4f-e333-48a8-bf9d-884b984eb3b1",
   "metadata": {},
   "outputs": [],
   "source": []
  }
 ],
 "metadata": {
  "kernelspec": {
   "display_name": "Python 3 (ipykernel)",
   "language": "python",
   "name": "python3"
  },
  "language_info": {
   "codemirror_mode": {
    "name": "ipython",
    "version": 3
   },
   "file_extension": ".py",
   "mimetype": "text/x-python",
   "name": "python",
   "nbconvert_exporter": "python",
   "pygments_lexer": "ipython3",
   "version": "3.10.8"
  }
 },
 "nbformat": 4,
 "nbformat_minor": 5
}
