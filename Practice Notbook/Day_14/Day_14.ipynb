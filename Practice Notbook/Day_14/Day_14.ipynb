{
 "cells": [
  {
   "cell_type": "markdown",
   "id": "2d73655f-6795-4817-a10e-1368ef050aa3",
   "metadata": {},
   "source": [
    "# Files"
   ]
  },
  {
   "cell_type": "markdown",
   "id": "5732fdd3-a7c6-4055-bb2f-891ae7c36d8d",
   "metadata": {},
   "source": [
    "## working with files"
   ]
  },
  {
   "cell_type": "code",
   "execution_count": 2,
   "id": "ca748564-8e84-4207-b516-d3987770c524",
   "metadata": {},
   "outputs": [],
   "source": [
    "f = open(\"test.txt\", 'w')"
   ]
  },
  {
   "cell_type": "code",
   "execution_count": 4,
   "id": "64321d8b-60b4-488c-ae69-3b0da93a63bb",
   "metadata": {},
   "outputs": [
    {
     "data": {
      "text/plain": [
       "'/home/jovyan/work'"
      ]
     },
     "execution_count": 4,
     "metadata": {},
     "output_type": "execute_result"
    }
   ],
   "source": [
    "pwd #present directory"
   ]
  },
  {
   "cell_type": "code",
   "execution_count": 5,
   "id": "c544aa54-114f-4dee-93dc-595a447d9848",
   "metadata": {},
   "outputs": [
    {
     "name": "stdout",
     "output_type": "stream",
     "text": [
      "\u001b[0m\u001b[01;34mAssignment\u001b[0m/   Day_2.ipynb         Day_7.ipynb        Untitled1.ipynb\n",
      "Day_11.ipynb  Day_3.ipynb         Day_8.ipynb        Untitled.ipynb\n",
      "Day_13.ipynb  Day_4_1.2.23.ipynb  README.md\n",
      "Day_14.ipynb  Day_5.ipynb         sample-code.ipynb\n",
      "Day_1.ipynb   Day_6.ipynb         test.txt\n"
     ]
    }
   ],
   "source": [
    "ls"
   ]
  },
  {
   "cell_type": "code",
   "execution_count": 6,
   "id": "87f9db2e-7bbc-4263-9dda-c74803f9d45b",
   "metadata": {},
   "outputs": [
    {
     "data": {
      "text/plain": [
       "44"
      ]
     },
     "execution_count": 6,
     "metadata": {},
     "output_type": "execute_result"
    }
   ],
   "source": [
    "f.write(\"this is my first write operation in the file\")"
   ]
  },
  {
   "cell_type": "code",
   "execution_count": 7,
   "id": "38eb3c62-5b6c-4409-ade9-1e0e43012f37",
   "metadata": {},
   "outputs": [],
   "source": [
    "f.close()"
   ]
  },
  {
   "cell_type": "code",
   "execution_count": 8,
   "id": "f05a434f-1816-4ccb-81ac-ddd05c507e6c",
   "metadata": {},
   "outputs": [],
   "source": [
    "f = open(\"test.txt\", 'a')"
   ]
  },
  {
   "cell_type": "code",
   "execution_count": 9,
   "id": "927630ed-2d2c-4a02-9393-ed8c775b235c",
   "metadata": {},
   "outputs": [
    {
     "data": {
      "text/plain": [
       "44"
      ]
     },
     "execution_count": 9,
     "metadata": {},
     "output_type": "execute_result"
    }
   ],
   "source": [
    "f.write(\"this is my first write operation in the file\")"
   ]
  },
  {
   "cell_type": "code",
   "execution_count": 10,
   "id": "fc911079-4910-47e9-a500-1a424611ae04",
   "metadata": {},
   "outputs": [],
   "source": [
    "f.close()"
   ]
  },
  {
   "cell_type": "code",
   "execution_count": 11,
   "id": "8265c1ee-2cce-4bac-9814-ca2a922c2b99",
   "metadata": {},
   "outputs": [],
   "source": [
    "data = open(\"test.txt\", 'r')"
   ]
  },
  {
   "cell_type": "code",
   "execution_count": 12,
   "id": "dd2e2f58-0782-430c-bf90-aef5f3834b13",
   "metadata": {},
   "outputs": [
    {
     "data": {
      "text/plain": [
       "'this is my first write operation in the filethis is my first write operation in the file'"
      ]
     },
     "execution_count": 12,
     "metadata": {},
     "output_type": "execute_result"
    }
   ],
   "source": [
    "data.read()"
   ]
  },
  {
   "cell_type": "code",
   "execution_count": 13,
   "id": "26593248-7b43-4a16-b449-7c99fa93b581",
   "metadata": {},
   "outputs": [
    {
     "data": {
      "text/plain": [
       "''"
      ]
     },
     "execution_count": 13,
     "metadata": {},
     "output_type": "execute_result"
    }
   ],
   "source": [
    "data.read()"
   ]
  },
  {
   "cell_type": "code",
   "execution_count": 14,
   "id": "88a63c2b-c0b2-4ac3-9cdd-d2cd3261eda1",
   "metadata": {},
   "outputs": [
    {
     "data": {
      "text/plain": [
       "0"
      ]
     },
     "execution_count": 14,
     "metadata": {},
     "output_type": "execute_result"
    }
   ],
   "source": [
    "data.seek(0)"
   ]
  },
  {
   "cell_type": "code",
   "execution_count": 15,
   "id": "ed2cbbb3-a1c6-4aaf-a2bc-3a2a92d53fff",
   "metadata": {},
   "outputs": [
    {
     "data": {
      "text/plain": [
       "'this is my first write operation in the filethis is my first write operation in the file'"
      ]
     },
     "execution_count": 15,
     "metadata": {},
     "output_type": "execute_result"
    }
   ],
   "source": [
    "data.read()"
   ]
  },
  {
   "cell_type": "code",
   "execution_count": 16,
   "id": "f475b514-afae-4a99-83d2-5faf4df04cd4",
   "metadata": {},
   "outputs": [
    {
     "data": {
      "text/plain": [
       "''"
      ]
     },
     "execution_count": 16,
     "metadata": {},
     "output_type": "execute_result"
    }
   ],
   "source": [
    "data.read()"
   ]
  },
  {
   "cell_type": "code",
   "execution_count": 17,
   "id": "5eb23686-546c-4874-aff8-c78a3362dd31",
   "metadata": {},
   "outputs": [
    {
     "data": {
      "text/plain": [
       "7"
      ]
     },
     "execution_count": 17,
     "metadata": {},
     "output_type": "execute_result"
    }
   ],
   "source": [
    "data.seek(7)"
   ]
  },
  {
   "cell_type": "code",
   "execution_count": 18,
   "id": "fb1b2fb8-39df-4b08-a93a-1cfdce83c57b",
   "metadata": {},
   "outputs": [
    {
     "data": {
      "text/plain": [
       "' my first write operation in the filethis is my first write operation in the file'"
      ]
     },
     "execution_count": 18,
     "metadata": {},
     "output_type": "execute_result"
    }
   ],
   "source": [
    "data.read()"
   ]
  },
  {
   "cell_type": "code",
   "execution_count": 21,
   "id": "e6503b9b-31ec-41e6-bb1d-de786ee89223",
   "metadata": {},
   "outputs": [],
   "source": [
    "data1 = open(\"test.txt\", 'r')"
   ]
  },
  {
   "cell_type": "code",
   "execution_count": 22,
   "id": "8016bb12-d256-42cc-b5c9-6010f143f036",
   "metadata": {},
   "outputs": [
    {
     "name": "stdout",
     "output_type": "stream",
     "text": [
      "this is my first write operation in the filethis is my first write operation in the file\n"
     ]
    }
   ],
   "source": [
    "for i in data1:\n",
    "    print(i)"
   ]
  },
  {
   "cell_type": "code",
   "execution_count": 23,
   "id": "fe483da7-4462-4f94-b3f6-b11a9081d707",
   "metadata": {},
   "outputs": [],
   "source": [
    "import os"
   ]
  },
  {
   "cell_type": "code",
   "execution_count": 24,
   "id": "08a115f1-3f41-4db5-a117-f8b0197ec3af",
   "metadata": {},
   "outputs": [
    {
     "data": {
      "text/plain": [
       "88"
      ]
     },
     "execution_count": 24,
     "metadata": {},
     "output_type": "execute_result"
    }
   ],
   "source": [
    "os.path.getsize(\"test.txt\")"
   ]
  },
  {
   "cell_type": "code",
   "execution_count": 25,
   "id": "5016a73d-3b5e-4e7f-bb65-2a505cc8a03d",
   "metadata": {},
   "outputs": [],
   "source": [
    "import shutil"
   ]
  },
  {
   "cell_type": "code",
   "execution_count": 26,
   "id": "b90d086c-cedf-420c-bfc0-b073cc3603fb",
   "metadata": {},
   "outputs": [
    {
     "data": {
      "text/plain": [
       "'new_test.txt'"
      ]
     },
     "execution_count": 26,
     "metadata": {},
     "output_type": "execute_result"
    }
   ],
   "source": [
    "shutil.copy(\"test.txt\", \"new_test.txt\")"
   ]
  },
  {
   "cell_type": "code",
   "execution_count": 27,
   "id": "c65ca3cb-33d2-480c-b5bb-ae576d4a6054",
   "metadata": {},
   "outputs": [],
   "source": [
    "os.remove(\"test.txt\")"
   ]
  },
  {
   "cell_type": "code",
   "execution_count": 28,
   "id": "11076368-665c-4896-975e-613af8a1f331",
   "metadata": {},
   "outputs": [
    {
     "name": "stdout",
     "output_type": "stream",
     "text": [
      "this is my first write operation in the filethis is my first write operation in the file\n"
     ]
    }
   ],
   "source": [
    "with open(\"new_test.txt\", 'r') as f:\n",
    "    print(f.read())"
   ]
  },
  {
   "cell_type": "code",
   "execution_count": 29,
   "id": "13b2b215-6671-47f4-99b0-8fd332aeb492",
   "metadata": {},
   "outputs": [],
   "source": [
    "os.rename(\"new_test.txt\", \"test1.txt\")"
   ]
  },
  {
   "cell_type": "code",
   "execution_count": 30,
   "id": "07ff5b85-e403-49ef-b43d-09675e1a814c",
   "metadata": {},
   "outputs": [],
   "source": [
    "os.remove(\"test1.txt\")"
   ]
  },
  {
   "cell_type": "code",
   "execution_count": null,
   "id": "9247a752-4477-49bc-af85-b74d261ab5fd",
   "metadata": {},
   "outputs": [],
   "source": []
  },
  {
   "cell_type": "code",
   "execution_count": null,
   "id": "c39789b6-a6e3-41bc-873d-e4545a7af597",
   "metadata": {},
   "outputs": [],
   "source": []
  },
  {
   "cell_type": "code",
   "execution_count": null,
   "id": "87d4a4d2-1c11-47b4-9005-d080dbcabdbf",
   "metadata": {},
   "outputs": [],
   "source": []
  },
  {
   "cell_type": "markdown",
   "id": "78d16a34-8753-4d20-8f35-416f650a8eb6",
   "metadata": {},
   "source": [
    "## Reading and write files"
   ]
  },
  {
   "cell_type": "code",
   "execution_count": 49,
   "id": "b309dafe-6975-42af-971c-264be4994f7b",
   "metadata": {},
   "outputs": [],
   "source": [
    "data = {\n",
    "    \"name\" : \"rony\",\n",
    "    \"mail_id\": \"rony@gmail.com\",\n",
    "    \"phone number\": 5467890,\n",
    "    \"subject\": [\"data science\", \"big data\", \"AI\"]\n",
    "}"
   ]
  },
  {
   "cell_type": "code",
   "execution_count": 50,
   "id": "d776670d-3ec0-4908-9460-28f204414a29",
   "metadata": {},
   "outputs": [],
   "source": [
    "import json"
   ]
  },
  {
   "cell_type": "code",
   "execution_count": 51,
   "id": "df31a27d-7c7b-4c87-8430-34dbec06865c",
   "metadata": {},
   "outputs": [],
   "source": [
    "with open(\"test1.json\", 'w') as f:\n",
    "    json.dump(data, f)"
   ]
  },
  {
   "cell_type": "code",
   "execution_count": 52,
   "id": "3cde4c20-652c-4054-87f8-7f0baf75a78f",
   "metadata": {},
   "outputs": [],
   "source": [
    "with open(\"test1.json\", 'r') as f:\n",
    "    json.load"
   ]
  },
  {
   "cell_type": "code",
   "execution_count": 53,
   "id": "3ffbbf10-b9e2-4f19-b83f-3745cbd68d82",
   "metadata": {},
   "outputs": [
    {
     "data": {
      "text/plain": [
       "{'name': 'rony',\n",
       " 'mail_id': 'rony@gmail.com',\n",
       " 'phone number': 5467890,\n",
       " 'subject': ['data science', 'big data', 'AI']}"
      ]
     },
     "execution_count": 53,
     "metadata": {},
     "output_type": "execute_result"
    }
   ],
   "source": [
    "data1"
   ]
  },
  {
   "cell_type": "code",
   "execution_count": 54,
   "id": "306f7880-43fc-44b5-bbde-1a454a430b53",
   "metadata": {},
   "outputs": [
    {
     "data": {
      "text/plain": [
       "'big data'"
      ]
     },
     "execution_count": 54,
     "metadata": {},
     "output_type": "execute_result"
    }
   ],
   "source": [
    "data1[\"subject\"][1]"
   ]
  },
  {
   "cell_type": "code",
   "execution_count": 55,
   "id": "ba5bae83-1893-4769-ba85-13547614b517",
   "metadata": {},
   "outputs": [],
   "source": [
    "data = [[\"name\", \"email_id\", \"number\"],\n",
    "       [\"rony\", \"rony@gmail.com\", 56789765],\n",
    "       ]"
   ]
  },
  {
   "cell_type": "code",
   "execution_count": 56,
   "id": "3fce82b5-f41e-4bdd-9f38-e5fafc73be38",
   "metadata": {},
   "outputs": [],
   "source": [
    "import csv"
   ]
  },
  {
   "cell_type": "code",
   "execution_count": 58,
   "id": "5e0f117f-e430-4cf3-aead-f9cbaa1a7e37",
   "metadata": {},
   "outputs": [],
   "source": [
    "with open(\"test3.csv\", 'w') as f:\n",
    "    w = csv.writer(f)\n",
    "    for i in data:\n",
    "        w.writerow(i)"
   ]
  },
  {
   "cell_type": "code",
   "execution_count": 61,
   "id": "97322296-409a-4d81-a530-a89b56a01afd",
   "metadata": {},
   "outputs": [
    {
     "name": "stdout",
     "output_type": "stream",
     "text": [
      "['name', 'email_id', 'number']\n",
      "['rony', 'rony@gmail.com', '56789765']\n"
     ]
    }
   ],
   "source": [
    "with open(\"test3.csv\", 'r') as f:\n",
    "    read = csv.reader(f)\n",
    "    for i in read:\n",
    "        print(i)"
   ]
  },
  {
   "cell_type": "code",
   "execution_count": 62,
   "id": "3c94f3bb-3ce4-4ed4-8b08-4007a1463507",
   "metadata": {},
   "outputs": [],
   "source": [
    "with open(\"test4.bin\", 'wb') as f:\n",
    "    f.write(b\"\\x01\\x02\\x03\")"
   ]
  },
  {
   "cell_type": "code",
   "execution_count": 64,
   "id": "7088a8d4-b72c-4f82-b741-9215d63c8742",
   "metadata": {},
   "outputs": [
    {
     "name": "stdout",
     "output_type": "stream",
     "text": [
      "b'\\x01\\x02\\x03'\n"
     ]
    }
   ],
   "source": [
    "with open(\"test4.bin\", 'rb') as f:\n",
    "    print(f.read())"
   ]
  },
  {
   "cell_type": "code",
   "execution_count": null,
   "id": "c7693cbf-4d43-49b2-8735-a68afe5508b4",
   "metadata": {},
   "outputs": [],
   "source": []
  },
  {
   "cell_type": "code",
   "execution_count": null,
   "id": "02e0a663-6585-40b8-af22-b7c7b0d026b2",
   "metadata": {},
   "outputs": [],
   "source": []
  },
  {
   "cell_type": "markdown",
   "id": "be2d7494-9f29-4c9e-822c-234ddc82d533",
   "metadata": {},
   "source": [
    "## Buffered Read and write and other file methods"
   ]
  },
  {
   "cell_type": "code",
   "execution_count": 65,
   "id": "a912f98b-8696-4409-bb58-54d8cb75bb2b",
   "metadata": {},
   "outputs": [],
   "source": [
    "import io"
   ]
  },
  {
   "cell_type": "code",
   "execution_count": 68,
   "id": "0afc7b7c-125c-4e41-a718-37f18d50546d",
   "metadata": {},
   "outputs": [],
   "source": [
    "with open(\"test.txt\", 'wb') as f:\n",
    "    file = io.BufferedWriter(f)\n",
    "    file.write(b\"this is my buffer write\\n\")\n",
    "    file.write(b\"this is my second line that i am trying to write\")\n",
    "    file.flush()"
   ]
  },
  {
   "cell_type": "code",
   "execution_count": 69,
   "id": "2f5aeeed-fa07-4eab-8249-8fddd26c144b",
   "metadata": {},
   "outputs": [
    {
     "name": "stdout",
     "output_type": "stream",
     "text": [
      "b'this is my buffer write\\nthis is my second line that i am trying to write'\n"
     ]
    }
   ],
   "source": [
    "with open(\"test.txt\", 'rb') as f:\n",
    "    file = io.BufferedReader(f)\n",
    "    data = file.read()\n",
    "    print(data)"
   ]
  },
  {
   "cell_type": "code",
   "execution_count": 71,
   "id": "4ceda6f0-53ba-4d25-84c0-b78091a05dfa",
   "metadata": {},
   "outputs": [
    {
     "name": "stdout",
     "output_type": "stream",
     "text": [
      "b'this is my buffer'\n"
     ]
    }
   ],
   "source": [
    "with open(\"test.txt\", 'rb') as f:\n",
    "    file = io.BufferedReader(f)\n",
    "    data = file.read(17)\n",
    "    print(data)"
   ]
  },
  {
   "cell_type": "code",
   "execution_count": null,
   "id": "06f8bf8f-e379-4562-9345-84aafec3fd67",
   "metadata": {
    "jupyter": {
     "source_hidden": true
    },
    "tags": []
   },
   "outputs": [],
   "source": []
  },
  {
   "cell_type": "code",
   "execution_count": null,
   "id": "39a04fed-0ff9-4f69-ae33-4b516aa2fe6d",
   "metadata": {},
   "outputs": [],
   "source": []
  },
  {
   "cell_type": "markdown",
   "id": "9578c84e-8306-442e-b67c-2a8a69257f5e",
   "metadata": {},
   "source": [
    "## Logging & Debugger"
   ]
  },
  {
   "cell_type": "code",
   "execution_count": 1,
   "id": "77139161-b671-4ce5-9fce-7ffaec1320cb",
   "metadata": {},
   "outputs": [
    {
     "name": "stdout",
     "output_type": "stream",
     "text": [
      "this is my print statement\n"
     ]
    }
   ],
   "source": [
    "print(\"this is my print statement\")"
   ]
  },
  {
   "cell_type": "code",
   "execution_count": 12,
   "id": "f8f746cf-fefa-4643-b888-722a3c9550fe",
   "metadata": {},
   "outputs": [],
   "source": [
    "import logging"
   ]
  },
  {
   "cell_type": "code",
   "execution_count": 3,
   "id": "ad2576ec-e69d-41ad-88d0-8266307fe74c",
   "metadata": {},
   "outputs": [],
   "source": [
    "logging.basicConfig(filename = \"test.log\", level = logging.INFO)"
   ]
  },
  {
   "cell_type": "code",
   "execution_count": 4,
   "id": "c772a92a-391a-4d75-b846-b97ae37e6671",
   "metadata": {},
   "outputs": [],
   "source": [
    "logging.info(\"this is my line of execution\")"
   ]
  },
  {
   "cell_type": "code",
   "execution_count": 5,
   "id": "adb8df30-0183-4401-aab1-d7e3450360c7",
   "metadata": {},
   "outputs": [],
   "source": [
    "logging.error(\"this is my error\")"
   ]
  },
  {
   "cell_type": "code",
   "execution_count": 6,
   "id": "6016128c-4463-41e7-ae64-3d638496dd80",
   "metadata": {},
   "outputs": [],
   "source": [
    "logging.critical(\"this is my critical\")"
   ]
  },
  {
   "cell_type": "code",
   "execution_count": 7,
   "id": "4dbe30a9-f117-4227-8b52-2d58b2abe93a",
   "metadata": {},
   "outputs": [],
   "source": [
    "logging.warning(\"this is my warning\")"
   ]
  },
  {
   "cell_type": "code",
   "execution_count": 8,
   "id": "f11ebc51-a503-4409-bce7-9e9c27a1006b",
   "metadata": {},
   "outputs": [],
   "source": [
    "logging.debug(\"this is my info related to debug\")"
   ]
  },
  {
   "cell_type": "code",
   "execution_count": 9,
   "id": "6dd0cd95-eb65-4066-8b30-a35b391e5169",
   "metadata": {},
   "outputs": [
    {
     "ename": "AttributeError",
     "evalue": "module 'logging' has no attribute 'noset'",
     "output_type": "error",
     "traceback": [
      "\u001b[0;31m---------------------------------------------------------------------------\u001b[0m",
      "\u001b[0;31mAttributeError\u001b[0m                            Traceback (most recent call last)",
      "Cell \u001b[0;32mIn[9], line 1\u001b[0m\n\u001b[0;32m----> 1\u001b[0m \u001b[43mlogging\u001b[49m\u001b[38;5;241;43m.\u001b[39;49m\u001b[43mnoset\u001b[49m(\u001b[38;5;124m\"\u001b[39m\u001b[38;5;124mthis is my no set related \u001b[39m\u001b[38;5;124m\"\u001b[39m)\n",
      "\u001b[0;31mAttributeError\u001b[0m: module 'logging' has no attribute 'noset'"
     ]
    }
   ],
   "source": [
    "logging.noset(\"this is my no set related \")"
   ]
  },
  {
   "cell_type": "code",
   "execution_count": 10,
   "id": "f0cda99d-f2f5-44ea-8afa-ca103570d762",
   "metadata": {},
   "outputs": [],
   "source": [
    "logging.shutdown()"
   ]
  },
  {
   "cell_type": "code",
   "execution_count": 13,
   "id": "43b73eb2-f829-4f75-8a73-fc85aa6c8dd8",
   "metadata": {},
   "outputs": [],
   "source": [
    "logging.basicConfig(filename = \"test1.log\", level = logging.DEBUG, format = '%(asctime)s %(message)s')"
   ]
  },
  {
   "cell_type": "code",
   "execution_count": 17,
   "id": "60434693-f48d-408f-8730-0266e9fdfbd4",
   "metadata": {},
   "outputs": [],
   "source": [
    "import logging"
   ]
  },
  {
   "cell_type": "code",
   "execution_count": 18,
   "id": "77b67e40-38a8-4933-b7da-0d9527f8dc3e",
   "metadata": {},
   "outputs": [],
   "source": [
    "logging.basicConfig(filename = \"test1.log\", level = logging.DEBUG, format = '%(asctime)s %(message)s')"
   ]
  },
  {
   "cell_type": "code",
   "execution_count": 19,
   "id": "b6fff865-c33a-420a-ac2a-580a1da1ac24",
   "metadata": {},
   "outputs": [],
   "source": [
    "logging.basicConfig(filename = \"test3.log\", level = logging.DEBUG, format = '%(asctime)s %(name)s %(levelname)s %(message)s')"
   ]
  },
  {
   "cell_type": "code",
   "execution_count": 20,
   "id": "7fd2b765-aa89-4ac6-abe6-a92557ef664a",
   "metadata": {},
   "outputs": [],
   "source": [
    "l = [1,2,3,4,[5,6,7], \"rony\", \"mahfuz\"]"
   ]
  },
  {
   "cell_type": "code",
   "execution_count": 27,
   "id": "00f9efef-adb2-46be-b7d2-90770f97ecbd",
   "metadata": {},
   "outputs": [],
   "source": [
    "l1_int = []\n",
    "l2_str = []\n",
    "for i in l:\n",
    "    logging.info(\"this is the start of my first for loop{}\".format(l))\n",
    "    logging.info(\"this is the value of i am logging {}\".format(i))\n",
    "    if type(i)==list:\n",
    "        for j in i:\n",
    "            logging.info(\"loggin my j {j} and i is {i}\".format(i = i, j = j))\n",
    "            if type(j)==int:\n",
    "                l1_int.append(j)\n",
    "    elif type(i)==int:\n",
    "        l1_int.append(i)\n",
    "        \n",
    "    else:\n",
    "        if type(i) == str:\n",
    "            l2_str.append(i)\n",
    "            \n",
    "logging.info(\"this is my final result  with all int{l1}, with all str{l2}\".format(l1=l1_int, l2 = l2_str))"
   ]
  },
  {
   "cell_type": "code",
   "execution_count": 28,
   "id": "5107409e-ba94-483d-ae7b-fb50fcc39029",
   "metadata": {},
   "outputs": [
    {
     "data": {
      "text/plain": [
       "[1, 2, 3, 4, 5, 6, 7]"
      ]
     },
     "execution_count": 28,
     "metadata": {},
     "output_type": "execute_result"
    }
   ],
   "source": [
    "l1_int"
   ]
  },
  {
   "cell_type": "code",
   "execution_count": 29,
   "id": "3b5efeed-2c6f-45b6-8b2c-09a0eb20416f",
   "metadata": {},
   "outputs": [
    {
     "data": {
      "text/plain": [
       "['rony', 'mahfuz']"
      ]
     },
     "execution_count": 29,
     "metadata": {},
     "output_type": "execute_result"
    }
   ],
   "source": [
    "l2_str"
   ]
  },
  {
   "cell_type": "code",
   "execution_count": null,
   "id": "41d344bf-7689-4293-b352-b0087db94ddd",
   "metadata": {},
   "outputs": [],
   "source": []
  },
  {
   "cell_type": "code",
   "execution_count": null,
   "id": "79ad21ee-7933-4fe4-b979-6b2f57823f7a",
   "metadata": {},
   "outputs": [],
   "source": []
  },
  {
   "cell_type": "markdown",
   "id": "eec4d650-e766-4cd5-9ab0-36a2baddc8e5",
   "metadata": {},
   "source": [
    "## Modules and Import Statements"
   ]
  },
  {
   "cell_type": "code",
   "execution_count": null,
   "id": "b8f9508d-8552-441a-8cc7-48a78c41533e",
   "metadata": {},
   "outputs": [],
   "source": []
  }
 ],
 "metadata": {
  "kernelspec": {
   "display_name": "Python 3 (ipykernel)",
   "language": "python",
   "name": "python3"
  },
  "language_info": {
   "codemirror_mode": {
    "name": "ipython",
    "version": 3
   },
   "file_extension": ".py",
   "mimetype": "text/x-python",
   "name": "python",
   "nbconvert_exporter": "python",
   "pygments_lexer": "ipython3",
   "version": "3.10.8"
  }
 },
 "nbformat": 4,
 "nbformat_minor": 5
}
